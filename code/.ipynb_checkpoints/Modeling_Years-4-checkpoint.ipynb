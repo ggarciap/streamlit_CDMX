{
 "cells": [
  {
   "cell_type": "code",
   "execution_count": 75,
   "metadata": {},
   "outputs": [],
   "source": [
    "import pandas as pd\n",
    "import numpy as np \n",
    "import seaborn as sns \n",
    "import matplotlib.pyplot as plt"
   ]
  },
  {
   "cell_type": "code",
   "execution_count": 76,
   "metadata": {},
   "outputs": [],
   "source": [
    "from sklearn.model_selection import train_test_split, StratifiedKFold, GridSearchCV\n",
    "from sklearn.preprocessing import StandardScaler\n",
    "import sklearn.metrics as metrics\n",
    "from sklearn.linear_model import LogisticRegression\n",
    "from sklearn.ensemble import RandomForestClassifier\n",
    "from imblearn.over_sampling import SMOTE, SMOTENC\n",
    "from imblearn.pipeline import Pipeline\n",
    "from sklearn.model_selection import GridSearchCV\n",
    "from sklearn.utils import class_weight\n",
    "from sklearn.cluster import KMeans, MiniBatchKMeans\n",
    "from sklearn.decomposition import PCA"
   ]
  },
  {
   "cell_type": "code",
   "execution_count": 77,
   "metadata": {},
   "outputs": [],
   "source": [
    "from sklearn.dummy import DummyClassifier"
   ]
  },
  {
   "cell_type": "code",
   "execution_count": 78,
   "metadata": {},
   "outputs": [],
   "source": [
    "import xgboost as xgb"
   ]
  },
  {
   "cell_type": "code",
   "execution_count": 79,
   "metadata": {},
   "outputs": [],
   "source": [
    "from hyperopt import STATUS_OK, Trials, fmin, hp, tpe"
   ]
  },
  {
   "cell_type": "code",
   "execution_count": 80,
   "metadata": {},
   "outputs": [],
   "source": [
    "df = pd.read_csv('../data/master_modeling_years-2.csv')\n",
    "mb_stations = pd.read_csv('../data/estaciones-metrobus0.csv')"
   ]
  },
  {
   "cell_type": "code",
   "execution_count": 81,
   "metadata": {},
   "outputs": [],
   "source": [
    "df.rename(columns={\"nearest_mb\": \"nombre\"}, inplace=True)\n",
    "df = pd.merge(df, mb_stations)\n",
    "df['latitud_mb'] = df['Geo Point'].apply(lambda x: float(x.split(',')[0]))\n",
    "df['longitud_mb'] = df['Geo Point'].apply(lambda x: float(x.split(',')[1]))"
   ]
  },
  {
   "cell_type": "code",
   "execution_count": 82,
   "metadata": {},
   "outputs": [
    {
     "data": {
      "text/html": [
       "<div>\n",
       "<style scoped>\n",
       "    .dataframe tbody tr th:only-of-type {\n",
       "        vertical-align: middle;\n",
       "    }\n",
       "\n",
       "    .dataframe tbody tr th {\n",
       "        vertical-align: top;\n",
       "    }\n",
       "\n",
       "    .dataframe thead th {\n",
       "        text-align: right;\n",
       "    }\n",
       "</style>\n",
       "<table border=\"1\" class=\"dataframe\">\n",
       "  <thead>\n",
       "    <tr style=\"text-align: right;\">\n",
       "      <th></th>\n",
       "      <th>mes_hechos</th>\n",
       "      <th>fecha_hechos</th>\n",
       "      <th>delito</th>\n",
       "      <th>categoria_delito</th>\n",
       "      <th>colonia_hechos</th>\n",
       "      <th>alcaldia_hechos</th>\n",
       "      <th>fecha_inicio</th>\n",
       "      <th>calle_hechos</th>\n",
       "      <th>longitud</th>\n",
       "      <th>latitud</th>\n",
       "      <th>...</th>\n",
       "      <th>dist_km</th>\n",
       "      <th>manhattan_dist</th>\n",
       "      <th>bearing</th>\n",
       "      <th>geo_hash_crime</th>\n",
       "      <th>geo_hash_mb</th>\n",
       "      <th>Geo Point</th>\n",
       "      <th>Geo Shape</th>\n",
       "      <th>linea</th>\n",
       "      <th>latitud_mb</th>\n",
       "      <th>longitud_mb</th>\n",
       "    </tr>\n",
       "  </thead>\n",
       "  <tbody>\n",
       "    <tr>\n",
       "      <th>0</th>\n",
       "      <td>Mayo</td>\n",
       "      <td>2018-05-21 20:40:00</td>\n",
       "      <td>ROBO A TRANSEUNTE DE CELULAR CON VIOLENCIA</td>\n",
       "      <td>DELITO DE BAJO IMPACTO</td>\n",
       "      <td>INFONAVIT IZTACALCO</td>\n",
       "      <td>IZTACALCO</td>\n",
       "      <td>2018-05-22 10:52:18</td>\n",
       "      <td>FRANCISCO DEL PASO Y TRONCOSO</td>\n",
       "      <td>-99.111563</td>\n",
       "      <td>19.386594</td>\n",
       "      <td>...</td>\n",
       "      <td>0.03</td>\n",
       "      <td>0.040434</td>\n",
       "      <td>-160.877039</td>\n",
       "      <td>9g3w29jp</td>\n",
       "      <td>9g3w29jj</td>\n",
       "      <td>19.38632392,-99.1116619153</td>\n",
       "      <td>{\"type\": \"Point\", \"coordinates\": [-99.11166191...</td>\n",
       "      <td>5</td>\n",
       "      <td>19.386324</td>\n",
       "      <td>-99.111662</td>\n",
       "    </tr>\n",
       "    <tr>\n",
       "      <th>1</th>\n",
       "      <td>Agosto</td>\n",
       "      <td>2017-08-22 15:00:00</td>\n",
       "      <td>ROBO A TRANSEUNTE DE CELULAR CON VIOLENCIA</td>\n",
       "      <td>DELITO DE BAJO IMPACTO</td>\n",
       "      <td>INFONAVIT IZTACALCO</td>\n",
       "      <td>IZTACALCO</td>\n",
       "      <td>2017-08-24 15:36:43</td>\n",
       "      <td>PENINSULA</td>\n",
       "      <td>-99.111824</td>\n",
       "      <td>19.387331</td>\n",
       "      <td>...</td>\n",
       "      <td>0.11</td>\n",
       "      <td>0.128945</td>\n",
       "      <td>171.385922</td>\n",
       "      <td>9g3w29kg</td>\n",
       "      <td>9g3w29jj</td>\n",
       "      <td>19.38632392,-99.1116619153</td>\n",
       "      <td>{\"type\": \"Point\", \"coordinates\": [-99.11166191...</td>\n",
       "      <td>5</td>\n",
       "      <td>19.386324</td>\n",
       "      <td>-99.111662</td>\n",
       "    </tr>\n",
       "    <tr>\n",
       "      <th>2</th>\n",
       "      <td>Septiembre</td>\n",
       "      <td>2017-09-12 20:55:00</td>\n",
       "      <td>ROBO A TRANSEUNTE DE CELULAR CON VIOLENCIA</td>\n",
       "      <td>DELITO DE BAJO IMPACTO</td>\n",
       "      <td>INFONAVIT IZTACALCO</td>\n",
       "      <td>IZTACALCO</td>\n",
       "      <td>2017-09-12 21:38:08</td>\n",
       "      <td>AVENIDA FRANCISCO DEL PASO Y TRONCOSO</td>\n",
       "      <td>-99.111670</td>\n",
       "      <td>19.386555</td>\n",
       "      <td>...</td>\n",
       "      <td>0.03</td>\n",
       "      <td>0.026577</td>\n",
       "      <td>177.994133</td>\n",
       "      <td>9g3w29jn</td>\n",
       "      <td>9g3w29jj</td>\n",
       "      <td>19.38632392,-99.1116619153</td>\n",
       "      <td>{\"type\": \"Point\", \"coordinates\": [-99.11166191...</td>\n",
       "      <td>5</td>\n",
       "      <td>19.386324</td>\n",
       "      <td>-99.111662</td>\n",
       "    </tr>\n",
       "    <tr>\n",
       "      <th>3</th>\n",
       "      <td>Diciembre</td>\n",
       "      <td>2018-12-29 19:50:00</td>\n",
       "      <td>ROBO A TRANSEUNTE DE CELULAR CON VIOLENCIA</td>\n",
       "      <td>DELITO DE BAJO IMPACTO</td>\n",
       "      <td>CAMPAMENTO 2 DE OCTUBRE</td>\n",
       "      <td>IZTACALCO</td>\n",
       "      <td>2018-12-29 21:58:33</td>\n",
       "      <td>PABLO ALVARADO</td>\n",
       "      <td>-99.112752</td>\n",
       "      <td>19.386661</td>\n",
       "      <td>...</td>\n",
       "      <td>0.12</td>\n",
       "      <td>0.151897</td>\n",
       "      <td>108.164933</td>\n",
       "      <td>9g3w29hr</td>\n",
       "      <td>9g3w29jj</td>\n",
       "      <td>19.38632392,-99.1116619153</td>\n",
       "      <td>{\"type\": \"Point\", \"coordinates\": [-99.11166191...</td>\n",
       "      <td>5</td>\n",
       "      <td>19.386324</td>\n",
       "      <td>-99.111662</td>\n",
       "    </tr>\n",
       "    <tr>\n",
       "      <th>4</th>\n",
       "      <td>Noviembre</td>\n",
       "      <td>2018-11-28 17:30:00</td>\n",
       "      <td>ROBO A TRANSEUNTE DE CELULAR CON VIOLENCIA</td>\n",
       "      <td>DELITO DE BAJO IMPACTO</td>\n",
       "      <td>CAMPAMENTO 2 DE OCTUBRE</td>\n",
       "      <td>IZTACALCO</td>\n",
       "      <td>2018-11-29 10:56:21</td>\n",
       "      <td>2 DE AGOSTO</td>\n",
       "      <td>-99.113661</td>\n",
       "      <td>19.386001</td>\n",
       "      <td>...</td>\n",
       "      <td>0.21</td>\n",
       "      <td>0.245526</td>\n",
       "      <td>80.287102</td>\n",
       "      <td>9g3w295e</td>\n",
       "      <td>9g3w29jj</td>\n",
       "      <td>19.38632392,-99.1116619153</td>\n",
       "      <td>{\"type\": \"Point\", \"coordinates\": [-99.11166191...</td>\n",
       "      <td>5</td>\n",
       "      <td>19.386324</td>\n",
       "      <td>-99.111662</td>\n",
       "    </tr>\n",
       "    <tr>\n",
       "      <th>5</th>\n",
       "      <td>Julio</td>\n",
       "      <td>2016-07-15 17:00:00</td>\n",
       "      <td>ROBO DE OBJETOS</td>\n",
       "      <td>DELITO DE BAJO IMPACTO</td>\n",
       "      <td>CAMPAMENTO 2 DE OCTUBRE</td>\n",
       "      <td>IZTACALCO</td>\n",
       "      <td>2016-07-16 11:40:35</td>\n",
       "      <td>CHE GUEVARA</td>\n",
       "      <td>-99.113596</td>\n",
       "      <td>19.386798</td>\n",
       "      <td>...</td>\n",
       "      <td>0.21</td>\n",
       "      <td>0.255611</td>\n",
       "      <td>104.579166</td>\n",
       "      <td>9g3w2978</td>\n",
       "      <td>9g3w29jj</td>\n",
       "      <td>19.38632392,-99.1116619153</td>\n",
       "      <td>{\"type\": \"Point\", \"coordinates\": [-99.11166191...</td>\n",
       "      <td>5</td>\n",
       "      <td>19.386324</td>\n",
       "      <td>-99.111662</td>\n",
       "    </tr>\n",
       "    <tr>\n",
       "      <th>6</th>\n",
       "      <td>Agosto</td>\n",
       "      <td>2017-08-18 00:30:00</td>\n",
       "      <td>ROBO A PASAJERO / CONDUCTOR DE TAXI CON VIOLENCIA</td>\n",
       "      <td>DELITO DE BAJO IMPACTO</td>\n",
       "      <td>INFONAVIT IZTACALCO</td>\n",
       "      <td>IZTACALCO</td>\n",
       "      <td>2017-08-18 01:49:18</td>\n",
       "      <td>EJE 3 OTE. FRANCISCO DEL PASO Y TRONCOSO</td>\n",
       "      <td>-99.111915</td>\n",
       "      <td>19.387749</td>\n",
       "      <td>...</td>\n",
       "      <td>0.16</td>\n",
       "      <td>0.184966</td>\n",
       "      <td>170.490365</td>\n",
       "      <td>9g3w29kv</td>\n",
       "      <td>9g3w29jj</td>\n",
       "      <td>19.38632392,-99.1116619153</td>\n",
       "      <td>{\"type\": \"Point\", \"coordinates\": [-99.11166191...</td>\n",
       "      <td>5</td>\n",
       "      <td>19.386324</td>\n",
       "      <td>-99.111662</td>\n",
       "    </tr>\n",
       "    <tr>\n",
       "      <th>7</th>\n",
       "      <td>Febrero</td>\n",
       "      <td>2018-02-09 14:45:00</td>\n",
       "      <td>ROBO A TRANSEUNTE DE CELULAR CON VIOLENCIA</td>\n",
       "      <td>DELITO DE BAJO IMPACTO</td>\n",
       "      <td>INFONAVIT IZTACALCO</td>\n",
       "      <td>IZTACALCO</td>\n",
       "      <td>2018-02-10 21:56:44</td>\n",
       "      <td>ISLA</td>\n",
       "      <td>-99.111478</td>\n",
       "      <td>19.386590</td>\n",
       "      <td>...</td>\n",
       "      <td>0.04</td>\n",
       "      <td>0.048858</td>\n",
       "      <td>-146.915978</td>\n",
       "      <td>9g3w29jp</td>\n",
       "      <td>9g3w29jj</td>\n",
       "      <td>19.38632392,-99.1116619153</td>\n",
       "      <td>{\"type\": \"Point\", \"coordinates\": [-99.11166191...</td>\n",
       "      <td>5</td>\n",
       "      <td>19.386324</td>\n",
       "      <td>-99.111662</td>\n",
       "    </tr>\n",
       "    <tr>\n",
       "      <th>8</th>\n",
       "      <td>Noviembre</td>\n",
       "      <td>2018-11-28 14:00:00</td>\n",
       "      <td>ROBO A TRANSEUNTE DE CELULAR CON VIOLENCIA</td>\n",
       "      <td>DELITO DE BAJO IMPACTO</td>\n",
       "      <td>INFONAVIT IZTACALCO</td>\n",
       "      <td>IZTACALCO</td>\n",
       "      <td>2018-11-29 22:05:26</td>\n",
       "      <td>AVENIDA FRANCISCO DEL PASO Y TRONCOSO</td>\n",
       "      <td>-99.111881</td>\n",
       "      <td>19.386518</td>\n",
       "      <td>...</td>\n",
       "      <td>0.03</td>\n",
       "      <td>0.044553</td>\n",
       "      <td>133.113722</td>\n",
       "      <td>9g3w29hy</td>\n",
       "      <td>9g3w29jj</td>\n",
       "      <td>19.38632392,-99.1116619153</td>\n",
       "      <td>{\"type\": \"Point\", \"coordinates\": [-99.11166191...</td>\n",
       "      <td>5</td>\n",
       "      <td>19.386324</td>\n",
       "      <td>-99.111662</td>\n",
       "    </tr>\n",
       "    <tr>\n",
       "      <th>9</th>\n",
       "      <td>Diciembre</td>\n",
       "      <td>2017-12-17 11:00:00</td>\n",
       "      <td>ROBO A PASAJERO A BORDO DE TRANSPORTE PÚBLICO ...</td>\n",
       "      <td>DELITO DE BAJO IMPACTO</td>\n",
       "      <td>INFONAVIT IZTACALCO</td>\n",
       "      <td>IZTACALCO</td>\n",
       "      <td>2017-12-19 19:34:59</td>\n",
       "      <td>EJE 3 OTE.</td>\n",
       "      <td>-99.111956</td>\n",
       "      <td>19.388097</td>\n",
       "      <td>...</td>\n",
       "      <td>0.20</td>\n",
       "      <td>0.227958</td>\n",
       "      <td>171.115854</td>\n",
       "      <td>9g3w29kz</td>\n",
       "      <td>9g3w29jj</td>\n",
       "      <td>19.38632392,-99.1116619153</td>\n",
       "      <td>{\"type\": \"Point\", \"coordinates\": [-99.11166191...</td>\n",
       "      <td>5</td>\n",
       "      <td>19.386324</td>\n",
       "      <td>-99.111662</td>\n",
       "    </tr>\n",
       "    <tr>\n",
       "      <th>10</th>\n",
       "      <td>Mayo</td>\n",
       "      <td>2016-05-16 09:20:00</td>\n",
       "      <td>ROBO DE OBJETOS</td>\n",
       "      <td>DELITO DE BAJO IMPACTO</td>\n",
       "      <td>INFONAVIT IZTACALCO</td>\n",
       "      <td>IZTACALCO</td>\n",
       "      <td>2016-05-16 11:01:26</td>\n",
       "      <td>PROLONGACION FCO DEL PASO Y TRONCOSO</td>\n",
       "      <td>-99.111894</td>\n",
       "      <td>19.387899</td>\n",
       "      <td>...</td>\n",
       "      <td>0.18</td>\n",
       "      <td>0.199484</td>\n",
       "      <td>172.086953</td>\n",
       "      <td>9g3w29ky</td>\n",
       "      <td>9g3w29jj</td>\n",
       "      <td>19.38632392,-99.1116619153</td>\n",
       "      <td>{\"type\": \"Point\", \"coordinates\": [-99.11166191...</td>\n",
       "      <td>5</td>\n",
       "      <td>19.386324</td>\n",
       "      <td>-99.111662</td>\n",
       "    </tr>\n",
       "    <tr>\n",
       "      <th>11</th>\n",
       "      <td>Junio</td>\n",
       "      <td>2018-06-15 11:20:00</td>\n",
       "      <td>ROBO DE OBJETOS</td>\n",
       "      <td>DELITO DE BAJO IMPACTO</td>\n",
       "      <td>CAMPAMENTO 2 DE OCTUBRE</td>\n",
       "      <td>IZTACALCO</td>\n",
       "      <td>2018-06-20 09:51:39</td>\n",
       "      <td>MIGUEL GARCIA</td>\n",
       "      <td>-99.112931</td>\n",
       "      <td>19.387741</td>\n",
       "      <td>...</td>\n",
       "      <td>0.21</td>\n",
       "      <td>0.290702</td>\n",
       "      <td>139.797310</td>\n",
       "      <td>9g3w29kj</td>\n",
       "      <td>9g3w29jj</td>\n",
       "      <td>19.38632392,-99.1116619153</td>\n",
       "      <td>{\"type\": \"Point\", \"coordinates\": [-99.11166191...</td>\n",
       "      <td>5</td>\n",
       "      <td>19.386324</td>\n",
       "      <td>-99.111662</td>\n",
       "    </tr>\n",
       "    <tr>\n",
       "      <th>12</th>\n",
       "      <td>Junio</td>\n",
       "      <td>2018-06-16 05:30:00</td>\n",
       "      <td>ROBO A TRANSEUNTE DE CELULAR CON VIOLENCIA</td>\n",
       "      <td>DELITO DE BAJO IMPACTO</td>\n",
       "      <td>INFONAVIT IZTACALCO</td>\n",
       "      <td>IZTACALCO</td>\n",
       "      <td>2018-06-16 19:10:55</td>\n",
       "      <td>EJE 3 FRANCISCO DL PASO Y TRONCOSO</td>\n",
       "      <td>-99.111691</td>\n",
       "      <td>19.386863</td>\n",
       "      <td>...</td>\n",
       "      <td>0.06</td>\n",
       "      <td>0.063015</td>\n",
       "      <td>177.082935</td>\n",
       "      <td>9g3w29m0</td>\n",
       "      <td>9g3w29jj</td>\n",
       "      <td>19.38632392,-99.1116619153</td>\n",
       "      <td>{\"type\": \"Point\", \"coordinates\": [-99.11166191...</td>\n",
       "      <td>5</td>\n",
       "      <td>19.386324</td>\n",
       "      <td>-99.111662</td>\n",
       "    </tr>\n",
       "    <tr>\n",
       "      <th>13</th>\n",
       "      <td>Mayo</td>\n",
       "      <td>2018-05-25 14:00:00</td>\n",
       "      <td>ROBO A TRANSEUNTE DE CELULAR CON VIOLENCIA</td>\n",
       "      <td>DELITO DE BAJO IMPACTO</td>\n",
       "      <td>INFONAVIT IZTACALCO</td>\n",
       "      <td>IZTACALCO</td>\n",
       "      <td>2018-05-28 19:53:46</td>\n",
       "      <td>EJE TRES ORIENTE</td>\n",
       "      <td>-99.111958</td>\n",
       "      <td>19.388103</td>\n",
       "      <td>...</td>\n",
       "      <td>0.20</td>\n",
       "      <td>0.228862</td>\n",
       "      <td>171.078503</td>\n",
       "      <td>9g3w29kz</td>\n",
       "      <td>9g3w29jj</td>\n",
       "      <td>19.38632392,-99.1116619153</td>\n",
       "      <td>{\"type\": \"Point\", \"coordinates\": [-99.11166191...</td>\n",
       "      <td>5</td>\n",
       "      <td>19.386324</td>\n",
       "      <td>-99.111662</td>\n",
       "    </tr>\n",
       "    <tr>\n",
       "      <th>14</th>\n",
       "      <td>Junio</td>\n",
       "      <td>2018-06-27 00:58:00</td>\n",
       "      <td>ROBO DE OBJETOS</td>\n",
       "      <td>DELITO DE BAJO IMPACTO</td>\n",
       "      <td>CAMPAMENTO 2 DE OCTUBRE</td>\n",
       "      <td>IZTACALCO</td>\n",
       "      <td>2018-07-04 14:03:26</td>\n",
       "      <td>PABLO ALVARADO (EL SISTEMA NO DEJA GEOREFERENC...</td>\n",
       "      <td>-99.113128</td>\n",
       "      <td>19.386763</td>\n",
       "      <td>...</td>\n",
       "      <td>0.16</td>\n",
       "      <td>0.202542</td>\n",
       "      <td>107.616616</td>\n",
       "      <td>9g3w29k0</td>\n",
       "      <td>9g3w29jj</td>\n",
       "      <td>19.38632392,-99.1116619153</td>\n",
       "      <td>{\"type\": \"Point\", \"coordinates\": [-99.11166191...</td>\n",
       "      <td>5</td>\n",
       "      <td>19.386324</td>\n",
       "      <td>-99.111662</td>\n",
       "    </tr>\n",
       "    <tr>\n",
       "      <th>15</th>\n",
       "      <td>Septiembre</td>\n",
       "      <td>2018-09-08 06:26:00</td>\n",
       "      <td>ROBO A TRANSEUNTE EN NEGOCIO CON VIOLENCIA</td>\n",
       "      <td>DELITO DE BAJO IMPACTO</td>\n",
       "      <td>INFONAVIT IZTACALCO</td>\n",
       "      <td>IZTACALCO</td>\n",
       "      <td>2018-09-08 20:12:11</td>\n",
       "      <td>AV. CANAL DE TEZONTLE</td>\n",
       "      <td>-99.109736</td>\n",
       "      <td>19.388069</td>\n",
       "      <td>...</td>\n",
       "      <td>0.28</td>\n",
       "      <td>0.396019</td>\n",
       "      <td>-133.838802</td>\n",
       "      <td>9g3w29qr</td>\n",
       "      <td>9g3w29jj</td>\n",
       "      <td>19.38632392,-99.1116619153</td>\n",
       "      <td>{\"type\": \"Point\", \"coordinates\": [-99.11166191...</td>\n",
       "      <td>5</td>\n",
       "      <td>19.386324</td>\n",
       "      <td>-99.111662</td>\n",
       "    </tr>\n",
       "    <tr>\n",
       "      <th>16</th>\n",
       "      <td>Septiembre</td>\n",
       "      <td>2018-09-07 11:04:00</td>\n",
       "      <td>ROBO DE OBJETOS</td>\n",
       "      <td>DELITO DE BAJO IMPACTO</td>\n",
       "      <td>INFONAVIT IZTACALCO</td>\n",
       "      <td>IZTACALCO</td>\n",
       "      <td>2018-09-11 14:39:51</td>\n",
       "      <td>CANAL DE TEZONTLE</td>\n",
       "      <td>-99.111958</td>\n",
       "      <td>19.388101</td>\n",
       "      <td>...</td>\n",
       "      <td>0.20</td>\n",
       "      <td>0.228699</td>\n",
       "      <td>171.068935</td>\n",
       "      <td>9g3w29kz</td>\n",
       "      <td>9g3w29jj</td>\n",
       "      <td>19.38632392,-99.1116619153</td>\n",
       "      <td>{\"type\": \"Point\", \"coordinates\": [-99.11166191...</td>\n",
       "      <td>5</td>\n",
       "      <td>19.386324</td>\n",
       "      <td>-99.111662</td>\n",
       "    </tr>\n",
       "    <tr>\n",
       "      <th>17</th>\n",
       "      <td>Enero</td>\n",
       "      <td>2019-01-28 03:30:00</td>\n",
       "      <td>ROBO DE ACCESORIOS DE AUTO</td>\n",
       "      <td>DELITO DE BAJO IMPACTO</td>\n",
       "      <td>CAMPAMENTO 2 DE OCTUBRE</td>\n",
       "      <td>IZTACALCO</td>\n",
       "      <td>2019-01-28 4:08:57</td>\n",
       "      <td>MIGUEL GARCIA GARCIA</td>\n",
       "      <td>-99.113380</td>\n",
       "      <td>19.385332</td>\n",
       "      <td>...</td>\n",
       "      <td>0.21</td>\n",
       "      <td>0.290512</td>\n",
       "      <td>58.517500</td>\n",
       "      <td>9g3w28gz</td>\n",
       "      <td>9g3w29jj</td>\n",
       "      <td>19.38632392,-99.1116619153</td>\n",
       "      <td>{\"type\": \"Point\", \"coordinates\": [-99.11166191...</td>\n",
       "      <td>5</td>\n",
       "      <td>19.386324</td>\n",
       "      <td>-99.111662</td>\n",
       "    </tr>\n",
       "    <tr>\n",
       "      <th>18</th>\n",
       "      <td>Enero</td>\n",
       "      <td>2019-01-25 02:08:00</td>\n",
       "      <td>ROBO DE OBJETOS</td>\n",
       "      <td>DELITO DE BAJO IMPACTO</td>\n",
       "      <td>INFONAVIT IZTACALCO</td>\n",
       "      <td>IZTACALCO</td>\n",
       "      <td>2019-01-30 10:22:14</td>\n",
       "      <td>AVENIDA CANAL DE TEZONTLE</td>\n",
       "      <td>-99.109396</td>\n",
       "      <td>19.387828</td>\n",
       "      <td>...</td>\n",
       "      <td>0.29</td>\n",
       "      <td>0.404840</td>\n",
       "      <td>-125.128321</td>\n",
       "      <td>9g3w29qw</td>\n",
       "      <td>9g3w29jj</td>\n",
       "      <td>19.38632392,-99.1116619153</td>\n",
       "      <td>{\"type\": \"Point\", \"coordinates\": [-99.11166191...</td>\n",
       "      <td>5</td>\n",
       "      <td>19.386324</td>\n",
       "      <td>-99.111662</td>\n",
       "    </tr>\n",
       "    <tr>\n",
       "      <th>19</th>\n",
       "      <td>Enero</td>\n",
       "      <td>2019-01-20 15:45:00</td>\n",
       "      <td>ROBO A TRANSEUNTE DE CELULAR CON VIOLENCIA</td>\n",
       "      <td>DELITO DE BAJO IMPACTO</td>\n",
       "      <td>CAMPAMENTO 2 DE OCTUBRE</td>\n",
       "      <td>IZTACALCO</td>\n",
       "      <td>2019-01-20 17:18:00</td>\n",
       "      <td>MIGUEL GARCIA GARCIA</td>\n",
       "      <td>-99.113144</td>\n",
       "      <td>19.386668</td>\n",
       "      <td>...</td>\n",
       "      <td>0.16</td>\n",
       "      <td>0.193803</td>\n",
       "      <td>103.842872</td>\n",
       "      <td>9g3w29hp</td>\n",
       "      <td>9g3w29jj</td>\n",
       "      <td>19.38632392,-99.1116619153</td>\n",
       "      <td>{\"type\": \"Point\", \"coordinates\": [-99.11166191...</td>\n",
       "      <td>5</td>\n",
       "      <td>19.386324</td>\n",
       "      <td>-99.111662</td>\n",
       "    </tr>\n",
       "  </tbody>\n",
       "</table>\n",
       "<p>20 rows × 29 columns</p>\n",
       "</div>"
      ],
      "text/plain": [
       "    mes_hechos         fecha_hechos  \\\n",
       "0         Mayo  2018-05-21 20:40:00   \n",
       "1       Agosto  2017-08-22 15:00:00   \n",
       "2   Septiembre  2017-09-12 20:55:00   \n",
       "3    Diciembre  2018-12-29 19:50:00   \n",
       "4    Noviembre  2018-11-28 17:30:00   \n",
       "5        Julio  2016-07-15 17:00:00   \n",
       "6       Agosto  2017-08-18 00:30:00   \n",
       "7      Febrero  2018-02-09 14:45:00   \n",
       "8    Noviembre  2018-11-28 14:00:00   \n",
       "9    Diciembre  2017-12-17 11:00:00   \n",
       "10        Mayo  2016-05-16 09:20:00   \n",
       "11       Junio  2018-06-15 11:20:00   \n",
       "12       Junio  2018-06-16 05:30:00   \n",
       "13        Mayo  2018-05-25 14:00:00   \n",
       "14       Junio  2018-06-27 00:58:00   \n",
       "15  Septiembre  2018-09-08 06:26:00   \n",
       "16  Septiembre  2018-09-07 11:04:00   \n",
       "17       Enero  2019-01-28 03:30:00   \n",
       "18       Enero  2019-01-25 02:08:00   \n",
       "19       Enero  2019-01-20 15:45:00   \n",
       "\n",
       "                                               delito        categoria_delito  \\\n",
       "0          ROBO A TRANSEUNTE DE CELULAR CON VIOLENCIA  DELITO DE BAJO IMPACTO   \n",
       "1          ROBO A TRANSEUNTE DE CELULAR CON VIOLENCIA  DELITO DE BAJO IMPACTO   \n",
       "2          ROBO A TRANSEUNTE DE CELULAR CON VIOLENCIA  DELITO DE BAJO IMPACTO   \n",
       "3          ROBO A TRANSEUNTE DE CELULAR CON VIOLENCIA  DELITO DE BAJO IMPACTO   \n",
       "4          ROBO A TRANSEUNTE DE CELULAR CON VIOLENCIA  DELITO DE BAJO IMPACTO   \n",
       "5                                     ROBO DE OBJETOS  DELITO DE BAJO IMPACTO   \n",
       "6   ROBO A PASAJERO / CONDUCTOR DE TAXI CON VIOLENCIA  DELITO DE BAJO IMPACTO   \n",
       "7          ROBO A TRANSEUNTE DE CELULAR CON VIOLENCIA  DELITO DE BAJO IMPACTO   \n",
       "8          ROBO A TRANSEUNTE DE CELULAR CON VIOLENCIA  DELITO DE BAJO IMPACTO   \n",
       "9   ROBO A PASAJERO A BORDO DE TRANSPORTE PÚBLICO ...  DELITO DE BAJO IMPACTO   \n",
       "10                                    ROBO DE OBJETOS  DELITO DE BAJO IMPACTO   \n",
       "11                                    ROBO DE OBJETOS  DELITO DE BAJO IMPACTO   \n",
       "12         ROBO A TRANSEUNTE DE CELULAR CON VIOLENCIA  DELITO DE BAJO IMPACTO   \n",
       "13         ROBO A TRANSEUNTE DE CELULAR CON VIOLENCIA  DELITO DE BAJO IMPACTO   \n",
       "14                                    ROBO DE OBJETOS  DELITO DE BAJO IMPACTO   \n",
       "15         ROBO A TRANSEUNTE EN NEGOCIO CON VIOLENCIA  DELITO DE BAJO IMPACTO   \n",
       "16                                    ROBO DE OBJETOS  DELITO DE BAJO IMPACTO   \n",
       "17                         ROBO DE ACCESORIOS DE AUTO  DELITO DE BAJO IMPACTO   \n",
       "18                                    ROBO DE OBJETOS  DELITO DE BAJO IMPACTO   \n",
       "19         ROBO A TRANSEUNTE DE CELULAR CON VIOLENCIA  DELITO DE BAJO IMPACTO   \n",
       "\n",
       "             colonia_hechos alcaldia_hechos         fecha_inicio  \\\n",
       "0       INFONAVIT IZTACALCO       IZTACALCO  2018-05-22 10:52:18   \n",
       "1       INFONAVIT IZTACALCO       IZTACALCO  2017-08-24 15:36:43   \n",
       "2       INFONAVIT IZTACALCO       IZTACALCO  2017-09-12 21:38:08   \n",
       "3   CAMPAMENTO 2 DE OCTUBRE       IZTACALCO  2018-12-29 21:58:33   \n",
       "4   CAMPAMENTO 2 DE OCTUBRE       IZTACALCO  2018-11-29 10:56:21   \n",
       "5   CAMPAMENTO 2 DE OCTUBRE       IZTACALCO  2016-07-16 11:40:35   \n",
       "6       INFONAVIT IZTACALCO       IZTACALCO  2017-08-18 01:49:18   \n",
       "7       INFONAVIT IZTACALCO       IZTACALCO  2018-02-10 21:56:44   \n",
       "8       INFONAVIT IZTACALCO       IZTACALCO  2018-11-29 22:05:26   \n",
       "9       INFONAVIT IZTACALCO       IZTACALCO  2017-12-19 19:34:59   \n",
       "10      INFONAVIT IZTACALCO       IZTACALCO  2016-05-16 11:01:26   \n",
       "11  CAMPAMENTO 2 DE OCTUBRE       IZTACALCO  2018-06-20 09:51:39   \n",
       "12      INFONAVIT IZTACALCO       IZTACALCO  2018-06-16 19:10:55   \n",
       "13      INFONAVIT IZTACALCO       IZTACALCO  2018-05-28 19:53:46   \n",
       "14  CAMPAMENTO 2 DE OCTUBRE       IZTACALCO  2018-07-04 14:03:26   \n",
       "15      INFONAVIT IZTACALCO       IZTACALCO  2018-09-08 20:12:11   \n",
       "16      INFONAVIT IZTACALCO       IZTACALCO  2018-09-11 14:39:51   \n",
       "17  CAMPAMENTO 2 DE OCTUBRE       IZTACALCO   2019-01-28 4:08:57   \n",
       "18      INFONAVIT IZTACALCO       IZTACALCO  2019-01-30 10:22:14   \n",
       "19  CAMPAMENTO 2 DE OCTUBRE       IZTACALCO  2019-01-20 17:18:00   \n",
       "\n",
       "                                         calle_hechos   longitud    latitud  \\\n",
       "0                       FRANCISCO DEL PASO Y TRONCOSO -99.111563  19.386594   \n",
       "1                                           PENINSULA -99.111824  19.387331   \n",
       "2               AVENIDA FRANCISCO DEL PASO Y TRONCOSO -99.111670  19.386555   \n",
       "3                                      PABLO ALVARADO -99.112752  19.386661   \n",
       "4                                         2 DE AGOSTO -99.113661  19.386001   \n",
       "5                                         CHE GUEVARA -99.113596  19.386798   \n",
       "6            EJE 3 OTE. FRANCISCO DEL PASO Y TRONCOSO -99.111915  19.387749   \n",
       "7                                                ISLA -99.111478  19.386590   \n",
       "8               AVENIDA FRANCISCO DEL PASO Y TRONCOSO -99.111881  19.386518   \n",
       "9                                          EJE 3 OTE. -99.111956  19.388097   \n",
       "10               PROLONGACION FCO DEL PASO Y TRONCOSO -99.111894  19.387899   \n",
       "11                                      MIGUEL GARCIA -99.112931  19.387741   \n",
       "12                 EJE 3 FRANCISCO DL PASO Y TRONCOSO -99.111691  19.386863   \n",
       "13                                   EJE TRES ORIENTE -99.111958  19.388103   \n",
       "14  PABLO ALVARADO (EL SISTEMA NO DEJA GEOREFERENC... -99.113128  19.386763   \n",
       "15                              AV. CANAL DE TEZONTLE -99.109736  19.388069   \n",
       "16                                  CANAL DE TEZONTLE -99.111958  19.388101   \n",
       "17                               MIGUEL GARCIA GARCIA -99.113380  19.385332   \n",
       "18                          AVENIDA CANAL DE TEZONTLE -99.109396  19.387828   \n",
       "19                               MIGUEL GARCIA GARCIA -99.113144  19.386668   \n",
       "\n",
       "    ... dist_km manhattan_dist     bearing  geo_hash_crime geo_hash_mb  \\\n",
       "0   ...    0.03       0.040434 -160.877039        9g3w29jp    9g3w29jj   \n",
       "1   ...    0.11       0.128945  171.385922        9g3w29kg    9g3w29jj   \n",
       "2   ...    0.03       0.026577  177.994133        9g3w29jn    9g3w29jj   \n",
       "3   ...    0.12       0.151897  108.164933        9g3w29hr    9g3w29jj   \n",
       "4   ...    0.21       0.245526   80.287102        9g3w295e    9g3w29jj   \n",
       "5   ...    0.21       0.255611  104.579166        9g3w2978    9g3w29jj   \n",
       "6   ...    0.16       0.184966  170.490365        9g3w29kv    9g3w29jj   \n",
       "7   ...    0.04       0.048858 -146.915978        9g3w29jp    9g3w29jj   \n",
       "8   ...    0.03       0.044553  133.113722        9g3w29hy    9g3w29jj   \n",
       "9   ...    0.20       0.227958  171.115854        9g3w29kz    9g3w29jj   \n",
       "10  ...    0.18       0.199484  172.086953        9g3w29ky    9g3w29jj   \n",
       "11  ...    0.21       0.290702  139.797310        9g3w29kj    9g3w29jj   \n",
       "12  ...    0.06       0.063015  177.082935        9g3w29m0    9g3w29jj   \n",
       "13  ...    0.20       0.228862  171.078503        9g3w29kz    9g3w29jj   \n",
       "14  ...    0.16       0.202542  107.616616        9g3w29k0    9g3w29jj   \n",
       "15  ...    0.28       0.396019 -133.838802        9g3w29qr    9g3w29jj   \n",
       "16  ...    0.20       0.228699  171.068935        9g3w29kz    9g3w29jj   \n",
       "17  ...    0.21       0.290512   58.517500        9g3w28gz    9g3w29jj   \n",
       "18  ...    0.29       0.404840 -125.128321        9g3w29qw    9g3w29jj   \n",
       "19  ...    0.16       0.193803  103.842872        9g3w29hp    9g3w29jj   \n",
       "\n",
       "                     Geo Point  \\\n",
       "0   19.38632392,-99.1116619153   \n",
       "1   19.38632392,-99.1116619153   \n",
       "2   19.38632392,-99.1116619153   \n",
       "3   19.38632392,-99.1116619153   \n",
       "4   19.38632392,-99.1116619153   \n",
       "5   19.38632392,-99.1116619153   \n",
       "6   19.38632392,-99.1116619153   \n",
       "7   19.38632392,-99.1116619153   \n",
       "8   19.38632392,-99.1116619153   \n",
       "9   19.38632392,-99.1116619153   \n",
       "10  19.38632392,-99.1116619153   \n",
       "11  19.38632392,-99.1116619153   \n",
       "12  19.38632392,-99.1116619153   \n",
       "13  19.38632392,-99.1116619153   \n",
       "14  19.38632392,-99.1116619153   \n",
       "15  19.38632392,-99.1116619153   \n",
       "16  19.38632392,-99.1116619153   \n",
       "17  19.38632392,-99.1116619153   \n",
       "18  19.38632392,-99.1116619153   \n",
       "19  19.38632392,-99.1116619153   \n",
       "\n",
       "                                            Geo Shape  linea  latitud_mb  \\\n",
       "0   {\"type\": \"Point\", \"coordinates\": [-99.11166191...      5   19.386324   \n",
       "1   {\"type\": \"Point\", \"coordinates\": [-99.11166191...      5   19.386324   \n",
       "2   {\"type\": \"Point\", \"coordinates\": [-99.11166191...      5   19.386324   \n",
       "3   {\"type\": \"Point\", \"coordinates\": [-99.11166191...      5   19.386324   \n",
       "4   {\"type\": \"Point\", \"coordinates\": [-99.11166191...      5   19.386324   \n",
       "5   {\"type\": \"Point\", \"coordinates\": [-99.11166191...      5   19.386324   \n",
       "6   {\"type\": \"Point\", \"coordinates\": [-99.11166191...      5   19.386324   \n",
       "7   {\"type\": \"Point\", \"coordinates\": [-99.11166191...      5   19.386324   \n",
       "8   {\"type\": \"Point\", \"coordinates\": [-99.11166191...      5   19.386324   \n",
       "9   {\"type\": \"Point\", \"coordinates\": [-99.11166191...      5   19.386324   \n",
       "10  {\"type\": \"Point\", \"coordinates\": [-99.11166191...      5   19.386324   \n",
       "11  {\"type\": \"Point\", \"coordinates\": [-99.11166191...      5   19.386324   \n",
       "12  {\"type\": \"Point\", \"coordinates\": [-99.11166191...      5   19.386324   \n",
       "13  {\"type\": \"Point\", \"coordinates\": [-99.11166191...      5   19.386324   \n",
       "14  {\"type\": \"Point\", \"coordinates\": [-99.11166191...      5   19.386324   \n",
       "15  {\"type\": \"Point\", \"coordinates\": [-99.11166191...      5   19.386324   \n",
       "16  {\"type\": \"Point\", \"coordinates\": [-99.11166191...      5   19.386324   \n",
       "17  {\"type\": \"Point\", \"coordinates\": [-99.11166191...      5   19.386324   \n",
       "18  {\"type\": \"Point\", \"coordinates\": [-99.11166191...      5   19.386324   \n",
       "19  {\"type\": \"Point\", \"coordinates\": [-99.11166191...      5   19.386324   \n",
       "\n",
       "    longitud_mb  \n",
       "0    -99.111662  \n",
       "1    -99.111662  \n",
       "2    -99.111662  \n",
       "3    -99.111662  \n",
       "4    -99.111662  \n",
       "5    -99.111662  \n",
       "6    -99.111662  \n",
       "7    -99.111662  \n",
       "8    -99.111662  \n",
       "9    -99.111662  \n",
       "10   -99.111662  \n",
       "11   -99.111662  \n",
       "12   -99.111662  \n",
       "13   -99.111662  \n",
       "14   -99.111662  \n",
       "15   -99.111662  \n",
       "16   -99.111662  \n",
       "17   -99.111662  \n",
       "18   -99.111662  \n",
       "19   -99.111662  \n",
       "\n",
       "[20 rows x 29 columns]"
      ]
     },
     "execution_count": 82,
     "metadata": {},
     "output_type": "execute_result"
    }
   ],
   "source": [
    "df.head(20)"
   ]
  },
  {
   "cell_type": "code",
   "execution_count": 83,
   "metadata": {},
   "outputs": [
    {
     "data": {
      "text/plain": [
       "29"
      ]
     },
     "execution_count": 83,
     "metadata": {},
     "output_type": "execute_result"
    }
   ],
   "source": [
    "len(df.columns)"
   ]
  },
  {
   "cell_type": "code",
   "execution_count": 84,
   "metadata": {},
   "outputs": [
    {
     "data": {
      "text/plain": [
       "mes_hechos           object\n",
       "fecha_hechos         object\n",
       "delito               object\n",
       "categoria_delito     object\n",
       "colonia_hechos       object\n",
       "alcaldia_hechos      object\n",
       "fecha_inicio         object\n",
       "calle_hechos         object\n",
       "longitud            float64\n",
       "latitud             float64\n",
       "Geopoint             object\n",
       "nombre               object\n",
       "geo_mb               object\n",
       "rob_victim            int64\n",
       "event_time           object\n",
       "event_date           object\n",
       "Linea                 int64\n",
       "Afluencia             int64\n",
       "target_crimes         int64\n",
       "dist_km             float64\n",
       "manhattan_dist      float64\n",
       "bearing             float64\n",
       "geo_hash_crime       object\n",
       "geo_hash_mb          object\n",
       "Geo Point            object\n",
       "Geo Shape            object\n",
       "linea                 int64\n",
       "latitud_mb          float64\n",
       "longitud_mb         float64\n",
       "dtype: object"
      ]
     },
     "execution_count": 84,
     "metadata": {},
     "output_type": "execute_result"
    }
   ],
   "source": [
    "df.dtypes"
   ]
  },
  {
   "cell_type": "markdown",
   "metadata": {},
   "source": [
    "## EDA on `fecha_hechos`"
   ]
  },
  {
   "cell_type": "code",
   "execution_count": 85,
   "metadata": {},
   "outputs": [],
   "source": [
    "df['fecha_hechos'] = pd.to_datetime(df['fecha_hechos'])\n",
    "df_robo_objetos = df[df['delito'] == 'ROBO DE OBJETOS']\n",
    "df_robo_negocio = df[df['delito'] == 'ROBO A NEGOCIO SIN VIOLENCIA']\n",
    "df_robo_celu_violencia = df[df['delito'] == 'ROBO A TRANSEUNTE DE CELULAR SIN VIOLENCIA']\n",
    "df_robo_celu_con_violencia = df[df['delito'] == 'ROBO A TRANSEUNTE DE CELULAR CON VIOLENCIA']"
   ]
  },
  {
   "cell_type": "code",
   "execution_count": 86,
   "metadata": {},
   "outputs": [
    {
     "data": {
      "text/plain": [
       "count    5652.000000\n",
       "mean       12.652512\n",
       "std         5.673714\n",
       "min         0.000000\n",
       "25%         9.000000\n",
       "50%        13.000000\n",
       "75%        17.000000\n",
       "max        23.000000\n",
       "Name: fecha_hechos, dtype: float64"
      ]
     },
     "execution_count": 86,
     "metadata": {},
     "output_type": "execute_result"
    }
   ],
   "source": [
    "df_robo_objetos['fecha_hechos'].dt.hour.describe()"
   ]
  },
  {
   "cell_type": "code",
   "execution_count": 87,
   "metadata": {},
   "outputs": [
    {
     "data": {
      "image/png": "[encoded data removed]",
      "text/plain": [
       "<Figure size 432x288 with 1 Axes>"
      ]
     },
     "metadata": {
      "needs_background": "light"
     },
     "output_type": "display_data"
    }
   ],
   "source": [
    "sns.histplot(df_robo_objetos['fecha_hechos'].dt.hour);"
   ]
  },
  {
   "cell_type": "code",
   "execution_count": 89,
   "metadata": {},
   "outputs": [
    {
     "data": {
      "text/plain": [
       "count    5065.000000\n",
       "mean       14.171372\n",
       "std         5.426029\n",
       "min         0.000000\n",
       "25%        11.000000\n",
       "50%        15.000000\n",
       "75%        18.000000\n",
       "max        23.000000\n",
       "Name: fecha_hechos, dtype: float64"
      ]
     },
     "execution_count": 89,
     "metadata": {},
     "output_type": "execute_result"
    }
   ],
   "source": [
    "df_robo_negocio['fecha_hechos'].dt.hour.describe()"
   ]
  },
  {
   "cell_type": "code",
   "execution_count": 90,
   "metadata": {},
   "outputs": [
    {
     "data": {
      "image/png": "[encoded data removed]",
      "text/plain": [
       "<Figure size 432x288 with 1 Axes>"
      ]
     },
     "metadata": {
      "needs_background": "light"
     },
     "output_type": "display_data"
    }
   ],
   "source": [
    "sns.histplot(df_robo_negocio['fecha_hechos'].dt.hour);"
   ]
  },
  {
   "cell_type": "code",
   "execution_count": 69,
   "metadata": {},
   "outputs": [
    {
     "data": {
      "text/plain": [
       "count    4403.000000\n",
       "mean       13.643652\n",
       "std         5.039821\n",
       "min         0.000000\n",
       "25%         9.000000\n",
       "50%        14.000000\n",
       "75%        18.000000\n",
       "max        23.000000\n",
       "Name: fecha_hechos, dtype: float64"
      ]
     },
     "execution_count": 69,
     "metadata": {},
     "output_type": "execute_result"
    }
   ],
   "source": [
    "df_robo_celu_violencia['fecha_hechos'].dt.hour.describe()"
   ]
  },
  {
   "cell_type": "code",
   "execution_count": 72,
   "metadata": {},
   "outputs": [
    {
     "data": {
      "image/png": "[encoded data removed]",
      "text/plain": [
       "<Figure size 432x288 with 1 Axes>"
      ]
     },
     "metadata": {
      "needs_background": "light"
     },
     "output_type": "display_data"
    }
   ],
   "source": [
    "sns.histplot(df_robo_celu_violencia['fecha_hechos'].dt.hour);"
   ]
  },
  {
   "cell_type": "code",
   "execution_count": 93,
   "metadata": {},
   "outputs": [
    {
     "data": {
      "text/plain": [
       "count    3292.000000\n",
       "mean       14.243925\n",
       "std         6.056583\n",
       "min         0.000000\n",
       "25%        10.000000\n",
       "50%        15.000000\n",
       "75%        19.000000\n",
       "max        23.000000\n",
       "Name: fecha_hechos, dtype: float64"
      ]
     },
     "execution_count": 93,
     "metadata": {},
     "output_type": "execute_result"
    }
   ],
   "source": [
    "df_robo_celu_con_violencia['fecha_hechos'].dt.hour.describe()"
   ]
  },
  {
   "cell_type": "code",
   "execution_count": 94,
   "metadata": {},
   "outputs": [
    {
     "data": {
      "image/png": "[encoded data removed]",
      "text/plain": [
       "<Figure size 432x288 with 1 Axes>"
      ]
     },
     "metadata": {
      "needs_background": "light"
     },
     "output_type": "display_data"
    }
   ],
   "source": [
    "sns.histplot(df_robo_celu_con_violencia['fecha_hechos'].dt.hour);"
   ]
  },
  {
   "cell_type": "markdown",
   "metadata": {},
   "source": [
    "### Feature `hechos_hour`"
   ]
  },
  {
   "cell_type": "code",
   "execution_count": 92,
   "metadata": {},
   "outputs": [
    {
     "data": {
      "text/plain": [
       "0    20\n",
       "1    15\n",
       "2    20\n",
       "3    19\n",
       "4    17\n",
       "Name: hechos_hour, dtype: int64"
      ]
     },
     "execution_count": 92,
     "metadata": {},
     "output_type": "execute_result"
    }
   ],
   "source": [
    "df['hechos_hour'] = df['fecha_hechos'].dt.hour\n",
    "df['hechos_hour'].head(5)"
   ]
  },
  {
   "cell_type": "markdown",
   "metadata": {},
   "source": [
    "## Pre-processing"
   ]
  },
  {
   "cell_type": "code",
   "execution_count": 11,
   "metadata": {},
   "outputs": [],
   "source": [
    "# Setting GLOBAL var: other_dic \n",
    "# Keeps track of all the list of non_significant categories\n",
    "other_dic = {}"
   ]
  },
  {
   "cell_type": "code",
   "execution_count": 12,
   "metadata": {},
   "outputs": [],
   "source": [
    "# Function taken from the following resource [URL]: \n",
    "# https://stackoverflow.com/questions/18016495/get-subset-of-most-frequent-dummy-variables-in-pandas\n",
    "def dummy_best(dummy_col, threshold=0.01):\n",
    "        '''\n",
    "            Function return a dummifed dataframe of significant dummies\n",
    "            in a given column\n",
    "        '''\n",
    "        dummy_columns = dummy_col.copy()\n",
    "        # What is the ratio of a dummy in whole column\n",
    "        count = pd.value_counts(dummy_columns) / len(dummy_columns)\n",
    "        # filtering based on the ratios according to a threshold\n",
    "        mask = dummy_columns.isin(count[count>threshold].index)\n",
    "        # replace the ones which ratio is lower than the threshold \n",
    "        other_dic[dummy_columns.name] = list(dummy_columns[~mask])\n",
    "        dummy_columns[~mask] = 'others'\n",
    "        return pd.get_dummies(dummy_columns, prefix=dummy_columns.name)    "
   ]
  },
  {
   "cell_type": "code",
   "execution_count": 13,
   "metadata": {},
   "outputs": [],
   "source": [
    "def data_merger(main_df, features):\n",
    "    merged_df = main_df.copy()\n",
    "    for element in features:\n",
    "        merged_df = pd.concat([merged_df, dummy_best(main_df[element])], axis=1)\n",
    "    return merged_df"
   ]
  },
  {
   "cell_type": "code",
   "execution_count": 14,
   "metadata": {},
   "outputs": [
    {
     "data": {
      "text/plain": [
       "0    0.966206\n",
       "1    0.033794\n",
       "Name: rob_victim, dtype: float64"
      ]
     },
     "execution_count": 14,
     "metadata": {},
     "output_type": "execute_result"
    }
   ],
   "source": [
    "# Dealing with class imbalance\n",
    "df['rob_victim'].value_counts(normalize=True)"
   ]
  },
  {
   "cell_type": "code",
   "execution_count": 15,
   "metadata": {},
   "outputs": [
    {
     "data": {
      "text/plain": [
       "ROBO DE OBJETOS                                                0.189486\n",
       "ROBO A NEGOCIO SIN VIOLENCIA                                   0.169807\n",
       "ROBO A TRANSEUNTE DE CELULAR SIN VIOLENCIA                     0.147613\n",
       "ROBO A TRANSEUNTE DE CELULAR CON VIOLENCIA                     0.110366\n",
       "ROBO DE ACCESORIOS DE AUTO                                     0.090385\n",
       "ROBO DE OBJETOS DEL INTERIOR DE UN VEHICULO                    0.071812\n",
       "ROBO A CASA HABITACION SIN VIOLENCIA                           0.041974\n",
       "ROBO DE VEHICULO DE PEDALES                                    0.033257\n",
       "ROBO A PASAJERO A BORDO DE METROBUS SIN VIOLENCIA              0.030844\n",
       "ROBO A PASAJERO / CONDUCTOR DE VEHICULO CON VIOLENCIA          0.025479\n",
       "ROBO DE DINERO                                                 0.016159\n",
       "ROBO DE DOCUMENTOS                                             0.015355\n",
       "ROBO A PASAJERO A BORDO DE TRANSPORTE PÚBLICO CON VIOLENCIA    0.012874\n",
       "ROBO A PASAJERO A BORDO DE PESERO COLECTIVO CON VIOLENCIA      0.010125\n",
       "ROBO DE PLACA DE AUTOMOVIL                                     0.005264\n",
       "ROBO DE OBJETOS A ESCUELA                                      0.003654\n",
       "ROBO A TRANSEUNTE EN NEGOCIO CON VIOLENCIA                     0.003487\n",
       "ROBO A PASAJERO A BORDO DE METROBUS CON VIOLENCIA              0.002950\n",
       "ROBO A PASAJERO A BORDO DE TRANSPORTE PÚBLICO SIN VIOLENCIA    0.002481\n",
       "ROBO A PASAJERO / CONDUCTOR DE TAXI CON VIOLENCIA              0.002447\n",
       "ROBO A PASAJERO A BORDO DE TAXI SIN VIOLENCIA                  0.002313\n",
       "ROBO DE ARMA                                                   0.001576\n",
       "ROBO A OFICINA PÚBLICA SIN VIOLENCIA                           0.001442\n",
       "ROBO A TRANSEUNTE EN RESTAURANT CON VIOLENCIA                  0.001106\n",
       "ROBO A PASAJERO A BORDO DE PESERO COLECTIVO SIN VIOLENCIA      0.001106\n",
       "ROBO DE ANIMALES                                               0.001106\n",
       "ROBO A TRANSEUNTE EN PARQUES Y MERCADOS CON VIOLENCIA          0.000872\n",
       "ROBO A PASAJERO EN TROLEBUS SIN VIOLENCIA                      0.000671\n",
       "ROBO DE ALHAJAS                                                0.000637\n",
       "ROBO A PASAJERO EN TREN SUBURBANO SIN VIOLENCIA                0.000637\n",
       "ROBO DE FLUIDOS                                                0.000503\n",
       "ROBO A PASAJERO EN ECOBUS SIN VIOLENCIA                        0.000302\n",
       "ROBO A PASAJERO EN TROLEBUS CON VIOLENCIA                      0.000268\n",
       "ROBO A NEGOCIO Y VEHICULO SIN VIOLENCIA                        0.000235\n",
       "ROBO A CASA HABITACION Y VEHICULO SIN VIOLENCIA                0.000235\n",
       "ROBO A TRANSEUNTE EN HOTEL CON VIOLENCIA                       0.000235\n",
       "ROBO A PASAJERO EN RTP CON VIOLENCIA                           0.000201\n",
       "ROBO A SUCURSAL BANCARIA (SUPERMERCADO) SIN VIOLENCIA          0.000101\n",
       "ROBO A PASAJERO EN TREN LIGERO SIN VIOLENCIA                   0.000101\n",
       "ROBO EN INTERIOR DE EMPRESA (NOMINA) SIN VIOLENCIA             0.000101\n",
       "ROBO A PASAJERO EN TREN SUBURBANO CON VIOLENCIA                0.000101\n",
       "ROBO A TRANSEUNTE EN TERMINAL DE PASAJEROS CON VIOLENCIA       0.000067\n",
       "ROBO A PASAJERO EN ECOBUS CON VIOLENCIA                        0.000067\n",
       "ROBO A TRANSEUNTE Y VEHICULO CON VIOLENCIA                     0.000067\n",
       "ROBO A PASAJERO EN RTP SIN VIOLENCIA                           0.000034\n",
       "ROBO A TRANSEUNTE EN CINE CON VIOLENCIA                        0.000034\n",
       "ROBO A PASAJERO EN AUTOBÚS FORÁNEO CON VIOLENCIA               0.000034\n",
       "ROBO A PASAJERO A BORDO DE PESERO Y VEHICULO CON VIOLENCIA     0.000034\n",
       "Name: delito, dtype: float64"
      ]
     },
     "execution_count": 15,
     "metadata": {},
     "output_type": "execute_result"
    }
   ],
   "source": [
    "df['delito'].value_counts(normalize=True)"
   ]
  },
  {
   "cell_type": "code",
   "execution_count": 16,
   "metadata": {},
   "outputs": [],
   "source": [
    "def significance_filter(zip_element):\n",
    "    significant = []\n",
    "    not_significant = []\n",
    "    for i in zip_element:\n",
    "        if i[1] >=.1:\n",
    "            significant.append(i[0])\n",
    "        else:\n",
    "            not_significant.append(i[0])\n",
    "    return significant, not_significant"
   ]
  },
  {
   "cell_type": "code",
   "execution_count": 17,
   "metadata": {},
   "outputs": [
    {
     "data": {
      "text/plain": [
       "(29828, 29)"
      ]
     },
     "execution_count": 17,
     "metadata": {},
     "output_type": "execute_result"
    }
   ],
   "source": [
    "df.shape"
   ]
  },
  {
   "cell_type": "code",
   "execution_count": 18,
   "metadata": {},
   "outputs": [],
   "source": [
    "count = pd.value_counts(df['delito']) / len(df['delito'])\n",
    "sig, n_sig = significance_filter(list(zip(count.index.values, count)))"
   ]
  },
  {
   "cell_type": "code",
   "execution_count": 19,
   "metadata": {},
   "outputs": [
    {
     "data": {
      "text/plain": [
       "(18412, 29)"
      ]
     },
     "execution_count": 19,
     "metadata": {},
     "output_type": "execute_result"
    }
   ],
   "source": [
    "df['delito'] = df['delito'].apply(lambda x: None if x in n_sig else x)\n",
    "df = df.dropna()\n",
    "df.shape"
   ]
  },
  {
   "cell_type": "code",
   "execution_count": 20,
   "metadata": {},
   "outputs": [],
   "source": [
    "# Label Ecoder for any feature with imporance of order\n",
    "# based of the percentage of presence of category in column.\n",
    "def feature_encoder(zip_element, var_dict):\n",
    "    val_econded = len(zip_element)\n",
    "    for i in zip_element:\n",
    "        var_dict[i[0]] = val_econded\n",
    "        val_econded -= 1"
   ]
  },
  {
   "cell_type": "code",
   "execution_count": 21,
   "metadata": {},
   "outputs": [
    {
     "data": {
      "text/plain": [
       "ROBO DE OBJETOS                               0.306974\n",
       "ROBO A NEGOCIO SIN VIOLENCIA                  0.275092\n",
       "ROBO A TRANSEUNTE DE CELULAR SIN VIOLENCIA    0.239138\n",
       "ROBO A TRANSEUNTE DE CELULAR CON VIOLENCIA    0.178796\n",
       "Name: delito, dtype: float64"
      ]
     },
     "execution_count": 21,
     "metadata": {},
     "output_type": "execute_result"
    }
   ],
   "source": [
    "df['delito'].value_counts(normalize=True)"
   ]
  },
  {
   "cell_type": "code",
   "execution_count": 22,
   "metadata": {},
   "outputs": [
    {
     "data": {
      "text/plain": [
       "(13347, 29)"
      ]
     },
     "execution_count": 22,
     "metadata": {},
     "output_type": "execute_result"
    }
   ],
   "source": [
    "# Fruther cleaning filtering\n",
    "df['delito'] = df['delito'].apply(lambda x: None if x in ['ROBO A NEGOCIO SIN VIOLENCIA'] else x)\n",
    "df = df.dropna()\n",
    "df.shape"
   ]
  },
  {
   "cell_type": "code",
   "execution_count": 23,
   "metadata": {},
   "outputs": [
    {
     "data": {
      "text/plain": [
       "[('ROBO DE OBJETOS', 0.42346594740391097),\n",
       " ('ROBO A TRANSEUNTE DE CELULAR SIN VIOLENCIA', 0.32988686596238853),\n",
       " ('ROBO A TRANSEUNTE DE CELULAR CON VIOLENCIA', 0.24664718663370044)]"
      ]
     },
     "execution_count": 23,
     "metadata": {},
     "output_type": "execute_result"
    }
   ],
   "source": [
    "count = pd.value_counts(df['delito']) / len(df['delito'])\n",
    "list(zip(count.index.values, count))"
   ]
  },
  {
   "cell_type": "code",
   "execution_count": 24,
   "metadata": {},
   "outputs": [
    {
     "data": {
      "text/plain": [
       "{'ROBO DE OBJETOS': 3,\n",
       " 'ROBO A TRANSEUNTE DE CELULAR SIN VIOLENCIA': 2,\n",
       " 'ROBO A TRANSEUNTE DE CELULAR CON VIOLENCIA': 1}"
      ]
     },
     "execution_count": 24,
     "metadata": {},
     "output_type": "execute_result"
    }
   ],
   "source": [
    "encoder_robo_dict = {}\n",
    "feature_encoder((list(zip(count.index.values, count))), encoder_robo_dict)\n",
    "encoder_robo_dict"
   ]
  },
  {
   "cell_type": "code",
   "execution_count": 25,
   "metadata": {},
   "outputs": [],
   "source": [
    "df['delito_enco'] = df['delito'].apply(lambda x: encoder_robo_dict[x]).copy()"
   ]
  },
  {
   "cell_type": "code",
   "execution_count": 26,
   "metadata": {},
   "outputs": [
    {
     "data": {
      "text/plain": [
       "ROBO DE OBJETOS                               0.423466\n",
       "ROBO A TRANSEUNTE DE CELULAR SIN VIOLENCIA    0.329887\n",
       "ROBO A TRANSEUNTE DE CELULAR CON VIOLENCIA    0.246647\n",
       "Name: delito, dtype: float64"
      ]
     },
     "execution_count": 26,
     "metadata": {},
     "output_type": "execute_result"
    }
   ],
   "source": [
    "df['delito'].value_counts(normalize=True)"
   ]
  },
  {
   "cell_type": "code",
   "execution_count": 27,
   "metadata": {},
   "outputs": [
    {
     "data": {
      "text/plain": [
       "mes_hechos           object\n",
       "fecha_hechos         object\n",
       "delito               object\n",
       "categoria_delito     object\n",
       "colonia_hechos       object\n",
       "alcaldia_hechos      object\n",
       "fecha_inicio         object\n",
       "calle_hechos         object\n",
       "longitud            float64\n",
       "latitud             float64\n",
       "Geopoint             object\n",
       "nombre               object\n",
       "geo_mb               object\n",
       "rob_victim            int64\n",
       "event_time           object\n",
       "event_date           object\n",
       "Linea                 int64\n",
       "Afluencia             int64\n",
       "target_crimes         int64\n",
       "dist_km             float64\n",
       "manhattan_dist      float64\n",
       "bearing             float64\n",
       "geo_hash_crime       object\n",
       "geo_hash_mb          object\n",
       "Geo Point            object\n",
       "Geo Shape            object\n",
       "linea                 int64\n",
       "latitud_mb          float64\n",
       "longitud_mb         float64\n",
       "delito_enco           int64\n",
       "dtype: object"
      ]
     },
     "execution_count": 27,
     "metadata": {},
     "output_type": "execute_result"
    }
   ],
   "source": [
    "df.dtypes"
   ]
  },
  {
   "cell_type": "markdown",
   "metadata": {},
   "source": [
    "### RF-Multiclass "
   ]
  },
  {
   "cell_type": "code",
   "execution_count": 28,
   "metadata": {},
   "outputs": [
    {
     "data": {
      "text/html": [
       "<div>\n",
       "<style scoped>\n",
       "    .dataframe tbody tr th:only-of-type {\n",
       "        vertical-align: middle;\n",
       "    }\n",
       "\n",
       "    .dataframe tbody tr th {\n",
       "        vertical-align: top;\n",
       "    }\n",
       "\n",
       "    .dataframe thead th {\n",
       "        text-align: right;\n",
       "    }\n",
       "</style>\n",
       "<table border=\"1\" class=\"dataframe\">\n",
       "  <thead>\n",
       "    <tr style=\"text-align: right;\">\n",
       "      <th></th>\n",
       "      <th>longitud</th>\n",
       "      <th>latitud</th>\n",
       "      <th>Afluencia</th>\n",
       "      <th>dist_km</th>\n",
       "      <th>manhattan_dist</th>\n",
       "      <th>bearing</th>\n",
       "      <th>linea</th>\n",
       "      <th>latitud_mb</th>\n",
       "      <th>longitud_mb</th>\n",
       "      <th>delito_enco</th>\n",
       "      <th>...</th>\n",
       "      <th>geo_hash_mb_9g3qx88v</th>\n",
       "      <th>geo_hash_mb_9g3qxbf0</th>\n",
       "      <th>geo_hash_mb_9g3qxcpn</th>\n",
       "      <th>geo_hash_mb_9g3qxf7w</th>\n",
       "      <th>geo_hash_mb_9g3qxfr3</th>\n",
       "      <th>geo_hash_mb_9g3qxspf</th>\n",
       "      <th>geo_hash_mb_9g3w80qp</th>\n",
       "      <th>geo_hash_mb_9g3wbczx</th>\n",
       "      <th>geo_hash_mb_9g3wbkw7</th>\n",
       "      <th>geo_hash_mb_others</th>\n",
       "    </tr>\n",
       "  </thead>\n",
       "  <tbody>\n",
       "    <tr>\n",
       "      <th>0</th>\n",
       "      <td>-99.111563</td>\n",
       "      <td>19.386594</td>\n",
       "      <td>89793</td>\n",
       "      <td>0.03</td>\n",
       "      <td>0.040434</td>\n",
       "      <td>-160.877039</td>\n",
       "      <td>5</td>\n",
       "      <td>19.386324</td>\n",
       "      <td>-99.111662</td>\n",
       "      <td>1</td>\n",
       "      <td>...</td>\n",
       "      <td>0</td>\n",
       "      <td>0</td>\n",
       "      <td>0</td>\n",
       "      <td>0</td>\n",
       "      <td>0</td>\n",
       "      <td>0</td>\n",
       "      <td>0</td>\n",
       "      <td>0</td>\n",
       "      <td>0</td>\n",
       "      <td>1</td>\n",
       "    </tr>\n",
       "  </tbody>\n",
       "</table>\n",
       "<p>1 rows × 363 columns</p>\n",
       "</div>"
      ],
      "text/plain": [
       "    longitud    latitud  Afluencia  dist_km  manhattan_dist     bearing  \\\n",
       "0 -99.111563  19.386594      89793     0.03        0.040434 -160.877039   \n",
       "\n",
       "   linea  latitud_mb  longitud_mb  delito_enco  ...  geo_hash_mb_9g3qx88v  \\\n",
       "0      5   19.386324   -99.111662            1  ...                     0   \n",
       "\n",
       "   geo_hash_mb_9g3qxbf0  geo_hash_mb_9g3qxcpn  geo_hash_mb_9g3qxf7w  \\\n",
       "0                     0                     0                     0   \n",
       "\n",
       "   geo_hash_mb_9g3qxfr3  geo_hash_mb_9g3qxspf  geo_hash_mb_9g3w80qp  \\\n",
       "0                     0                     0                     0   \n",
       "\n",
       "   geo_hash_mb_9g3wbczx  geo_hash_mb_9g3wbkw7  geo_hash_mb_others  \n",
       "0                     0                     0                   1  \n",
       "\n",
       "[1 rows x 363 columns]"
      ]
     },
     "execution_count": 28,
     "metadata": {},
     "output_type": "execute_result"
    }
   ],
   "source": [
    "dummy_single = ['nombre', 'Linea']\n",
    "to_dummy = ['mes_hechos','colonia_hechos', 'alcaldia_hechos', 'geo_hash_crime', \n",
    "            'geo_hash_mb']\n",
    "to_drop = ['rob_victim', 'fecha_inicio', 'Geopoint',\n",
    "           'event_time', 'event_date', 'calle_hechos', 'geo_mb', \n",
    "           'categoria_delito', 'fecha_hechos','target_crimes', 'delito',\n",
    "           'Geo Shape', 'Geo Point']\n",
    "\n",
    "rf_df = df.drop(columns=to_drop).copy()\n",
    "rf_df = pd.get_dummies(rf_df, columns=dummy_single)\n",
    "rf_df = data_merger(rf_df, to_dummy)\n",
    "rf_df = rf_df.drop(columns=to_dummy).copy()\n",
    "rf_df.head(1)"
   ]
  },
  {
   "cell_type": "code",
   "execution_count": 29,
   "metadata": {},
   "outputs": [
    {
     "data": {
      "text/plain": [
       "dict_keys(['mes_hechos', 'colonia_hechos', 'alcaldia_hechos', 'geo_hash_crime', 'geo_hash_mb'])"
      ]
     },
     "execution_count": 29,
     "metadata": {},
     "output_type": "execute_result"
    }
   ],
   "source": [
    "other_dic.keys()"
   ]
  },
  {
   "cell_type": "code",
   "execution_count": 30,
   "metadata": {},
   "outputs": [],
   "source": [
    "X = rf_df.drop(columns='delito_enco')\n",
    "y = rf_df['delito_enco'].to_numpy()"
   ]
  },
  {
   "cell_type": "code",
   "execution_count": 31,
   "metadata": {},
   "outputs": [
    {
     "name": "stderr",
     "output_type": "stream",
     "text": [
      "/usr/local/anaconda3/lib/python3.8/site-packages/sklearn/utils/validation.py:68: FutureWarning: Pass classes=[1 2 3], y=[1 1 1 ... 2 3 3] as keyword args. From version 0.25 passing these as positional arguments will result in an error\n",
      "  warnings.warn(\"Pass {} as keyword args. From version 0.25 \"\n"
     ]
    },
    {
     "data": {
      "text/plain": [
       "{1: 1.3514580801944107, 2: 1.010447422212128, 3: 0.7871549893842887}"
      ]
     },
     "execution_count": 31,
     "metadata": {},
     "output_type": "execute_result"
    }
   ],
   "source": [
    "class_weights = class_weight.compute_class_weight('balanced', np.unique(y),y)\n",
    "class_weights_dic = { i+1:class_weights[i] for i in range(len(class_weights))}\n",
    "class_weights_dic\n",
    "    "
   ]
  },
  {
   "cell_type": "code",
   "execution_count": 32,
   "metadata": {},
   "outputs": [],
   "source": [
    "X_train, X_test, y_train, y_test = train_test_split(X, y, test_size = 0.1, random_state = 42, stratify =y)"
   ]
  },
  {
   "cell_type": "markdown",
   "metadata": {},
   "source": [
    "### Further Feature Engineering"
   ]
  },
  {
   "cell_type": "code",
   "execution_count": 33,
   "metadata": {},
   "outputs": [
    {
     "name": "stderr",
     "output_type": "stream",
     "text": [
      "/usr/local/anaconda3/lib/python3.8/site-packages/pandas/core/indexing.py:845: SettingWithCopyWarning: \n",
      "A value is trying to be set on a copy of a slice from a DataFrame.\n",
      "Try using .loc[row_indexer,col_indexer] = value instead\n",
      "\n",
      "See the caveats in the documentation: https://pandas.pydata.org/pandas-docs/stable/user_guide/indexing.html#returning-a-view-versus-a-copy\n",
      "  self.obj[key] = _infer_fill_value(value)\n",
      "/usr/local/anaconda3/lib/python3.8/site-packages/pandas/core/indexing.py:966: SettingWithCopyWarning: \n",
      "A value is trying to be set on a copy of a slice from a DataFrame.\n",
      "Try using .loc[row_indexer,col_indexer] = value instead\n",
      "\n",
      "See the caveats in the documentation: https://pandas.pydata.org/pandas-docs/stable/user_guide/indexing.html#returning-a-view-versus-a-copy\n",
      "  self.obj[item] = s\n",
      "/usr/local/anaconda3/lib/python3.8/site-packages/pandas/core/indexing.py:845: SettingWithCopyWarning: \n",
      "A value is trying to be set on a copy of a slice from a DataFrame.\n",
      "Try using .loc[row_indexer,col_indexer] = value instead\n",
      "\n",
      "See the caveats in the documentation: https://pandas.pydata.org/pandas-docs/stable/user_guide/indexing.html#returning-a-view-versus-a-copy\n",
      "  self.obj[key] = _infer_fill_value(value)\n",
      "/usr/local/anaconda3/lib/python3.8/site-packages/pandas/core/indexing.py:966: SettingWithCopyWarning: \n",
      "A value is trying to be set on a copy of a slice from a DataFrame.\n",
      "Try using .loc[row_indexer,col_indexer] = value instead\n",
      "\n",
      "See the caveats in the documentation: https://pandas.pydata.org/pandas-docs/stable/user_guide/indexing.html#returning-a-view-versus-a-copy\n",
      "  self.obj[item] = s\n",
      "/usr/local/anaconda3/lib/python3.8/site-packages/pandas/core/indexing.py:845: SettingWithCopyWarning: \n",
      "A value is trying to be set on a copy of a slice from a DataFrame.\n",
      "Try using .loc[row_indexer,col_indexer] = value instead\n",
      "\n",
      "See the caveats in the documentation: https://pandas.pydata.org/pandas-docs/stable/user_guide/indexing.html#returning-a-view-versus-a-copy\n",
      "  self.obj[key] = _infer_fill_value(value)\n",
      "/usr/local/anaconda3/lib/python3.8/site-packages/pandas/core/indexing.py:966: SettingWithCopyWarning: \n",
      "A value is trying to be set on a copy of a slice from a DataFrame.\n",
      "Try using .loc[row_indexer,col_indexer] = value instead\n",
      "\n",
      "See the caveats in the documentation: https://pandas.pydata.org/pandas-docs/stable/user_guide/indexing.html#returning-a-view-versus-a-copy\n",
      "  self.obj[item] = s\n",
      "/usr/local/anaconda3/lib/python3.8/site-packages/pandas/core/indexing.py:845: SettingWithCopyWarning: \n",
      "A value is trying to be set on a copy of a slice from a DataFrame.\n",
      "Try using .loc[row_indexer,col_indexer] = value instead\n",
      "\n",
      "See the caveats in the documentation: https://pandas.pydata.org/pandas-docs/stable/user_guide/indexing.html#returning-a-view-versus-a-copy\n",
      "  self.obj[key] = _infer_fill_value(value)\n",
      "/usr/local/anaconda3/lib/python3.8/site-packages/pandas/core/indexing.py:966: SettingWithCopyWarning: \n",
      "A value is trying to be set on a copy of a slice from a DataFrame.\n",
      "Try using .loc[row_indexer,col_indexer] = value instead\n",
      "\n",
      "See the caveats in the documentation: https://pandas.pydata.org/pandas-docs/stable/user_guide/indexing.html#returning-a-view-versus-a-copy\n",
      "  self.obj[item] = s\n"
     ]
    }
   ],
   "source": [
    "coords = np.vstack((X_train[['latitud', 'longitud']].values,\n",
    "                    X_train[['latitud_mb', 'longitud_mb']].values,\n",
    "                    X_test[['latitud', 'longitud']].values,\n",
    "                    X_test[['latitud_mb', 'longitud_mb']].values))\n",
    "sample_ind = np.random.permutation(len(coords))[:500000]\n",
    "kmeans = MiniBatchKMeans(n_clusters=100, batch_size=10000).fit(coords[sample_ind])\n",
    "\n",
    "X_train.loc[:, 'la_c'] = kmeans.predict(X_train[['latitud', 'longitud']])\n",
    "X_train.loc[:, 'lon_c'] = kmeans.predict(X_train[['latitud_mb', 'longitud_mb']])\n",
    "X_test.loc[:, 'la_c'] = kmeans.predict(X_test[['latitud', 'longitud']])\n",
    "X_test.loc[:, 'lon_c'] = kmeans.predict(X_test[['latitud_mb', 'longitud_mb']])"
   ]
  },
  {
   "cell_type": "code",
   "execution_count": 34,
   "metadata": {},
   "outputs": [
    {
     "name": "stderr",
     "output_type": "stream",
     "text": [
      "<ipython-input-34-32a26b98acd3>:2: SettingWithCopyWarning: \n",
      "A value is trying to be set on a copy of a slice from a DataFrame.\n",
      "Try using .loc[row_indexer,col_indexer] = value instead\n",
      "\n",
      "See the caveats in the documentation: https://pandas.pydata.org/pandas-docs/stable/user_guide/indexing.html#returning-a-view-versus-a-copy\n",
      "  X_train['crime_loc_pca0'] = pca.transform(X_train[['latitud', 'longitud']])[:, 0]\n",
      "<ipython-input-34-32a26b98acd3>:3: SettingWithCopyWarning: \n",
      "A value is trying to be set on a copy of a slice from a DataFrame.\n",
      "Try using .loc[row_indexer,col_indexer] = value instead\n",
      "\n",
      "See the caveats in the documentation: https://pandas.pydata.org/pandas-docs/stable/user_guide/indexing.html#returning-a-view-versus-a-copy\n",
      "  X_train['crime_loc_pca1'] = pca.transform(X_train[['latitud', 'longitud']])[:, 1]\n",
      "<ipython-input-34-32a26b98acd3>:4: SettingWithCopyWarning: \n",
      "A value is trying to be set on a copy of a slice from a DataFrame.\n",
      "Try using .loc[row_indexer,col_indexer] = value instead\n",
      "\n",
      "See the caveats in the documentation: https://pandas.pydata.org/pandas-docs/stable/user_guide/indexing.html#returning-a-view-versus-a-copy\n",
      "  X_train['mb_loc_pca0'] = pca.transform(X_train[['latitud_mb', 'longitud_mb']])[:, 0]\n",
      "<ipython-input-34-32a26b98acd3>:5: SettingWithCopyWarning: \n",
      "A value is trying to be set on a copy of a slice from a DataFrame.\n",
      "Try using .loc[row_indexer,col_indexer] = value instead\n",
      "\n",
      "See the caveats in the documentation: https://pandas.pydata.org/pandas-docs/stable/user_guide/indexing.html#returning-a-view-versus-a-copy\n",
      "  X_train['mb_loc_pca1'] = pca.transform(X_train[['latitud_mb', 'longitud_mb']])[:, 1]\n",
      "<ipython-input-34-32a26b98acd3>:6: SettingWithCopyWarning: \n",
      "A value is trying to be set on a copy of a slice from a DataFrame.\n",
      "Try using .loc[row_indexer,col_indexer] = value instead\n",
      "\n",
      "See the caveats in the documentation: https://pandas.pydata.org/pandas-docs/stable/user_guide/indexing.html#returning-a-view-versus-a-copy\n",
      "  X_test['crime_loc_pca0'] = pca.transform(X_test[['latitud', 'longitud']])[:, 0]\n",
      "<ipython-input-34-32a26b98acd3>:7: SettingWithCopyWarning: \n",
      "A value is trying to be set on a copy of a slice from a DataFrame.\n",
      "Try using .loc[row_indexer,col_indexer] = value instead\n",
      "\n",
      "See the caveats in the documentation: https://pandas.pydata.org/pandas-docs/stable/user_guide/indexing.html#returning-a-view-versus-a-copy\n",
      "  X_test['crime_loc_pca1'] = pca.transform(X_test[['latitud', 'longitud']])[:, 1]\n",
      "<ipython-input-34-32a26b98acd3>:8: SettingWithCopyWarning: \n",
      "A value is trying to be set on a copy of a slice from a DataFrame.\n",
      "Try using .loc[row_indexer,col_indexer] = value instead\n",
      "\n",
      "See the caveats in the documentation: https://pandas.pydata.org/pandas-docs/stable/user_guide/indexing.html#returning-a-view-versus-a-copy\n",
      "  X_test['mb_loc_pca0'] = pca.transform(X_test[['latitud_mb', 'longitud_mb']])[:, 0]\n",
      "<ipython-input-34-32a26b98acd3>:9: SettingWithCopyWarning: \n",
      "A value is trying to be set on a copy of a slice from a DataFrame.\n",
      "Try using .loc[row_indexer,col_indexer] = value instead\n",
      "\n",
      "See the caveats in the documentation: https://pandas.pydata.org/pandas-docs/stable/user_guide/indexing.html#returning-a-view-versus-a-copy\n",
      "  X_test['mb_loc_pca1'] = pca.transform(X_test[['latitud_mb', 'longitud_mb']])[:, 1]\n"
     ]
    }
   ],
   "source": [
    "pca = PCA().fit(coords)\n",
    "X_train['crime_loc_pca0'] = pca.transform(X_train[['latitud', 'longitud']])[:, 0]\n",
    "X_train['crime_loc_pca1'] = pca.transform(X_train[['latitud', 'longitud']])[:, 1]\n",
    "X_train['mb_loc_pca0'] = pca.transform(X_train[['latitud_mb', 'longitud_mb']])[:, 0]\n",
    "X_train['mb_loc_pca1'] = pca.transform(X_train[['latitud_mb', 'longitud_mb']])[:, 1]\n",
    "X_test['crime_loc_pca0'] = pca.transform(X_test[['latitud', 'longitud']])[:, 0]\n",
    "X_test['crime_loc_pca1'] = pca.transform(X_test[['latitud', 'longitud']])[:, 1]\n",
    "X_test['mb_loc_pca0'] = pca.transform(X_test[['latitud_mb', 'longitud_mb']])[:, 0]\n",
    "X_test['mb_loc_pca1'] = pca.transform(X_test[['latitud_mb', 'longitud_mb']])[:, 1]"
   ]
  },
  {
   "cell_type": "markdown",
   "metadata": {},
   "source": [
    "### Baseline Classifier"
   ]
  },
  {
   "cell_type": "code",
   "execution_count": 35,
   "metadata": {},
   "outputs": [
    {
     "data": {
      "text/plain": [
       "0.4232209737827715"
      ]
     },
     "execution_count": 35,
     "metadata": {},
     "output_type": "execute_result"
    }
   ],
   "source": [
    "dummy_clf = DummyClassifier(strategy=\"most_frequent\")\n",
    "dummy_clf.fit(X_train, y_train)\n",
    "dummy_clf.score(X_test, y_test)"
   ]
  },
  {
   "cell_type": "markdown",
   "metadata": {},
   "source": [
    "### Logistic Regression"
   ]
  },
  {
   "cell_type": "code",
   "execution_count": 36,
   "metadata": {},
   "outputs": [],
   "source": [
    "pipe = Pipeline([\n",
    "        ('scale', StandardScaler()),\n",
    "        ('lr', LogisticRegression(max_iter=1000, class_weight=class_weights_dic))\n",
    "    ])"
   ]
  },
  {
   "cell_type": "code",
   "execution_count": 37,
   "metadata": {},
   "outputs": [],
   "source": [
    "pipe_params = {\n",
    "    'lr__C': [0.1, 0.3, 0.5, 1]\n",
    "}\n",
    "grid = GridSearchCV(pipe, pipe_params, scoring = 'recall_micro')"
   ]
  },
  {
   "cell_type": "code",
   "execution_count": 38,
   "metadata": {},
   "outputs": [
    {
     "data": {
      "text/plain": [
       "GridSearchCV(estimator=Pipeline(steps=[('scale', StandardScaler()),\n",
       "                                       ('lr',\n",
       "                                        LogisticRegression(class_weight={1: 1.3514580801944107,\n",
       "                                                                         2: 1.010447422212128,\n",
       "                                                                         3: 0.7871549893842887},\n",
       "                                                           max_iter=1000))]),\n",
       "             param_grid={'lr__C': [0.1, 0.3, 0.5, 1]}, scoring='recall_micro')"
      ]
     },
     "execution_count": 38,
     "metadata": {},
     "output_type": "execute_result"
    }
   ],
   "source": [
    "grid.fit(X_train, y_train)"
   ]
  },
  {
   "cell_type": "code",
   "execution_count": 39,
   "metadata": {},
   "outputs": [
    {
     "data": {
      "text/plain": [
       "0.5478687978687978"
      ]
     },
     "execution_count": 39,
     "metadata": {},
     "output_type": "execute_result"
    }
   ],
   "source": [
    "grid.score(X_train, y_train)"
   ]
  },
  {
   "cell_type": "code",
   "execution_count": 40,
   "metadata": {},
   "outputs": [
    {
     "data": {
      "text/plain": [
       "0.501123595505618"
      ]
     },
     "execution_count": 40,
     "metadata": {},
     "output_type": "execute_result"
    }
   ],
   "source": [
    "grid.score(X_test, y_test)"
   ]
  },
  {
   "cell_type": "markdown",
   "metadata": {},
   "source": [
    "## XGBOOST Model"
   ]
  },
  {
   "cell_type": "code",
   "execution_count": 41,
   "metadata": {},
   "outputs": [],
   "source": [
    "sm = SMOTE()\n",
    "Xsm_train, ysm_train = sm.fit_sample(X_train, y_train)"
   ]
  },
  {
   "cell_type": "code",
   "execution_count": 42,
   "metadata": {},
   "outputs": [],
   "source": [
    "def BalancedSampleWeights(y_train,class_weight_coef):\n",
    "    classes = np.unique(y_train, axis = 0)\n",
    "    classes.sort()\n",
    "    class_samples = np.bincount(y_train)\n",
    "    total_samples = class_samples.sum()\n",
    "    n_classes = len(class_samples)\n",
    "    weights = total_samples / (n_classes * class_samples * 1.0)\n",
    "    class_weight_dict = {key : value for (key, value) in zip(classes, weights)}\n",
    "    class_weight_dict[classes[1]] = class_weight_dict[classes[1]] * class_weight_coef\n",
    "    sample_weights = [class_weight_dict[i] for i in y_train]\n",
    "    return sample_weights"
   ]
  },
  {
   "cell_type": "code",
   "execution_count": 43,
   "metadata": {},
   "outputs": [
    {
     "name": "stderr",
     "output_type": "stream",
     "text": [
      "<ipython-input-42-cb8af1ca7184>:7: RuntimeWarning: divide by zero encountered in true_divide\n",
      "  weights = total_samples / (n_classes * class_samples * 1.0)\n"
     ]
    },
    {
     "data": {
      "text/plain": [
       "XGBClassifier(base_score=0.5, booster='gbtree', colsample_bylevel=1,\n",
       "              colsample_bynode=1, colsample_bytree=1, gamma=0, gpu_id=-1,\n",
       "              importance_type='gain', interaction_constraints='',\n",
       "              learning_rate=0.300000012, max_delta_step=0, max_depth=6,\n",
       "              min_child_weight=1, missing=nan, monotone_constraints='()',\n",
       "              n_estimators=100, n_jobs=0, num_parallel_tree=1,\n",
       "              objective='multi:softprob', random_state=0, reg_alpha=0,\n",
       "              reg_lambda=1, scale_pos_weight=None, subsample=1,\n",
       "              tree_method='exact', validate_parameters=1, verbosity=None)"
      ]
     },
     "execution_count": 43,
     "metadata": {},
     "output_type": "execute_result"
    }
   ],
   "source": [
    "weight=BalancedSampleWeights(y,class_weights)\n",
    "# scale_pos_weight = class_weights_dic\n",
    "model = xgb.XGBClassifier()\n",
    "model.fit(Xsm_train, ysm_train)"
   ]
  },
  {
   "cell_type": "code",
   "execution_count": 44,
   "metadata": {},
   "outputs": [],
   "source": [
    "#Generate predictions against our training and test data\n",
    "pred_train = model.predict(X_train)\n",
    "proba_train = model.predict_proba(X_train)\n",
    "pred_test = model.predict(X_test)\n",
    "proba_test = model.predict_proba(X_test)"
   ]
  },
  {
   "cell_type": "code",
   "execution_count": 45,
   "metadata": {},
   "outputs": [
    {
     "name": "stdout",
     "output_type": "stream",
     "text": [
      "Classification report (Test): \n",
      "\n",
      "              precision    recall  f1-score   support\n",
      "\n",
      "           1       0.51      0.45      0.48       329\n",
      "           2       0.68      0.63      0.65       441\n",
      "           3       0.62      0.70      0.66       565\n",
      "\n",
      "    accuracy                           0.62      1335\n",
      "   macro avg       0.60      0.59      0.60      1335\n",
      "weighted avg       0.61      0.62      0.61      1335\n",
      "\n",
      "Confusion matrix (Test): \n",
      "\n",
      "[[0.11086142 0.03595506 0.09962547]\n",
      " [0.0411985  0.20674157 0.082397  ]\n",
      " [0.06516854 0.05992509 0.29812734]]\n",
      "\n",
      "Train Accuracy: 0.8244255744255744\n",
      "Test Accuracy: 0.6157303370786517\n"
     ]
    }
   ],
   "source": [
    "# Print model report\n",
    "print(\"Classification report (Test): \\n\")\n",
    "print(metrics.classification_report(y_test, pred_test))\n",
    "print(\"Confusion matrix (Test): \\n\")\n",
    "print(metrics.confusion_matrix(y_test, pred_test)/len(y_test))\n",
    "\n",
    "print ('\\nTrain Accuracy:', metrics.accuracy_score(y_train, pred_train))\n",
    "print ('Test Accuracy:', metrics.accuracy_score(y_test, pred_test))\n"
   ]
  },
  {
   "cell_type": "code",
   "execution_count": 46,
   "metadata": {},
   "outputs": [
    {
     "data": {
      "image/png": "[encoded data removed]",
      "text/plain": [
       "<Figure size 432x288 with 1 Axes>"
      ]
     },
     "metadata": {
      "needs_background": "light"
     },
     "output_type": "display_data"
    }
   ],
   "source": [
    "xgb.plot_importance(model, importance_type='gain', max_num_features=15);"
   ]
  },
  {
   "cell_type": "markdown",
   "metadata": {},
   "source": [
    "## XGBOOST Model w/ HyperParameter Tuning"
   ]
  },
  {
   "cell_type": "code",
   "execution_count": 47,
   "metadata": {},
   "outputs": [],
   "source": [
    "space={'max_depth': hp.quniform(\"max_depth\", 3, 18, 1),\n",
    "        'gamma': hp.uniform ('gamma', 1,9),\n",
    "        'reg_alpha' : hp.quniform('reg_alpha', 40,180,1),\n",
    "        'reg_lambda' : hp.uniform('reg_lambda', 0,1),\n",
    "        'colsample_bytree' : hp.uniform('colsample_bytree', 0.5,1),\n",
    "        'min_child_weight' : hp.quniform('min_child_weight', 0, 10, 1),\n",
    "        'n_estimators': 130,\n",
    "        'seed': 0\n",
    "    }"
   ]
  },
  {
   "cell_type": "code",
   "execution_count": 48,
   "metadata": {},
   "outputs": [],
   "source": [
    "def objective(space):\n",
    "    clf=xgb.XGBClassifier(\n",
    "                    n_estimators =space['n_estimators'], max_depth = int(space['max_depth']), gamma = space['gamma'],\n",
    "                    reg_alpha = int(space['reg_alpha']),min_child_weight=int(space['min_child_weight']),\n",
    "                    colsample_bytree=int(space['colsample_bytree']))\n",
    "    \n",
    "    evaluation = [( X_train, y_train), ( X_test, y_test)]\n",
    "    \n",
    "    clf.fit(X_train, y_train,\n",
    "            eval_set=evaluation, eval_metric=\"merror\",\n",
    "            early_stopping_rounds=10,verbose=False)\n",
    "    \n",
    "\n",
    "    pred = clf.predict(X_test)\n",
    "    accuracy = metrics.accuracy_score(y_test, pred>0.5)\n",
    "    print (\"SCORE:\", accuracy)\n",
    "    return {'loss': -accuracy, 'status': STATUS_OK }"
   ]
  },
  {
   "cell_type": "code",
   "execution_count": 49,
   "metadata": {},
   "outputs": [
    {
     "name": "stdout",
     "output_type": "stream",
     "text": [
      "SCORE:                                                 \n",
      "0.24644194756554308                                    \n",
      "SCORE:                                                                             \n",
      "0.24644194756554308                                                                \n",
      "SCORE:                                                                             \n",
      "0.24644194756554308                                                                \n",
      "SCORE:                                                                             \n",
      "0.24644194756554308                                                                \n",
      "SCORE:                                                                             \n",
      "0.24644194756554308                                                                \n",
      "SCORE:                                                                             \n",
      "0.24644194756554308                                                                \n",
      "SCORE:                                                                             \n",
      "0.24644194756554308                                                                \n",
      "SCORE:                                                                             \n",
      "0.24644194756554308                                                                \n",
      "SCORE:                                                                             \n",
      "0.24644194756554308                                                                \n",
      "SCORE:                                                                             \n",
      "0.24644194756554308                                                                \n",
      "SCORE:                                                                              \n",
      "0.24644194756554308                                                                 \n",
      "SCORE:                                                                              \n",
      "0.24644194756554308                                                                 \n",
      "SCORE:                                                                              \n",
      "0.24644194756554308                                                                 \n",
      "SCORE:                                                                              \n",
      "0.24644194756554308                                                                 \n",
      "SCORE:                                                                              \n",
      "0.24644194756554308                                                                 \n",
      "SCORE:                                                                              \n",
      "0.24644194756554308                                                                 \n",
      "SCORE:                                                                              \n",
      "0.24644194756554308                                                                 \n",
      "SCORE:                                                                              \n",
      "0.24644194756554308                                                                 \n",
      "SCORE:                                                                              \n",
      "0.24644194756554308                                                                 \n",
      "SCORE:                                                                              \n",
      "0.24644194756554308                                                                 \n",
      "SCORE:                                                                              \n",
      "0.24644194756554308                                                                 \n",
      "SCORE:                                                                              \n",
      "0.24644194756554308                                                                 \n",
      "SCORE:                                                                              \n",
      "0.24644194756554308                                                                 \n",
      "SCORE:                                                                              \n",
      "0.24644194756554308                                                                 \n",
      "SCORE:                                                                              \n",
      "0.24644194756554308                                                                 \n",
      "SCORE:                                                                              \n",
      "0.24644194756554308                                                                 \n",
      "SCORE:                                                                              \n",
      "0.24644194756554308                                                                 \n",
      "SCORE:                                                                              \n",
      "0.24644194756554308                                                                 \n",
      "SCORE:                                                                              \n",
      "0.24644194756554308                                                                 \n",
      "SCORE:                                                                              \n",
      "0.24644194756554308                                                                 \n",
      "SCORE:                                                                              \n",
      "0.24644194756554308                                                                 \n",
      "SCORE:                                                                              \n",
      "0.24644194756554308                                                                 \n",
      "SCORE:                                                                              \n",
      "0.24644194756554308                                                                 \n",
      "SCORE:                                                                              \n",
      "0.24644194756554308                                                                 \n",
      "SCORE:                                                                              \n",
      "0.24644194756554308                                                                 \n",
      "SCORE:                                                                              \n",
      "0.24644194756554308                                                                 \n",
      "SCORE:                                                                              \n",
      "0.24644194756554308                                                                 \n",
      "SCORE:                                                                              \n",
      "0.24644194756554308                                                                 \n",
      "SCORE:                                                                              \n",
      "0.24644194756554308                                                                 \n",
      "SCORE:                                                                              \n",
      "0.24644194756554308                                                                 \n",
      "SCORE:                                                                              \n",
      "0.24644194756554308                                                                 \n",
      "SCORE:                                                                              \n",
      "0.24644194756554308                                                                 \n",
      "SCORE:                                                                              \n",
      "0.24644194756554308                                                                 \n",
      "SCORE:                                                                              \n",
      "0.24644194756554308                                                                 \n",
      "SCORE:                                                                              \n",
      "0.24644194756554308                                                                 \n",
      "SCORE:                                                                              \n",
      "0.24644194756554308                                                                 \n",
      "SCORE:                                                                              \n",
      "0.24644194756554308                                                                 \n",
      "SCORE:                                                                              \n",
      "0.24644194756554308                                                                 \n",
      "SCORE:                                                                              \n",
      "0.24644194756554308                                                                 \n",
      "SCORE:                                                                              \n",
      "0.24644194756554308                                                                 \n",
      "SCORE:                                                                              \n",
      "0.24644194756554308                                                                 \n",
      "SCORE:                                                                              \n",
      "0.24644194756554308                                                                 \n",
      "SCORE:                                                                              \n",
      "0.24644194756554308                                                                 \n",
      "SCORE:                                                                              \n",
      "0.24644194756554308                                                                 \n",
      "SCORE:                                                                              \n",
      "0.24644194756554308                                                                 \n",
      "SCORE:                                                                              \n",
      "0.24644194756554308                                                                 \n",
      "SCORE:                                                                              \n",
      "0.24644194756554308                                                                 \n",
      "SCORE:                                                                              \n",
      "0.24644194756554308                                                                 \n",
      "SCORE:                                                                              \n",
      "0.24644194756554308                                                                 \n",
      "SCORE:                                                                              \n",
      "0.24644194756554308                                                                 \n",
      "SCORE:                                                                              \n",
      "0.24644194756554308                                                                 \n",
      "SCORE:                                                                              \n",
      "0.24644194756554308                                                                 \n",
      "SCORE:                                                                              \n",
      "0.24644194756554308                                                                 \n",
      "SCORE:                                                                              \n",
      "0.24644194756554308                                                                 \n",
      "SCORE:                                                                              \n",
      "0.24644194756554308                                                                 \n",
      "SCORE:                                                                              \n",
      "0.24644194756554308                                                                 \n",
      "SCORE:                                                                              \n",
      "0.24644194756554308                                                                 \n",
      "SCORE:                                                                              \n",
      "0.24644194756554308                                                                 \n",
      "SCORE:                                                                              \n",
      "0.24644194756554308                                                                 \n",
      "SCORE:                                                                              \n",
      "0.24644194756554308                                                                 \n",
      "SCORE:                                                                              \n",
      "0.24644194756554308                                                                 \n",
      "SCORE:                                                                              \n",
      "0.24644194756554308                                                                 \n",
      "SCORE:                                                                              \n",
      "0.24644194756554308                                                                 \n",
      "SCORE:                                                                              \n",
      "0.24644194756554308                                                                 \n",
      "SCORE:                                                                              \n",
      "0.24644194756554308                                                                 \n",
      "SCORE:                                                                              \n",
      "0.24644194756554308                                                                 \n",
      "SCORE:                                                                              \n",
      "0.24644194756554308                                                                 \n",
      "SCORE:                                                                              \n",
      "0.24644194756554308                                                                 \n",
      "SCORE:                                                                              \n",
      "0.24644194756554308                                                                 \n",
      "SCORE:                                                                              \n",
      "0.24644194756554308                                                                 \n",
      "SCORE:                                                                              \n",
      "0.24644194756554308                                                                 \n",
      "SCORE:                                                                              \n",
      "0.24644194756554308                                                                 \n",
      "SCORE:                                                                              \n",
      "0.24644194756554308                                                                 \n",
      "SCORE:                                                                              \n",
      "0.24644194756554308                                                                 \n",
      "SCORE:                                                                              \n",
      "0.24644194756554308                                                                 \n",
      "SCORE:                                                                              \n",
      "0.24644194756554308                                                                 \n",
      "SCORE:                                                                              \n",
      "0.24644194756554308                                                                 \n",
      "SCORE:                                                                              \n",
      "0.24644194756554308                                                                 \n",
      "SCORE:                                                                              \n",
      "0.24644194756554308                                                                 \n",
      "SCORE:                                                                              \n",
      "0.24644194756554308                                                                 \n",
      "SCORE:                                                                              \n",
      "0.24644194756554308                                                                 \n",
      "SCORE:                                                                              \n",
      "0.24644194756554308                                                                 \n",
      "SCORE:                                                                              \n",
      "0.24644194756554308                                                                 \n",
      "SCORE:                                                                              \n",
      "0.24644194756554308                                                                 \n",
      "SCORE:                                                                              \n",
      "0.24644194756554308                                                                 \n",
      "SCORE:                                                                              \n",
      "0.24644194756554308                                                                 \n",
      "SCORE:                                                                              \n",
      "0.24644194756554308                                                                 \n",
      "SCORE:                                                                              \n",
      "0.24644194756554308                                                                 \n",
      "SCORE:                                                                              \n",
      "0.24644194756554308                                                                 \n",
      "SCORE:                                                                              \n",
      "0.24644194756554308                                                                 \n",
      "100%|██████████| 100/100 [01:32<00:00,  1.09trial/s, best loss: -0.24644194756554308]\n"
     ]
    }
   ],
   "source": [
    "trials = Trials()\n",
    "\n",
    "best_hyperparams = fmin(fn = objective,\n",
    "                        space = space,\n",
    "                        algo = tpe.suggest,\n",
    "                        max_evals = 100,\n",
    "                        trials = trials)"
   ]
  },
  {
   "cell_type": "code",
   "execution_count": 50,
   "metadata": {},
   "outputs": [
    {
     "name": "stdout",
     "output_type": "stream",
     "text": [
      "The best hyperparameters are :  \n",
      "\n",
      "{'colsample_bytree': 0.5804702069860659, 'gamma': 5.876523978220711, 'max_depth': 14.0, 'min_child_weight': 10.0, 'reg_alpha': 165.0, 'reg_lambda': 0.8174677264258373}\n"
     ]
    }
   ],
   "source": [
    "print(\"The best hyperparameters are : \",\"\\n\")\n",
    "print(best_hyperparams)"
   ]
  },
  {
   "cell_type": "code",
   "execution_count": 51,
   "metadata": {},
   "outputs": [
    {
     "name": "stdout",
     "output_type": "stream",
     "text": [
      "[0]\tvalidation_0-merror:0.51890\tvalidation_1-merror:0.54082\n",
      "[1]\tvalidation_0-merror:0.50391\tvalidation_1-merror:0.52060\n",
      "[2]\tvalidation_0-merror:0.48843\tvalidation_1-merror:0.51086\n",
      "[3]\tvalidation_0-merror:0.48909\tvalidation_1-merror:0.50562\n",
      "[4]\tvalidation_0-merror:0.50042\tvalidation_1-merror:0.51685\n",
      "[5]\tvalidation_0-merror:0.48743\tvalidation_1-merror:0.51685\n",
      "[6]\tvalidation_0-merror:0.48710\tvalidation_1-merror:0.51611\n",
      "[7]\tvalidation_0-merror:0.48543\tvalidation_1-merror:0.51386\n",
      "[8]\tvalidation_0-merror:0.48676\tvalidation_1-merror:0.51611\n",
      "[9]\tvalidation_0-merror:0.48501\tvalidation_1-merror:0.51161\n",
      "[10]\tvalidation_0-merror:0.48310\tvalidation_1-merror:0.51086\n",
      "[11]\tvalidation_0-merror:0.48268\tvalidation_1-merror:0.51086\n",
      "[12]\tvalidation_0-merror:0.48327\tvalidation_1-merror:0.51161\n",
      "[13]\tvalidation_0-merror:0.48327\tvalidation_1-merror:0.51161\n",
      "[14]\tvalidation_0-merror:0.48327\tvalidation_1-merror:0.51161\n",
      "[15]\tvalidation_0-merror:0.48327\tvalidation_1-merror:0.51161\n",
      "[16]\tvalidation_0-merror:0.48327\tvalidation_1-merror:0.51161\n",
      "[17]\tvalidation_0-merror:0.48327\tvalidation_1-merror:0.51161\n",
      "[18]\tvalidation_0-merror:0.48327\tvalidation_1-merror:0.51161\n",
      "[19]\tvalidation_0-merror:0.48402\tvalidation_1-merror:0.50936\n",
      "[20]\tvalidation_0-merror:0.48402\tvalidation_1-merror:0.50936\n",
      "[21]\tvalidation_0-merror:0.48418\tvalidation_1-merror:0.50562\n",
      "[22]\tvalidation_0-merror:0.48418\tvalidation_1-merror:0.50562\n",
      "[23]\tvalidation_0-merror:0.48660\tvalidation_1-merror:0.51161\n",
      "[24]\tvalidation_0-merror:0.48660\tvalidation_1-merror:0.51161\n",
      "[25]\tvalidation_0-merror:0.48660\tvalidation_1-merror:0.51161\n",
      "[26]\tvalidation_0-merror:0.48676\tvalidation_1-merror:0.51011\n",
      "[27]\tvalidation_0-merror:0.48676\tvalidation_1-merror:0.51011\n",
      "[28]\tvalidation_0-merror:0.48676\tvalidation_1-merror:0.51011\n",
      "[29]\tvalidation_0-merror:0.48676\tvalidation_1-merror:0.51011\n",
      "[30]\tvalidation_0-merror:0.48676\tvalidation_1-merror:0.51011\n",
      "[31]\tvalidation_0-merror:0.48676\tvalidation_1-merror:0.51011\n",
      "[32]\tvalidation_0-merror:0.48676\tvalidation_1-merror:0.51011\n",
      "[33]\tvalidation_0-merror:0.48676\tvalidation_1-merror:0.51011\n",
      "[34]\tvalidation_0-merror:0.48676\tvalidation_1-merror:0.51011\n",
      "[35]\tvalidation_0-merror:0.48793\tvalidation_1-merror:0.50936\n",
      "[36]\tvalidation_0-merror:0.48793\tvalidation_1-merror:0.50936\n",
      "[37]\tvalidation_0-merror:0.48793\tvalidation_1-merror:0.50936\n",
      "[38]\tvalidation_0-merror:0.48793\tvalidation_1-merror:0.50936\n",
      "[39]\tvalidation_0-merror:0.48793\tvalidation_1-merror:0.50936\n",
      "[40]\tvalidation_0-merror:0.48793\tvalidation_1-merror:0.50936\n",
      "[41]\tvalidation_0-merror:0.48793\tvalidation_1-merror:0.50936\n",
      "[42]\tvalidation_0-merror:0.48793\tvalidation_1-merror:0.50936\n",
      "[43]\tvalidation_0-merror:0.48826\tvalidation_1-merror:0.50936\n",
      "[44]\tvalidation_0-merror:0.48826\tvalidation_1-merror:0.50936\n",
      "[45]\tvalidation_0-merror:0.48826\tvalidation_1-merror:0.50936\n",
      "[46]\tvalidation_0-merror:0.48826\tvalidation_1-merror:0.50936\n",
      "[47]\tvalidation_0-merror:0.48826\tvalidation_1-merror:0.50936\n",
      "[48]\tvalidation_0-merror:0.48668\tvalidation_1-merror:0.50787\n",
      "[49]\tvalidation_0-merror:0.48685\tvalidation_1-merror:0.50787\n",
      "[50]\tvalidation_0-merror:0.48593\tvalidation_1-merror:0.50712\n",
      "[51]\tvalidation_0-merror:0.48585\tvalidation_1-merror:0.50712\n",
      "[52]\tvalidation_0-merror:0.48610\tvalidation_1-merror:0.50712\n",
      "[53]\tvalidation_0-merror:0.48593\tvalidation_1-merror:0.50712\n",
      "[54]\tvalidation_0-merror:0.48618\tvalidation_1-merror:0.50712\n",
      "[55]\tvalidation_0-merror:0.48618\tvalidation_1-merror:0.50562\n",
      "[56]\tvalidation_0-merror:0.48626\tvalidation_1-merror:0.50562\n",
      "[57]\tvalidation_0-merror:0.48618\tvalidation_1-merror:0.50562\n",
      "[58]\tvalidation_0-merror:0.48618\tvalidation_1-merror:0.50562\n",
      "[59]\tvalidation_0-merror:0.48593\tvalidation_1-merror:0.50487\n",
      "[60]\tvalidation_0-merror:0.48593\tvalidation_1-merror:0.50487\n",
      "[61]\tvalidation_0-merror:0.48585\tvalidation_1-merror:0.50562\n",
      "[62]\tvalidation_0-merror:0.48585\tvalidation_1-merror:0.50562\n",
      "[63]\tvalidation_0-merror:0.48868\tvalidation_1-merror:0.50936\n",
      "[64]\tvalidation_0-merror:0.48860\tvalidation_1-merror:0.50936\n",
      "[65]\tvalidation_0-merror:0.48826\tvalidation_1-merror:0.50936\n",
      "[66]\tvalidation_0-merror:0.48826\tvalidation_1-merror:0.50936\n",
      "[67]\tvalidation_0-merror:0.48826\tvalidation_1-merror:0.50936\n",
      "[68]\tvalidation_0-merror:0.48801\tvalidation_1-merror:0.51086\n",
      "[69]\tvalidation_0-merror:0.48801\tvalidation_1-merror:0.51086\n",
      "[70]\tvalidation_0-merror:0.48793\tvalidation_1-merror:0.51086\n",
      "[71]\tvalidation_0-merror:0.48793\tvalidation_1-merror:0.51086\n",
      "[72]\tvalidation_0-merror:0.48793\tvalidation_1-merror:0.51086\n",
      "[73]\tvalidation_0-merror:0.48793\tvalidation_1-merror:0.51086\n",
      "[74]\tvalidation_0-merror:0.48793\tvalidation_1-merror:0.51086\n",
      "[75]\tvalidation_0-merror:0.48660\tvalidation_1-merror:0.51086\n",
      "[76]\tvalidation_0-merror:0.48660\tvalidation_1-merror:0.51086\n",
      "[77]\tvalidation_0-merror:0.48660\tvalidation_1-merror:0.51086\n",
      "[78]\tvalidation_0-merror:0.48660\tvalidation_1-merror:0.51086\n",
      "[79]\tvalidation_0-merror:0.48660\tvalidation_1-merror:0.51086\n",
      "[80]\tvalidation_0-merror:0.48660\tvalidation_1-merror:0.51086\n",
      "[81]\tvalidation_0-merror:0.48660\tvalidation_1-merror:0.51086\n",
      "[82]\tvalidation_0-merror:0.48660\tvalidation_1-merror:0.51086\n",
      "[83]\tvalidation_0-merror:0.48660\tvalidation_1-merror:0.51086\n",
      "[84]\tvalidation_0-merror:0.48660\tvalidation_1-merror:0.51086\n",
      "[85]\tvalidation_0-merror:0.48660\tvalidation_1-merror:0.51086\n",
      "[86]\tvalidation_0-merror:0.48660\tvalidation_1-merror:0.51086\n",
      "[87]\tvalidation_0-merror:0.48660\tvalidation_1-merror:0.51086\n",
      "[88]\tvalidation_0-merror:0.48660\tvalidation_1-merror:0.51086\n",
      "[89]\tvalidation_0-merror:0.48660\tvalidation_1-merror:0.51086\n",
      "[90]\tvalidation_0-merror:0.48660\tvalidation_1-merror:0.51086\n",
      "[91]\tvalidation_0-merror:0.48660\tvalidation_1-merror:0.51086\n",
      "[92]\tvalidation_0-merror:0.48660\tvalidation_1-merror:0.51086\n",
      "[93]\tvalidation_0-merror:0.48660\tvalidation_1-merror:0.51086\n",
      "[94]\tvalidation_0-merror:0.48660\tvalidation_1-merror:0.51086\n",
      "[95]\tvalidation_0-merror:0.48660\tvalidation_1-merror:0.51086\n",
      "[96]\tvalidation_0-merror:0.48660\tvalidation_1-merror:0.51086\n",
      "[97]\tvalidation_0-merror:0.48660\tvalidation_1-merror:0.51086\n",
      "[98]\tvalidation_0-merror:0.48660\tvalidation_1-merror:0.51086\n",
      "[99]\tvalidation_0-merror:0.48660\tvalidation_1-merror:0.51086\n"
     ]
    },
    {
     "data": {
      "text/plain": [
       "XGBClassifier(base_score=0.5, booster='gbtree', colsample_bylevel=1,\n",
       "              colsample_bynode=1, colsample_bytree=0.5159792701612389,\n",
       "              gamma=8.49272549753292, gpu_id=-1, importance_type='gain',\n",
       "              interaction_constraints='', learning_rate=0.300000012,\n",
       "              max_delta_step=0, max_depth=18, min_child_weight=1, missing=nan,\n",
       "              monotone_constraints='()', n_estimators=100, n_jobs=0,\n",
       "              num_parallel_tree=1, objective='multi:softprob', random_state=0,\n",
       "              reg_alpha=155, reg_lambda=0.9506362212826094,\n",
       "              scale_pos_weight=None, subsample=1, tree_method='exact',\n",
       "              validate_parameters=1, verbosity=None)"
      ]
     },
     "execution_count": 51,
     "metadata": {},
     "output_type": "execute_result"
    }
   ],
   "source": [
    "\n",
    "evaluation = [( X_train, y_train), ( X_test, y_test)]\n",
    "model_2 = xgb.XGBClassifier(\n",
    "    colsample_bytree=0.5159792701612389,\n",
    "    gamma=8.49272549753292,\n",
    "    max_depth= 18,\n",
    "    min_child_weight=1,\n",
    "    reg_alpha=155,\n",
    "    reg_lambda= 0.9506362212826094,\n",
    ")\n",
    "model_2.fit(Xsm_train, ysm_train, eval_set=evaluation)"
   ]
  },
  {
   "cell_type": "code",
   "execution_count": 52,
   "metadata": {},
   "outputs": [],
   "source": [
    "pred_train = model.predict(X_train)\n",
    "proba_train = model.predict_proba(X_train)\n",
    "pred_test = model.predict(X_test)\n",
    "proba_test = model.predict_proba(X_test)"
   ]
  },
  {
   "cell_type": "code",
   "execution_count": 53,
   "metadata": {},
   "outputs": [
    {
     "name": "stdout",
     "output_type": "stream",
     "text": [
      "Classification report (Test): \n",
      "\n",
      "              precision    recall  f1-score   support\n",
      "\n",
      "           1       0.51      0.45      0.48       329\n",
      "           2       0.68      0.63      0.65       441\n",
      "           3       0.62      0.70      0.66       565\n",
      "\n",
      "    accuracy                           0.62      1335\n",
      "   macro avg       0.60      0.59      0.60      1335\n",
      "weighted avg       0.61      0.62      0.61      1335\n",
      "\n",
      "Confusion matrix (Test): \n",
      "\n",
      "[[0.11086142 0.03595506 0.09962547]\n",
      " [0.0411985  0.20674157 0.082397  ]\n",
      " [0.06516854 0.05992509 0.29812734]]\n",
      "\n",
      "Train Accuracy: 0.8244255744255744\n",
      "Test Accuracy: 0.6157303370786517\n"
     ]
    }
   ],
   "source": [
    "# Print model report\n",
    "print(\"Classification report (Test): \\n\")\n",
    "print(metrics.classification_report(y_test, pred_test))\n",
    "print(\"Confusion matrix (Test): \\n\")\n",
    "print(metrics.confusion_matrix(y_test, pred_test)/len(y_test))\n",
    "\n",
    "print ('\\nTrain Accuracy:', metrics.accuracy_score(y_train, pred_train))\n",
    "print ('Test Accuracy:', metrics.accuracy_score(y_test, pred_test))\n"
   ]
  },
  {
   "cell_type": "code",
   "execution_count": 54,
   "metadata": {},
   "outputs": [
    {
     "ename": "KeyError",
     "evalue": "'error'",
     "output_type": "error",
     "traceback": [
      "\u001b[0;31m---------------------------------------------------------------------------\u001b[0m",
      "\u001b[0;31mKeyError\u001b[0m                                  Traceback (most recent call last)",
      "\u001b[0;32m<ipython-input-54-165b0f3d82bc>\u001b[0m in \u001b[0;36m<module>\u001b[0;34m\u001b[0m\n\u001b[1;32m      1\u001b[0m \u001b[0;31m# retrieve performance metrics\u001b[0m\u001b[0;34m\u001b[0m\u001b[0;34m\u001b[0m\u001b[0;34m\u001b[0m\u001b[0m\n\u001b[1;32m      2\u001b[0m \u001b[0mresults\u001b[0m \u001b[0;34m=\u001b[0m \u001b[0mmodel_2\u001b[0m\u001b[0;34m.\u001b[0m\u001b[0mevals_result\u001b[0m\u001b[0;34m(\u001b[0m\u001b[0;34m)\u001b[0m\u001b[0;34m\u001b[0m\u001b[0;34m\u001b[0m\u001b[0m\n\u001b[0;32m----> 3\u001b[0;31m \u001b[0mepochs\u001b[0m \u001b[0;34m=\u001b[0m \u001b[0mlen\u001b[0m\u001b[0;34m(\u001b[0m\u001b[0mresults\u001b[0m\u001b[0;34m[\u001b[0m\u001b[0;34m'validation_0'\u001b[0m\u001b[0;34m]\u001b[0m\u001b[0;34m[\u001b[0m\u001b[0;34m'error'\u001b[0m\u001b[0;34m]\u001b[0m\u001b[0;34m)\u001b[0m\u001b[0;34m\u001b[0m\u001b[0;34m\u001b[0m\u001b[0m\n\u001b[0m\u001b[1;32m      4\u001b[0m \u001b[0mx_axis\u001b[0m \u001b[0;34m=\u001b[0m \u001b[0mrange\u001b[0m\u001b[0;34m(\u001b[0m\u001b[0;36m0\u001b[0m\u001b[0;34m,\u001b[0m \u001b[0mepochs\u001b[0m\u001b[0;34m)\u001b[0m\u001b[0;34m\u001b[0m\u001b[0;34m\u001b[0m\u001b[0m\n\u001b[1;32m      5\u001b[0m \u001b[0;31m# plot log loss\u001b[0m\u001b[0;34m\u001b[0m\u001b[0;34m\u001b[0m\u001b[0;34m\u001b[0m\u001b[0m\n",
      "\u001b[0;31mKeyError\u001b[0m: 'error'"
     ]
    }
   ],
   "source": [
    "# retrieve performance metrics\n",
    "results = model_2.evals_result()\n",
    "epochs = len(results['validation_0']['error'])\n",
    "x_axis = range(0, epochs)\n",
    "# plot log loss\n",
    "fig, ax = pyplot.subplots()\n",
    "ax.plot(x_axis, results['validation_0']['logloss'], label='Train')\n",
    "ax.plot(x_axis, results['validation_1']['logloss'], label='Test')\n",
    "ax.legend()\n",
    "pyplot.ylabel('Log Loss')\n",
    "pyplot.title('XGBoost Log Loss')\n",
    "pyplot.show()\n",
    "# plot classification error\n",
    "fig, ax = pyplot.subplots()\n",
    "ax.plot(x_axis, results['validation_0']['error'], label='Train')\n",
    "ax.plot(x_axis, results['validation_1']['error'], label='Test')\n",
    "ax.legend()\n",
    "pyplot.ylabel('Classification Error')\n",
    "pyplot.title('XGBoost Classification Error')\n",
    "pyplot.show()"
   ]
  },
  {
   "cell_type": "code",
   "execution_count": null,
   "metadata": {},
   "outputs": [],
   "source": []
  },
  {
   "cell_type": "code",
   "execution_count": null,
   "metadata": {},
   "outputs": [],
   "source": []
  }
 ],
 "metadata": {
  "kernelspec": {
   "display_name": "Python 3",
   "language": "python",
   "name": "python3"
  },
  "language_info": {
   "codemirror_mode": {
    "name": "ipython",
    "version": 3
   },
   "file_extension": ".py",
   "mimetype": "text/x-python",
   "name": "python",
   "nbconvert_exporter": "python",
   "pygments_lexer": "ipython3",
   "version": "3.8.3"
  }
 },
 "nbformat": 4,
 "nbformat_minor": 4
}
