{
 "cells": [
  {
   "cell_type": "markdown",
   "metadata": {},
   "source": [
    "# [2016-2019]"
   ]
  },
  {
   "cell_type": "code",
   "execution_count": 123,
   "metadata": {},
   "outputs": [],
   "source": [
    "import pandas as pd\n",
    "import numpy as np\n",
    "import matplotlib.pyplot as plt\n",
    "import seaborn as sns"
   ]
  },
  {
   "cell_type": "code",
   "execution_count": 124,
   "metadata": {},
   "outputs": [],
   "source": [
    "from sklearn.cluster import KMeans\n",
    "from sklearn.metrics import silhouette_score\n",
    "from sklearn.preprocessing import StandardScaler"
   ]
  },
  {
   "cell_type": "code",
   "execution_count": 125,
   "metadata": {},
   "outputs": [],
   "source": [
    "from sklearn.neighbors import KNeighborsClassifier\n",
    "from sklearn.model_selection import train_test_split, cross_val_score"
   ]
  },
  {
   "cell_type": "code",
   "execution_count": 126,
   "metadata": {},
   "outputs": [],
   "source": [
    "from sklearn.linear_model import LogisticRegression"
   ]
  },
  {
   "cell_type": "code",
   "execution_count": 127,
   "metadata": {},
   "outputs": [],
   "source": [
    "'''\n",
    "Need to combine both datasets to create main dataframe to be used in the\n",
    "EDA and preprocessing stages.\n",
    "'''\n",
    "carp_inv = pd.read_csv('../data/carpetas-de-investigacion-pgj-cdmx-years.csv')\n",
    "afluence_d_mb = pd.read_csv('../data/afluencia-diaria-de-metrobus-cdmx-years.csv')\n",
    "stations_mb = pd.read_csv('../data/estaciones-metrobus0.csv')"
   ]
  },
  {
   "cell_type": "code",
   "execution_count": 128,
   "metadata": {},
   "outputs": [
    {
     "data": {
      "text/html": [
       "<div>\n",
       "<style scoped>\n",
       "    .dataframe tbody tr th:only-of-type {\n",
       "        vertical-align: middle;\n",
       "    }\n",
       "\n",
       "    .dataframe tbody tr th {\n",
       "        vertical-align: top;\n",
       "    }\n",
       "\n",
       "    .dataframe thead th {\n",
       "        text-align: right;\n",
       "    }\n",
       "</style>\n",
       "<table border=\"1\" class=\"dataframe\">\n",
       "  <thead>\n",
       "    <tr style=\"text-align: right;\">\n",
       "      <th></th>\n",
       "      <th>año_hechos</th>\n",
       "      <th>mes_hechos</th>\n",
       "      <th>fecha_hechos</th>\n",
       "      <th>delito</th>\n",
       "      <th>categoria_delito</th>\n",
       "      <th>fiscalía</th>\n",
       "      <th>agencia</th>\n",
       "      <th>unidad_investigacion</th>\n",
       "      <th>colonia_hechos</th>\n",
       "      <th>alcaldia_hechos</th>\n",
       "      <th>fecha_inicio</th>\n",
       "      <th>mes_inicio</th>\n",
       "      <th>ao_inicio</th>\n",
       "      <th>calle_hechos</th>\n",
       "      <th>calle_hechos2</th>\n",
       "      <th>longitud</th>\n",
       "      <th>latitud</th>\n",
       "      <th>Geopoint</th>\n",
       "    </tr>\n",
       "  </thead>\n",
       "  <tbody>\n",
       "    <tr>\n",
       "      <th>0</th>\n",
       "      <td>2016.0</td>\n",
       "      <td>Enero</td>\n",
       "      <td>2016-01-05 17:00:00</td>\n",
       "      <td>LESIONES CULPOSAS</td>\n",
       "      <td>DELITO DE BAJO IMPACTO</td>\n",
       "      <td>INVESTIGACIÓN EN GUSTAVO A. MADERO</td>\n",
       "      <td>GAM-6</td>\n",
       "      <td>UI-1CD</td>\n",
       "      <td>GRANJAS MODERNAS</td>\n",
       "      <td>GUSTAVO A MADERO</td>\n",
       "      <td>2016-01-05 18:35:37</td>\n",
       "      <td>Enero</td>\n",
       "      <td>2016</td>\n",
       "      <td>SAN JUAN DE ARAGON</td>\n",
       "      <td>CALLE ANZAR</td>\n",
       "      <td>-99.103527</td>\n",
       "      <td>19.481076</td>\n",
       "      <td>19.4810759998,-99.103527</td>\n",
       "    </tr>\n",
       "    <tr>\n",
       "      <th>1</th>\n",
       "      <td>2017.0</td>\n",
       "      <td>Noviembre</td>\n",
       "      <td>2017-11-01 14:00:00</td>\n",
       "      <td>ROBO DE VEHICULO DE SERVICIO PARTICULAR SIN VI...</td>\n",
       "      <td>ROBO DE VEHÍCULO CON Y SIN VIOLENCIA</td>\n",
       "      <td>INVESTIGACIÓN EN AZCAPOTZALCO</td>\n",
       "      <td>AZ-1</td>\n",
       "      <td>UI-1SD</td>\n",
       "      <td>NaN</td>\n",
       "      <td>TLALNEPANTLA DE BAZ</td>\n",
       "      <td>2017-11-01 16:45:20</td>\n",
       "      <td>Noviembre</td>\n",
       "      <td>2017</td>\n",
       "      <td>BENITO JUAREZ</td>\n",
       "      <td>MUNICIPIO DE TLALNEPANTLA, ESTADO DE MEXICO</td>\n",
       "      <td>NaN</td>\n",
       "      <td>NaN</td>\n",
       "      <td>NaN</td>\n",
       "    </tr>\n",
       "    <tr>\n",
       "      <th>2</th>\n",
       "      <td>2017.0</td>\n",
       "      <td>Noviembre</td>\n",
       "      <td>2017-11-01 16:40:00</td>\n",
       "      <td>ROBO A TRANSEUNTE EN VIA PUBLICA CON VIOLENCIA</td>\n",
       "      <td>ROBO A TRANSEUNTE EN VÍA PÚBLICA CON Y SIN VIO...</td>\n",
       "      <td>INVESTIGACIÓN EN IZTACALCO</td>\n",
       "      <td>IZC-2</td>\n",
       "      <td>UI-1SD</td>\n",
       "      <td>GABRIEL RAMOS MILLÁN SECCIÓN TLACOTAL</td>\n",
       "      <td>IZTACALCO</td>\n",
       "      <td>2017-11-01 16:56:04</td>\n",
       "      <td>Noviembre</td>\n",
       "      <td>2017</td>\n",
       "      <td>SUR 117</td>\n",
       "      <td>ORIENTE 100A</td>\n",
       "      <td>-99.106072</td>\n",
       "      <td>19.395398</td>\n",
       "      <td>19.3953976727,-99.1060723829</td>\n",
       "    </tr>\n",
       "  </tbody>\n",
       "</table>\n",
       "</div>"
      ],
      "text/plain": [
       "   año_hechos mes_hechos         fecha_hechos  \\\n",
       "0      2016.0      Enero  2016-01-05 17:00:00   \n",
       "1      2017.0  Noviembre  2017-11-01 14:00:00   \n",
       "2      2017.0  Noviembre  2017-11-01 16:40:00   \n",
       "\n",
       "                                              delito  \\\n",
       "0                                  LESIONES CULPOSAS   \n",
       "1  ROBO DE VEHICULO DE SERVICIO PARTICULAR SIN VI...   \n",
       "2     ROBO A TRANSEUNTE EN VIA PUBLICA CON VIOLENCIA   \n",
       "\n",
       "                                    categoria_delito  \\\n",
       "0                             DELITO DE BAJO IMPACTO   \n",
       "1               ROBO DE VEHÍCULO CON Y SIN VIOLENCIA   \n",
       "2  ROBO A TRANSEUNTE EN VÍA PÚBLICA CON Y SIN VIO...   \n",
       "\n",
       "                             fiscalía agencia unidad_investigacion  \\\n",
       "0  INVESTIGACIÓN EN GUSTAVO A. MADERO   GAM-6               UI-1CD   \n",
       "1       INVESTIGACIÓN EN AZCAPOTZALCO    AZ-1               UI-1SD   \n",
       "2          INVESTIGACIÓN EN IZTACALCO   IZC-2               UI-1SD   \n",
       "\n",
       "                          colonia_hechos      alcaldia_hechos  \\\n",
       "0                       GRANJAS MODERNAS     GUSTAVO A MADERO   \n",
       "1                                    NaN  TLALNEPANTLA DE BAZ   \n",
       "2  GABRIEL RAMOS MILLÁN SECCIÓN TLACOTAL            IZTACALCO   \n",
       "\n",
       "          fecha_inicio mes_inicio  ao_inicio        calle_hechos  \\\n",
       "0  2016-01-05 18:35:37      Enero       2016  SAN JUAN DE ARAGON   \n",
       "1  2017-11-01 16:45:20  Noviembre       2017       BENITO JUAREZ   \n",
       "2  2017-11-01 16:56:04  Noviembre       2017             SUR 117   \n",
       "\n",
       "                                 calle_hechos2   longitud    latitud  \\\n",
       "0                                  CALLE ANZAR -99.103527  19.481076   \n",
       "1  MUNICIPIO DE TLALNEPANTLA, ESTADO DE MEXICO        NaN        NaN   \n",
       "2                                 ORIENTE 100A -99.106072  19.395398   \n",
       "\n",
       "                       Geopoint  \n",
       "0      19.4810759998,-99.103527  \n",
       "1                           NaN  \n",
       "2  19.3953976727,-99.1060723829  "
      ]
     },
     "execution_count": 128,
     "metadata": {},
     "output_type": "execute_result"
    }
   ],
   "source": [
    "carp_inv.head(3)"
   ]
  },
  {
   "cell_type": "code",
   "execution_count": 129,
   "metadata": {},
   "outputs": [
    {
     "data": {
      "text/html": [
       "<div>\n",
       "<style scoped>\n",
       "    .dataframe tbody tr th:only-of-type {\n",
       "        vertical-align: middle;\n",
       "    }\n",
       "\n",
       "    .dataframe tbody tr th {\n",
       "        vertical-align: top;\n",
       "    }\n",
       "\n",
       "    .dataframe thead th {\n",
       "        text-align: right;\n",
       "    }\n",
       "</style>\n",
       "<table border=\"1\" class=\"dataframe\">\n",
       "  <thead>\n",
       "    <tr style=\"text-align: right;\">\n",
       "      <th></th>\n",
       "      <th>año_hechos</th>\n",
       "      <th>ao_inicio</th>\n",
       "      <th>longitud</th>\n",
       "      <th>latitud</th>\n",
       "    </tr>\n",
       "  </thead>\n",
       "  <tbody>\n",
       "    <tr>\n",
       "      <th>count</th>\n",
       "      <td>808673.000000</td>\n",
       "      <td>808871.000000</td>\n",
       "      <td>777536.000000</td>\n",
       "      <td>777536.000000</td>\n",
       "    </tr>\n",
       "    <tr>\n",
       "      <th>mean</th>\n",
       "      <td>2017.231278</td>\n",
       "      <td>2017.385776</td>\n",
       "      <td>-99.137481</td>\n",
       "      <td>19.388497</td>\n",
       "    </tr>\n",
       "    <tr>\n",
       "      <th>std</th>\n",
       "      <td>1.417107</td>\n",
       "      <td>1.020354</td>\n",
       "      <td>0.058754</td>\n",
       "      <td>0.069692</td>\n",
       "    </tr>\n",
       "    <tr>\n",
       "      <th>min</th>\n",
       "      <td>1906.000000</td>\n",
       "      <td>2016.000000</td>\n",
       "      <td>-99.342765</td>\n",
       "      <td>9.486549</td>\n",
       "    </tr>\n",
       "    <tr>\n",
       "      <th>25%</th>\n",
       "      <td>2016.000000</td>\n",
       "      <td>2017.000000</td>\n",
       "      <td>-99.174906</td>\n",
       "      <td>19.342264</td>\n",
       "    </tr>\n",
       "    <tr>\n",
       "      <th>50%</th>\n",
       "      <td>2017.000000</td>\n",
       "      <td>2017.000000</td>\n",
       "      <td>-99.142680</td>\n",
       "      <td>19.391685</td>\n",
       "    </tr>\n",
       "    <tr>\n",
       "      <th>75%</th>\n",
       "      <td>2018.000000</td>\n",
       "      <td>2018.000000</td>\n",
       "      <td>-99.101420</td>\n",
       "      <td>19.437588</td>\n",
       "    </tr>\n",
       "    <tr>\n",
       "      <th>max</th>\n",
       "      <td>2019.000000</td>\n",
       "      <td>2019.000000</td>\n",
       "      <td>-98.922660</td>\n",
       "      <td>19.611544</td>\n",
       "    </tr>\n",
       "  </tbody>\n",
       "</table>\n",
       "</div>"
      ],
      "text/plain": [
       "          año_hechos      ao_inicio       longitud        latitud\n",
       "count  808673.000000  808871.000000  777536.000000  777536.000000\n",
       "mean     2017.231278    2017.385776     -99.137481      19.388497\n",
       "std         1.417107       1.020354       0.058754       0.069692\n",
       "min      1906.000000    2016.000000     -99.342765       9.486549\n",
       "25%      2016.000000    2017.000000     -99.174906      19.342264\n",
       "50%      2017.000000    2017.000000     -99.142680      19.391685\n",
       "75%      2018.000000    2018.000000     -99.101420      19.437588\n",
       "max      2019.000000    2019.000000     -98.922660      19.611544"
      ]
     },
     "execution_count": 129,
     "metadata": {},
     "output_type": "execute_result"
    }
   ],
   "source": [
    "carp_inv.describe()"
   ]
  },
  {
   "cell_type": "markdown",
   "metadata": {},
   "source": [
    "### Dataframe for Geo location of metrobust stations"
   ]
  },
  {
   "cell_type": "code",
   "execution_count": 130,
   "metadata": {},
   "outputs": [
    {
     "data": {
      "text/html": [
       "<div>\n",
       "<style scoped>\n",
       "    .dataframe tbody tr th:only-of-type {\n",
       "        vertical-align: middle;\n",
       "    }\n",
       "\n",
       "    .dataframe tbody tr th {\n",
       "        vertical-align: top;\n",
       "    }\n",
       "\n",
       "    .dataframe thead th {\n",
       "        text-align: right;\n",
       "    }\n",
       "</style>\n",
       "<table border=\"1\" class=\"dataframe\">\n",
       "  <thead>\n",
       "    <tr style=\"text-align: right;\">\n",
       "      <th></th>\n",
       "      <th>Geo Point</th>\n",
       "      <th>Geo Shape</th>\n",
       "      <th>nombre</th>\n",
       "      <th>linea</th>\n",
       "    </tr>\n",
       "  </thead>\n",
       "  <tbody>\n",
       "    <tr>\n",
       "      <th>0</th>\n",
       "      <td>19.4630960371,-99.1526627713</td>\n",
       "      <td>{\"type\": \"MultiLineString\", \"coordinates\": [[[...</td>\n",
       "      <td>MB03-A (Etiopia - Tenayuca)</td>\n",
       "      <td>3</td>\n",
       "    </tr>\n",
       "    <tr>\n",
       "      <th>1</th>\n",
       "      <td>19.392913268,-99.11368476</td>\n",
       "      <td>{\"type\": \"MultiLineString\", \"coordinates\": [[[...</td>\n",
       "      <td>MB02-D (Tepalcates - Colonia del Valle)</td>\n",
       "      <td>2</td>\n",
       "    </tr>\n",
       "    <tr>\n",
       "      <th>2</th>\n",
       "      <td>19.4769982194,-99.0948748843</td>\n",
       "      <td>{\"type\": \"MultiLineString\", \"coordinates\": [[[...</td>\n",
       "      <td>MB06-B (IPN - Villa de Aragon)</td>\n",
       "      <td>6</td>\n",
       "    </tr>\n",
       "    <tr>\n",
       "      <th>3</th>\n",
       "      <td>19.3929660937,-99.0976028467</td>\n",
       "      <td>{\"type\": \"MultiLineString\", \"coordinates\": [[[...</td>\n",
       "      <td>MB02-B (Etiopia - Tepalcates)</td>\n",
       "      <td>2</td>\n",
       "    </tr>\n",
       "    <tr>\n",
       "      <th>4</th>\n",
       "      <td>19.4555017294,-99.1363042606</td>\n",
       "      <td>{\"type\": \"MultiLineString\", \"coordinates\": [[[...</td>\n",
       "      <td>MB07-D (Indios Verdes - El Angel)</td>\n",
       "      <td>7</td>\n",
       "    </tr>\n",
       "  </tbody>\n",
       "</table>\n",
       "</div>"
      ],
      "text/plain": [
       "                      Geo Point  \\\n",
       "0  19.4630960371,-99.1526627713   \n",
       "1     19.392913268,-99.11368476   \n",
       "2  19.4769982194,-99.0948748843   \n",
       "3  19.3929660937,-99.0976028467   \n",
       "4  19.4555017294,-99.1363042606   \n",
       "\n",
       "                                           Geo Shape  \\\n",
       "0  {\"type\": \"MultiLineString\", \"coordinates\": [[[...   \n",
       "1  {\"type\": \"MultiLineString\", \"coordinates\": [[[...   \n",
       "2  {\"type\": \"MultiLineString\", \"coordinates\": [[[...   \n",
       "3  {\"type\": \"MultiLineString\", \"coordinates\": [[[...   \n",
       "4  {\"type\": \"MultiLineString\", \"coordinates\": [[[...   \n",
       "\n",
       "                                    nombre  linea  \n",
       "0              MB03-A (Etiopia - Tenayuca)      3  \n",
       "1  MB02-D (Tepalcates - Colonia del Valle)      2  \n",
       "2           MB06-B (IPN - Villa de Aragon)      6  \n",
       "3            MB02-B (Etiopia - Tepalcates)      2  \n",
       "4        MB07-D (Indios Verdes - El Angel)      7  "
      ]
     },
     "execution_count": 130,
     "metadata": {},
     "output_type": "execute_result"
    }
   ],
   "source": [
    "stations_mb.head()"
   ]
  },
  {
   "cell_type": "code",
   "execution_count": 131,
   "metadata": {},
   "outputs": [
    {
     "data": {
      "text/plain": [
       "'19.4630960371,-99.1526627713'"
      ]
     },
     "execution_count": 131,
     "metadata": {},
     "output_type": "execute_result"
    }
   ],
   "source": [
    "stations_mb.iloc[0]['Geo Point']"
   ]
  },
  {
   "cell_type": "code",
   "execution_count": 132,
   "metadata": {},
   "outputs": [
    {
     "data": {
      "text/plain": [
       "Geo Point    object\n",
       "Geo Shape    object\n",
       "nombre       object\n",
       "linea         int64\n",
       "dtype: object"
      ]
     },
     "execution_count": 132,
     "metadata": {},
     "output_type": "execute_result"
    }
   ],
   "source": [
    "stations_mb.dtypes"
   ]
  },
  {
   "cell_type": "markdown",
   "metadata": {},
   "source": [
    "### [stations_mb] Create lattitude and longitude Features"
   ]
  },
  {
   "cell_type": "code",
   "execution_count": 133,
   "metadata": {},
   "outputs": [
    {
     "data": {
      "text/html": [
       "<div>\n",
       "<style scoped>\n",
       "    .dataframe tbody tr th:only-of-type {\n",
       "        vertical-align: middle;\n",
       "    }\n",
       "\n",
       "    .dataframe tbody tr th {\n",
       "        vertical-align: top;\n",
       "    }\n",
       "\n",
       "    .dataframe thead th {\n",
       "        text-align: right;\n",
       "    }\n",
       "</style>\n",
       "<table border=\"1\" class=\"dataframe\">\n",
       "  <thead>\n",
       "    <tr style=\"text-align: right;\">\n",
       "      <th></th>\n",
       "      <th>Geo Point</th>\n",
       "      <th>Geo Shape</th>\n",
       "      <th>nombre</th>\n",
       "      <th>linea</th>\n",
       "      <th>lat</th>\n",
       "      <th>long</th>\n",
       "    </tr>\n",
       "  </thead>\n",
       "  <tbody>\n",
       "    <tr>\n",
       "      <th>0</th>\n",
       "      <td>19.4630960371,-99.1526627713</td>\n",
       "      <td>{\"type\": \"MultiLineString\", \"coordinates\": [[[...</td>\n",
       "      <td>MB03-A (Etiopia - Tenayuca)</td>\n",
       "      <td>3</td>\n",
       "      <td>19.463096</td>\n",
       "      <td>-99.152663</td>\n",
       "    </tr>\n",
       "    <tr>\n",
       "      <th>1</th>\n",
       "      <td>19.392913268,-99.11368476</td>\n",
       "      <td>{\"type\": \"MultiLineString\", \"coordinates\": [[[...</td>\n",
       "      <td>MB02-D (Tepalcates - Colonia del Valle)</td>\n",
       "      <td>2</td>\n",
       "      <td>19.392913</td>\n",
       "      <td>-99.113685</td>\n",
       "    </tr>\n",
       "    <tr>\n",
       "      <th>2</th>\n",
       "      <td>19.4769982194,-99.0948748843</td>\n",
       "      <td>{\"type\": \"MultiLineString\", \"coordinates\": [[[...</td>\n",
       "      <td>MB06-B (IPN - Villa de Aragon)</td>\n",
       "      <td>6</td>\n",
       "      <td>19.476998</td>\n",
       "      <td>-99.094875</td>\n",
       "    </tr>\n",
       "    <tr>\n",
       "      <th>3</th>\n",
       "      <td>19.3929660937,-99.0976028467</td>\n",
       "      <td>{\"type\": \"MultiLineString\", \"coordinates\": [[[...</td>\n",
       "      <td>MB02-B (Etiopia - Tepalcates)</td>\n",
       "      <td>2</td>\n",
       "      <td>19.392966</td>\n",
       "      <td>-99.097603</td>\n",
       "    </tr>\n",
       "    <tr>\n",
       "      <th>4</th>\n",
       "      <td>19.4555017294,-99.1363042606</td>\n",
       "      <td>{\"type\": \"MultiLineString\", \"coordinates\": [[[...</td>\n",
       "      <td>MB07-D (Indios Verdes - El Angel)</td>\n",
       "      <td>7</td>\n",
       "      <td>19.455502</td>\n",
       "      <td>-99.136304</td>\n",
       "    </tr>\n",
       "  </tbody>\n",
       "</table>\n",
       "</div>"
      ],
      "text/plain": [
       "                      Geo Point  \\\n",
       "0  19.4630960371,-99.1526627713   \n",
       "1     19.392913268,-99.11368476   \n",
       "2  19.4769982194,-99.0948748843   \n",
       "3  19.3929660937,-99.0976028467   \n",
       "4  19.4555017294,-99.1363042606   \n",
       "\n",
       "                                           Geo Shape  \\\n",
       "0  {\"type\": \"MultiLineString\", \"coordinates\": [[[...   \n",
       "1  {\"type\": \"MultiLineString\", \"coordinates\": [[[...   \n",
       "2  {\"type\": \"MultiLineString\", \"coordinates\": [[[...   \n",
       "3  {\"type\": \"MultiLineString\", \"coordinates\": [[[...   \n",
       "4  {\"type\": \"MultiLineString\", \"coordinates\": [[[...   \n",
       "\n",
       "                                    nombre  linea        lat       long  \n",
       "0              MB03-A (Etiopia - Tenayuca)      3  19.463096 -99.152663  \n",
       "1  MB02-D (Tepalcates - Colonia del Valle)      2  19.392913 -99.113685  \n",
       "2           MB06-B (IPN - Villa de Aragon)      6  19.476998 -99.094875  \n",
       "3            MB02-B (Etiopia - Tepalcates)      2  19.392966 -99.097603  \n",
       "4        MB07-D (Indios Verdes - El Angel)      7  19.455502 -99.136304  "
      ]
     },
     "execution_count": 133,
     "metadata": {},
     "output_type": "execute_result"
    }
   ],
   "source": [
    "stations_mb['lat'] = stations_mb['Geo Point'].apply(lambda x: float(x.split(',')[0]))\n",
    "stations_mb['long'] = stations_mb['Geo Point'].apply(lambda x: float(x.split(',')[1]))\n",
    "stations_mb.head()"
   ]
  },
  {
   "cell_type": "code",
   "execution_count": 134,
   "metadata": {},
   "outputs": [
    {
     "data": {
      "text/html": [
       "<div>\n",
       "<style scoped>\n",
       "    .dataframe tbody tr th:only-of-type {\n",
       "        vertical-align: middle;\n",
       "    }\n",
       "\n",
       "    .dataframe tbody tr th {\n",
       "        vertical-align: top;\n",
       "    }\n",
       "\n",
       "    .dataframe thead th {\n",
       "        text-align: right;\n",
       "    }\n",
       "</style>\n",
       "<table border=\"1\" class=\"dataframe\">\n",
       "  <thead>\n",
       "    <tr style=\"text-align: right;\">\n",
       "      <th></th>\n",
       "      <th>Fecha</th>\n",
       "      <th>Año</th>\n",
       "      <th>Mes</th>\n",
       "      <th>Linea</th>\n",
       "      <th>Afluencia</th>\n",
       "    </tr>\n",
       "  </thead>\n",
       "  <tbody>\n",
       "    <tr>\n",
       "      <th>0</th>\n",
       "      <td>2018-07-08</td>\n",
       "      <td>2018</td>\n",
       "      <td>7</td>\n",
       "      <td>Linea 2</td>\n",
       "      <td>74371</td>\n",
       "    </tr>\n",
       "    <tr>\n",
       "      <th>1</th>\n",
       "      <td>2018-07-16</td>\n",
       "      <td>2018</td>\n",
       "      <td>7</td>\n",
       "      <td>Linea 2</td>\n",
       "      <td>162825</td>\n",
       "    </tr>\n",
       "    <tr>\n",
       "      <th>2</th>\n",
       "      <td>2018-07-18</td>\n",
       "      <td>2018</td>\n",
       "      <td>7</td>\n",
       "      <td>Linea 2</td>\n",
       "      <td>168168</td>\n",
       "    </tr>\n",
       "    <tr>\n",
       "      <th>3</th>\n",
       "      <td>2018-07-20</td>\n",
       "      <td>2018</td>\n",
       "      <td>7</td>\n",
       "      <td>Linea 2</td>\n",
       "      <td>167863</td>\n",
       "    </tr>\n",
       "    <tr>\n",
       "      <th>4</th>\n",
       "      <td>2018-07-21</td>\n",
       "      <td>2018</td>\n",
       "      <td>7</td>\n",
       "      <td>Linea 2</td>\n",
       "      <td>114066</td>\n",
       "    </tr>\n",
       "  </tbody>\n",
       "</table>\n",
       "</div>"
      ],
      "text/plain": [
       "        Fecha   Año  Mes    Linea  Afluencia\n",
       "0  2018-07-08  2018    7  Linea 2      74371\n",
       "1  2018-07-16  2018    7  Linea 2     162825\n",
       "2  2018-07-18  2018    7  Linea 2     168168\n",
       "3  2018-07-20  2018    7  Linea 2     167863\n",
       "4  2018-07-21  2018    7  Linea 2     114066"
      ]
     },
     "execution_count": 134,
     "metadata": {},
     "output_type": "execute_result"
    }
   ],
   "source": [
    "afluence_d_mb.head()"
   ]
  },
  {
   "cell_type": "code",
   "execution_count": 135,
   "metadata": {},
   "outputs": [
    {
     "data": {
      "text/plain": [
       "<bound method IndexOpsMixin.value_counts of 0                  MB03-A (Etiopia - Tenayuca)\n",
       "1      MB02-D (Tepalcates - Colonia del Valle)\n",
       "2               MB06-B (IPN - Villa de Aragon)\n",
       "3                MB02-B (Etiopia - Tepalcates)\n",
       "4            MB07-D (Indios Verdes - El Angel)\n",
       "                        ...                   \n",
       "308                          Ermita Iztapalapa\n",
       "309                                 Campesinos\n",
       "310                                  Colorines\n",
       "311                           Domingo González\n",
       "312                                 Las Bombas\n",
       "Name: nombre, Length: 313, dtype: object>"
      ]
     },
     "execution_count": 135,
     "metadata": {},
     "output_type": "execute_result"
    }
   ],
   "source": [
    "stations_mb['nombre'].value_counts"
   ]
  },
  {
   "cell_type": "code",
   "execution_count": 136,
   "metadata": {},
   "outputs": [
    {
     "data": {
      "text/plain": [
       "Geo Point     object\n",
       "Geo Shape     object\n",
       "nombre        object\n",
       "linea          int64\n",
       "lat          float64\n",
       "long         float64\n",
       "dtype: object"
      ]
     },
     "execution_count": 136,
     "metadata": {},
     "output_type": "execute_result"
    }
   ],
   "source": [
    "stations_mb.dtypes"
   ]
  },
  {
   "cell_type": "code",
   "execution_count": 137,
   "metadata": {},
   "outputs": [
    {
     "data": {
      "text/plain": [
       "<matplotlib.axes._subplots.AxesSubplot at 0x7fc4575981f0>"
      ]
     },
     "execution_count": 137,
     "metadata": {},
     "output_type": "execute_result"
    },
    {
     "data": {
      "image/png": "[encoded data removed]",
      "text/plain": [
       "<Figure size 1440x1440 with 2 Axes>"
      ]
     },
     "metadata": {
      "needs_background": "light"
     },
     "output_type": "display_data"
    }
   ],
   "source": [
    "stations_mb.plot.scatter('lat', 'long', c='linea',  colormap ='viridis', figsize=(20,20))"
   ]
  },
  {
   "cell_type": "markdown",
   "metadata": {},
   "source": [
    "### [carp_inv] Create lattitude and longitude Features"
   ]
  },
  {
   "cell_type": "code",
   "execution_count": 138,
   "metadata": {},
   "outputs": [
    {
     "data": {
      "text/plain": [
       "año_hechos              float64\n",
       "mes_hechos               object\n",
       "fecha_hechos             object\n",
       "delito                   object\n",
       "categoria_delito         object\n",
       "fiscalía                 object\n",
       "agencia                  object\n",
       "unidad_investigacion     object\n",
       "colonia_hechos           object\n",
       "alcaldia_hechos          object\n",
       "fecha_inicio             object\n",
       "mes_inicio               object\n",
       "ao_inicio                 int64\n",
       "calle_hechos             object\n",
       "calle_hechos2            object\n",
       "longitud                float64\n",
       "latitud                 float64\n",
       "Geopoint                 object\n",
       "dtype: object"
      ]
     },
     "execution_count": 138,
     "metadata": {},
     "output_type": "execute_result"
    }
   ],
   "source": [
    "carp_inv.dtypes"
   ]
  },
  {
   "cell_type": "markdown",
   "metadata": {},
   "source": [
    "plt.figure(figsize=(40, 40))\n",
    "sns.jointplot(data=carp_inv, x='latitud', y='longitud', kind='hex');"
   ]
  },
  {
   "cell_type": "markdown",
   "metadata": {},
   "source": [
    "fig, ax = plt.subplots(figsize=(20,20))\n",
    "ax.scatter(carp_inv['latitud'], carp_inv['longitud'])\n",
    "ax.scatter(stations_mb['lat'], stations_mb['long']);"
   ]
  },
  {
   "cell_type": "markdown",
   "metadata": {},
   "source": [
    "fig, ax1 = plt.subplots(figsize=(40,40))\n",
    "#JointPlot cration\n",
    "ax1 = sns.scatterplot(data=carp_inv, x='latitud', y='longitud')\n",
    "#Specify we want to share the same x-axis\n",
    "ax2 = ax1.twinx()\n",
    "ax2 = sns.scatterplot(data=stations_mb , x='lat', y='long', palette=\"r\", markers='X')\n",
    "plt.show();"
   ]
  },
  {
   "cell_type": "markdown",
   "metadata": {},
   "source": [
    "### Remove `longitud` and `latitud` missing values for both dataframes"
   ]
  },
  {
   "cell_type": "code",
   "execution_count": 139,
   "metadata": {},
   "outputs": [
    {
     "data": {
      "text/plain": [
       "Geo Point    0\n",
       "Geo Shape    0\n",
       "nombre       0\n",
       "linea        0\n",
       "lat          0\n",
       "long         0\n",
       "dtype: int64"
      ]
     },
     "execution_count": 139,
     "metadata": {},
     "output_type": "execute_result"
    }
   ],
   "source": [
    "stations_mb.isna().sum()"
   ]
  },
  {
   "cell_type": "code",
   "execution_count": 140,
   "metadata": {},
   "outputs": [
    {
     "data": {
      "text/plain": [
       "año_hechos                 198\n",
       "mes_hechos                 198\n",
       "fecha_hechos               198\n",
       "delito                       0\n",
       "categoria_delito             0\n",
       "fiscalía                     0\n",
       "agencia                      0\n",
       "unidad_investigacion       225\n",
       "colonia_hechos           32090\n",
       "alcaldia_hechos           1011\n",
       "fecha_inicio                 0\n",
       "mes_inicio                   0\n",
       "ao_inicio                    0\n",
       "calle_hechos              2404\n",
       "calle_hechos2           480862\n",
       "longitud                 31335\n",
       "latitud                  31335\n",
       "Geopoint                 31335\n",
       "dtype: int64"
      ]
     },
     "execution_count": 140,
     "metadata": {},
     "output_type": "execute_result"
    }
   ],
   "source": [
    "carp_inv.isna().sum()"
   ]
  },
  {
   "cell_type": "code",
   "execution_count": 141,
   "metadata": {},
   "outputs": [],
   "source": [
    "carp_inv = carp_inv.dropna(subset=['latitud','longitud'])"
   ]
  },
  {
   "cell_type": "code",
   "execution_count": 142,
   "metadata": {},
   "outputs": [],
   "source": [
    "carp_inv.reset_index(drop=True, inplace=True)"
   ]
  },
  {
   "cell_type": "code",
   "execution_count": 143,
   "metadata": {},
   "outputs": [
    {
     "data": {
      "text/plain": [
       "año_hechos                 131\n",
       "mes_hechos                 131\n",
       "fecha_hechos               131\n",
       "delito                       0\n",
       "categoria_delito             0\n",
       "fiscalía                     0\n",
       "agencia                      0\n",
       "unidad_investigacion       221\n",
       "colonia_hechos             836\n",
       "alcaldia_hechos              0\n",
       "fecha_inicio                 0\n",
       "mes_inicio                   0\n",
       "ao_inicio                    0\n",
       "calle_hechos              1399\n",
       "calle_hechos2           463177\n",
       "longitud                     0\n",
       "latitud                      0\n",
       "Geopoint                     0\n",
       "dtype: int64"
      ]
     },
     "execution_count": 143,
     "metadata": {},
     "output_type": "execute_result"
    }
   ],
   "source": [
    "carp_inv.isna().sum()"
   ]
  },
  {
   "cell_type": "markdown",
   "metadata": {},
   "source": [
    "### Create K-NN clustering for determining crimes close to all metrobus stations"
   ]
  },
  {
   "cell_type": "code",
   "execution_count": 144,
   "metadata": {},
   "outputs": [
    {
     "data": {
      "text/plain": [
       "Buenavista                    3\n",
       "Hidalgo                       3\n",
       "La Raza                       2\n",
       "Hospital Infantil La Villa    2\n",
       "Juárez                        2\n",
       "                             ..\n",
       "Victoria                      1\n",
       "Campo Marte                   1\n",
       "Venustiano Carranza           1\n",
       "Corregidora                   1\n",
       "Tecnoparque                   1\n",
       "Name: nombre, Length: 290, dtype: int64"
      ]
     },
     "execution_count": 144,
     "metadata": {},
     "output_type": "execute_result"
    }
   ],
   "source": [
    "# Value counts of names of station\n",
    "stations_mb['nombre'].value_counts()"
   ]
  },
  {
   "cell_type": "code",
   "execution_count": 145,
   "metadata": {},
   "outputs": [],
   "source": [
    "# Just taking as reference the names, lat and long.\n",
    "# After finding the clasification for `carp_inv`.\n",
    "\n",
    "X = stations_mb[['lat', 'long']] \n",
    "y = stations_mb['nombre']"
   ]
  },
  {
   "cell_type": "code",
   "execution_count": 146,
   "metadata": {},
   "outputs": [
    {
     "data": {
      "text/html": [
       "<div>\n",
       "<style scoped>\n",
       "    .dataframe tbody tr th:only-of-type {\n",
       "        vertical-align: middle;\n",
       "    }\n",
       "\n",
       "    .dataframe tbody tr th {\n",
       "        vertical-align: top;\n",
       "    }\n",
       "\n",
       "    .dataframe thead th {\n",
       "        text-align: right;\n",
       "    }\n",
       "</style>\n",
       "<table border=\"1\" class=\"dataframe\">\n",
       "  <thead>\n",
       "    <tr style=\"text-align: right;\">\n",
       "      <th></th>\n",
       "      <th>lat</th>\n",
       "      <th>long</th>\n",
       "    </tr>\n",
       "  </thead>\n",
       "  <tbody>\n",
       "    <tr>\n",
       "      <th>0</th>\n",
       "      <td>19.481076</td>\n",
       "      <td>-99.103527</td>\n",
       "    </tr>\n",
       "  </tbody>\n",
       "</table>\n",
       "</div>"
      ],
      "text/plain": [
       "         lat       long\n",
       "0  19.481076 -99.103527"
      ]
     },
     "execution_count": 146,
     "metadata": {},
     "output_type": "execute_result"
    }
   ],
   "source": [
    "# Preprocess 'carp_inv'\n",
    "X_pred = carp_inv[['latitud', 'longitud']].rename({'latitud': 'lat', 'longitud': 'long'},  axis='columns')\n",
    "X_pred.head(1)"
   ]
  },
  {
   "cell_type": "code",
   "execution_count": 147,
   "metadata": {},
   "outputs": [
    {
     "data": {
      "text/plain": [
       "lat     0\n",
       "long    0\n",
       "dtype: int64"
      ]
     },
     "execution_count": 147,
     "metadata": {},
     "output_type": "execute_result"
    }
   ],
   "source": [
    "X_pred.isna().sum()"
   ]
  },
  {
   "cell_type": "code",
   "execution_count": 148,
   "metadata": {},
   "outputs": [],
   "source": [
    "# Instatiate KNN\n",
    "knn = KNeighborsClassifier(n_neighbors=1)"
   ]
  },
  {
   "cell_type": "code",
   "execution_count": 149,
   "metadata": {},
   "outputs": [
    {
     "data": {
      "text/plain": [
       "1.0"
      ]
     },
     "execution_count": 149,
     "metadata": {},
     "output_type": "execute_result"
    }
   ],
   "source": [
    "# We want a completely overfit model \n",
    "knn.fit(X, y)\n",
    "knn.score(X, y)"
   ]
  },
  {
   "cell_type": "code",
   "execution_count": 150,
   "metadata": {},
   "outputs": [
    {
     "data": {
      "text/plain": [
       "array(['Martín Carrera', 'Tlacotal', 'Las Bombas', 'CCH Oriente',\n",
       "       'Colegio de Bachilleres', 'Parque Hundido', 'Coyuya',\n",
       "       'MB04-S (San Lazaro - Buenavista)', 'Volcán de Fuego',\n",
       "       'Chilpancingo'], dtype=object)"
      ]
     },
     "execution_count": 150,
     "metadata": {},
     "output_type": "execute_result"
    }
   ],
   "source": [
    "# Classify all the instaces of 'carp_inv' \n",
    "predicitons = knn.predict(X_pred)\n",
    "predicitons[:10]"
   ]
  },
  {
   "cell_type": "code",
   "execution_count": 151,
   "metadata": {},
   "outputs": [
    {
     "data": {
      "text/plain": [
       "(777536, 18)"
      ]
     },
     "execution_count": 151,
     "metadata": {},
     "output_type": "execute_result"
    }
   ],
   "source": [
    "carp_inv.shape"
   ]
  },
  {
   "cell_type": "code",
   "execution_count": 152,
   "metadata": {},
   "outputs": [
    {
     "data": {
      "text/plain": [
       "777536"
      ]
     },
     "execution_count": 152,
     "metadata": {},
     "output_type": "execute_result"
    }
   ],
   "source": [
    "len(predicitons)"
   ]
  },
  {
   "cell_type": "code",
   "execution_count": 153,
   "metadata": {},
   "outputs": [],
   "source": [
    "d = {'nearest_mb': predicitons}\n",
    "temp_preds = pd.DataFrame(data=d)"
   ]
  },
  {
   "cell_type": "code",
   "execution_count": 154,
   "metadata": {},
   "outputs": [
    {
     "data": {
      "text/plain": [
       "(777536, 1)"
      ]
     },
     "execution_count": 154,
     "metadata": {},
     "output_type": "execute_result"
    }
   ],
   "source": [
    "temp_preds.shape"
   ]
  },
  {
   "cell_type": "code",
   "execution_count": 155,
   "metadata": {},
   "outputs": [],
   "source": [
    "carp_inv = pd.concat([carp_inv, temp_preds], axis=1)"
   ]
  },
  {
   "cell_type": "code",
   "execution_count": 156,
   "metadata": {},
   "outputs": [
    {
     "data": {
      "text/plain": [
       "Index(['año_hechos', 'mes_hechos', 'fecha_hechos', 'delito',\n",
       "       'categoria_delito', 'fiscalía', 'agencia', 'unidad_investigacion',\n",
       "       'colonia_hechos', 'alcaldia_hechos', 'fecha_inicio', 'mes_inicio',\n",
       "       'ao_inicio', 'calle_hechos', 'calle_hechos2', 'longitud', 'latitud',\n",
       "       'Geopoint', 'nearest_mb'],\n",
       "      dtype='object')"
      ]
     },
     "execution_count": 156,
     "metadata": {},
     "output_type": "execute_result"
    }
   ],
   "source": [
    "carp_inv.columns"
   ]
  },
  {
   "cell_type": "code",
   "execution_count": 157,
   "metadata": {},
   "outputs": [
    {
     "data": {
      "text/plain": [
       "año_hechos              float64\n",
       "mes_hechos               object\n",
       "fecha_hechos             object\n",
       "delito                   object\n",
       "categoria_delito         object\n",
       "fiscalía                 object\n",
       "agencia                  object\n",
       "unidad_investigacion     object\n",
       "colonia_hechos           object\n",
       "alcaldia_hechos          object\n",
       "fecha_inicio             object\n",
       "mes_inicio               object\n",
       "ao_inicio                 int64\n",
       "calle_hechos             object\n",
       "calle_hechos2            object\n",
       "longitud                float64\n",
       "latitud                 float64\n",
       "Geopoint                 object\n",
       "nearest_mb               object\n",
       "dtype: object"
      ]
     },
     "execution_count": 157,
     "metadata": {},
     "output_type": "execute_result"
    }
   ],
   "source": [
    "carp_inv.dtypes"
   ]
  },
  {
   "cell_type": "code",
   "execution_count": 158,
   "metadata": {},
   "outputs": [
    {
     "data": {
      "text/html": [
       "<div>\n",
       "<style scoped>\n",
       "    .dataframe tbody tr th:only-of-type {\n",
       "        vertical-align: middle;\n",
       "    }\n",
       "\n",
       "    .dataframe tbody tr th {\n",
       "        vertical-align: top;\n",
       "    }\n",
       "\n",
       "    .dataframe thead th {\n",
       "        text-align: right;\n",
       "    }\n",
       "</style>\n",
       "<table border=\"1\" class=\"dataframe\">\n",
       "  <thead>\n",
       "    <tr style=\"text-align: right;\">\n",
       "      <th></th>\n",
       "      <th>Geo Point</th>\n",
       "      <th>Geo Shape</th>\n",
       "      <th>nombre</th>\n",
       "      <th>linea</th>\n",
       "      <th>lat</th>\n",
       "      <th>long</th>\n",
       "    </tr>\n",
       "  </thead>\n",
       "  <tbody>\n",
       "    <tr>\n",
       "      <th>276</th>\n",
       "      <td>19.5006062154,-99.0887282814</td>\n",
       "      <td>{\"type\": \"Point\", \"coordinates\": [-99.08872828...</td>\n",
       "      <td>314</td>\n",
       "      <td>5</td>\n",
       "      <td>19.500606</td>\n",
       "      <td>-99.088728</td>\n",
       "    </tr>\n",
       "    <tr>\n",
       "      <th>281</th>\n",
       "      <td>19.4684312184,-99.0715778218</td>\n",
       "      <td>{\"type\": \"Point\", \"coordinates\": [-99.07157782...</td>\n",
       "      <td>414</td>\n",
       "      <td>6</td>\n",
       "      <td>19.468431</td>\n",
       "      <td>-99.071578</td>\n",
       "    </tr>\n",
       "    <tr>\n",
       "      <th>279</th>\n",
       "      <td>19.4711364102,-99.070891059</td>\n",
       "      <td>{\"type\": \"Point\", \"coordinates\": [-99.07089105...</td>\n",
       "      <td>416 Oriente</td>\n",
       "      <td>6</td>\n",
       "      <td>19.471136</td>\n",
       "      <td>-99.070891</td>\n",
       "    </tr>\n",
       "    <tr>\n",
       "      <th>178</th>\n",
       "      <td>19.472519761,-99.0793901322</td>\n",
       "      <td>{\"type\": \"Point\", \"coordinates\": [-99.07939013...</td>\n",
       "      <td>416 Poniente</td>\n",
       "      <td>6</td>\n",
       "      <td>19.472520</td>\n",
       "      <td>-99.079390</td>\n",
       "    </tr>\n",
       "    <tr>\n",
       "      <th>89</th>\n",
       "      <td>19.4668640648,-99.0755257906</td>\n",
       "      <td>{\"type\": \"Point\", \"coordinates\": [-99.07552579...</td>\n",
       "      <td>482</td>\n",
       "      <td>6</td>\n",
       "      <td>19.466864</td>\n",
       "      <td>-99.075526</td>\n",
       "    </tr>\n",
       "    <tr>\n",
       "      <th>275</th>\n",
       "      <td>19.4970901588,-99.0901776145</td>\n",
       "      <td>{\"type\": \"Point\", \"coordinates\": [-99.09017761...</td>\n",
       "      <td>5 de Mayo</td>\n",
       "      <td>5</td>\n",
       "      <td>19.497090</td>\n",
       "      <td>-99.090178</td>\n",
       "    </tr>\n",
       "    <tr>\n",
       "      <th>107</th>\n",
       "      <td>19.3748751178,-99.1079750957</td>\n",
       "      <td>{\"type\": \"Point\", \"coordinates\": [-99.10797509...</td>\n",
       "      <td>Aculco</td>\n",
       "      <td>5</td>\n",
       "      <td>19.374875</td>\n",
       "      <td>-99.107975</td>\n",
       "    </tr>\n",
       "    <tr>\n",
       "      <th>80</th>\n",
       "      <td>19.4354706227,-99.0832688977</td>\n",
       "      <td>{\"type\": \"Point\", \"coordinates\": [-99.08326889...</td>\n",
       "      <td>Aeropuerto T1</td>\n",
       "      <td>4</td>\n",
       "      <td>19.435471</td>\n",
       "      <td>-99.083269</td>\n",
       "    </tr>\n",
       "    <tr>\n",
       "      <th>267</th>\n",
       "      <td>19.4214903652,-99.0770777527</td>\n",
       "      <td>{\"type\": \"Point\", \"coordinates\": [-99.07707775...</td>\n",
       "      <td>Aeropuerto T2</td>\n",
       "      <td>4</td>\n",
       "      <td>19.421490</td>\n",
       "      <td>-99.077078</td>\n",
       "    </tr>\n",
       "    <tr>\n",
       "      <th>234</th>\n",
       "      <td>19.3509038494,-99.186356402</td>\n",
       "      <td>{\"type\": \"Point\", \"coordinates\": [-99.18635640...</td>\n",
       "      <td>Altavista</td>\n",
       "      <td>1</td>\n",
       "      <td>19.350904</td>\n",
       "      <td>-99.186356</td>\n",
       "    </tr>\n",
       "    <tr>\n",
       "      <th>148</th>\n",
       "      <td>19.3969064712,-99.1637997792</td>\n",
       "      <td>{\"type\": \"Point\", \"coordinates\": [-99.16379977...</td>\n",
       "      <td>Amores</td>\n",
       "      <td>2</td>\n",
       "      <td>19.396906</td>\n",
       "      <td>-99.163800</td>\n",
       "    </tr>\n",
       "    <tr>\n",
       "      <th>176</th>\n",
       "      <td>19.4798640768,-99.0752731123</td>\n",
       "      <td>{\"type\": \"Point\", \"coordinates\": [-99.07527311...</td>\n",
       "      <td>Ampliación Providencia</td>\n",
       "      <td>6</td>\n",
       "      <td>19.479864</td>\n",
       "      <td>-99.075273</td>\n",
       "    </tr>\n",
       "    <tr>\n",
       "      <th>38</th>\n",
       "      <td>19.3976774341,-99.1297001053</td>\n",
       "      <td>{\"type\": \"Point\", \"coordinates\": [-99.12970010...</td>\n",
       "      <td>Andrés Molina</td>\n",
       "      <td>2</td>\n",
       "      <td>19.397677</td>\n",
       "      <td>-99.129700</td>\n",
       "    </tr>\n",
       "    <tr>\n",
       "      <th>33</th>\n",
       "      <td>19.4048303662,-99.1858250265</td>\n",
       "      <td>{\"type\": \"Point\", \"coordinates\": [-99.18582502...</td>\n",
       "      <td>Antonio Maceo</td>\n",
       "      <td>2</td>\n",
       "      <td>19.404830</td>\n",
       "      <td>-99.185825</td>\n",
       "    </tr>\n",
       "    <tr>\n",
       "      <th>202</th>\n",
       "      <td>19.4246886889,-99.1849248137</td>\n",
       "      <td>{\"type\": \"Point\", \"coordinates\": [-99.18492481...</td>\n",
       "      <td>Antropología</td>\n",
       "      <td>7</td>\n",
       "      <td>19.424689</td>\n",
       "      <td>-99.184925</td>\n",
       "    </tr>\n",
       "    <tr>\n",
       "      <th>306</th>\n",
       "      <td>19.3780578865,-99.1090729286</td>\n",
       "      <td>{\"type\": \"Point\", \"coordinates\": [-99.10907292...</td>\n",
       "      <td>Apatlaco</td>\n",
       "      <td>5</td>\n",
       "      <td>19.378058</td>\n",
       "      <td>-99.109073</td>\n",
       "    </tr>\n",
       "    <tr>\n",
       "      <th>268</th>\n",
       "      <td>19.4371723088,-99.1143874413</td>\n",
       "      <td>{\"type\": \"Point\", \"coordinates\": [-99.11438744...</td>\n",
       "      <td>Archivo General de la Nación</td>\n",
       "      <td>5</td>\n",
       "      <td>19.437172</td>\n",
       "      <td>-99.114387</td>\n",
       "    </tr>\n",
       "    <tr>\n",
       "      <th>263</th>\n",
       "      <td>19.4354211596,-99.1149285011</td>\n",
       "      <td>{\"type\": \"Point\", \"coordinates\": [-99.11492850...</td>\n",
       "      <td>Archivo General de la Nación</td>\n",
       "      <td>4</td>\n",
       "      <td>19.435421</td>\n",
       "      <td>-99.114929</td>\n",
       "    </tr>\n",
       "    <tr>\n",
       "      <th>208</th>\n",
       "      <td>19.3612573399,-99.1102837845</td>\n",
       "      <td>{\"type\": \"Point\", \"coordinates\": [-99.11028378...</td>\n",
       "      <td>Atanasio G. Saravia</td>\n",
       "      <td>5</td>\n",
       "      <td>19.361257</td>\n",
       "      <td>-99.110284</td>\n",
       "    </tr>\n",
       "    <tr>\n",
       "      <th>301</th>\n",
       "      <td>19.4260943509,-99.1942006607</td>\n",
       "      <td>{\"type\": \"Point\", \"coordinates\": [-99.19420066...</td>\n",
       "      <td>Auditorio</td>\n",
       "      <td>7</td>\n",
       "      <td>19.426094</td>\n",
       "      <td>-99.194201</td>\n",
       "    </tr>\n",
       "  </tbody>\n",
       "</table>\n",
       "</div>"
      ],
      "text/plain": [
       "                        Geo Point  \\\n",
       "276  19.5006062154,-99.0887282814   \n",
       "281  19.4684312184,-99.0715778218   \n",
       "279   19.4711364102,-99.070891059   \n",
       "178   19.472519761,-99.0793901322   \n",
       "89   19.4668640648,-99.0755257906   \n",
       "275  19.4970901588,-99.0901776145   \n",
       "107  19.3748751178,-99.1079750957   \n",
       "80   19.4354706227,-99.0832688977   \n",
       "267  19.4214903652,-99.0770777527   \n",
       "234   19.3509038494,-99.186356402   \n",
       "148  19.3969064712,-99.1637997792   \n",
       "176  19.4798640768,-99.0752731123   \n",
       "38   19.3976774341,-99.1297001053   \n",
       "33   19.4048303662,-99.1858250265   \n",
       "202  19.4246886889,-99.1849248137   \n",
       "306  19.3780578865,-99.1090729286   \n",
       "268  19.4371723088,-99.1143874413   \n",
       "263  19.4354211596,-99.1149285011   \n",
       "208  19.3612573399,-99.1102837845   \n",
       "301  19.4260943509,-99.1942006607   \n",
       "\n",
       "                                             Geo Shape  \\\n",
       "276  {\"type\": \"Point\", \"coordinates\": [-99.08872828...   \n",
       "281  {\"type\": \"Point\", \"coordinates\": [-99.07157782...   \n",
       "279  {\"type\": \"Point\", \"coordinates\": [-99.07089105...   \n",
       "178  {\"type\": \"Point\", \"coordinates\": [-99.07939013...   \n",
       "89   {\"type\": \"Point\", \"coordinates\": [-99.07552579...   \n",
       "275  {\"type\": \"Point\", \"coordinates\": [-99.09017761...   \n",
       "107  {\"type\": \"Point\", \"coordinates\": [-99.10797509...   \n",
       "80   {\"type\": \"Point\", \"coordinates\": [-99.08326889...   \n",
       "267  {\"type\": \"Point\", \"coordinates\": [-99.07707775...   \n",
       "234  {\"type\": \"Point\", \"coordinates\": [-99.18635640...   \n",
       "148  {\"type\": \"Point\", \"coordinates\": [-99.16379977...   \n",
       "176  {\"type\": \"Point\", \"coordinates\": [-99.07527311...   \n",
       "38   {\"type\": \"Point\", \"coordinates\": [-99.12970010...   \n",
       "33   {\"type\": \"Point\", \"coordinates\": [-99.18582502...   \n",
       "202  {\"type\": \"Point\", \"coordinates\": [-99.18492481...   \n",
       "306  {\"type\": \"Point\", \"coordinates\": [-99.10907292...   \n",
       "268  {\"type\": \"Point\", \"coordinates\": [-99.11438744...   \n",
       "263  {\"type\": \"Point\", \"coordinates\": [-99.11492850...   \n",
       "208  {\"type\": \"Point\", \"coordinates\": [-99.11028378...   \n",
       "301  {\"type\": \"Point\", \"coordinates\": [-99.19420066...   \n",
       "\n",
       "                           nombre  linea        lat       long  \n",
       "276                           314      5  19.500606 -99.088728  \n",
       "281                           414      6  19.468431 -99.071578  \n",
       "279                   416 Oriente      6  19.471136 -99.070891  \n",
       "178                  416 Poniente      6  19.472520 -99.079390  \n",
       "89                            482      6  19.466864 -99.075526  \n",
       "275                     5 de Mayo      5  19.497090 -99.090178  \n",
       "107                        Aculco      5  19.374875 -99.107975  \n",
       "80                  Aeropuerto T1      4  19.435471 -99.083269  \n",
       "267                 Aeropuerto T2      4  19.421490 -99.077078  \n",
       "234                     Altavista      1  19.350904 -99.186356  \n",
       "148                        Amores      2  19.396906 -99.163800  \n",
       "176        Ampliación Providencia      6  19.479864 -99.075273  \n",
       "38                  Andrés Molina      2  19.397677 -99.129700  \n",
       "33                  Antonio Maceo      2  19.404830 -99.185825  \n",
       "202                  Antropología      7  19.424689 -99.184925  \n",
       "306                      Apatlaco      5  19.378058 -99.109073  \n",
       "268  Archivo General de la Nación      5  19.437172 -99.114387  \n",
       "263  Archivo General de la Nación      4  19.435421 -99.114929  \n",
       "208           Atanasio G. Saravia      5  19.361257 -99.110284  \n",
       "301                     Auditorio      7  19.426094 -99.194201  "
      ]
     },
     "execution_count": 158,
     "metadata": {},
     "output_type": "execute_result"
    }
   ],
   "source": [
    "stations_mb.sort_values(by=['nombre']).head(20)"
   ]
  },
  {
   "cell_type": "code",
   "execution_count": 159,
   "metadata": {},
   "outputs": [],
   "source": [
    "lines_class = list(zip(stations_mb['nombre'], stations_mb['linea']))\n",
    "dict_lineas = {name:[] for name in set(stations_mb['nombre'])}\n",
    "\n",
    "for element in lines_class:\n",
    "      dict_lineas[element[0]].append(int(element[1]))"
   ]
  },
  {
   "cell_type": "code",
   "execution_count": 160,
   "metadata": {},
   "outputs": [
    {
     "data": {
      "text/plain": [
       "{'Norte 45': [6],\n",
       " 'MB02-C (Rio Frio - Colonia del Valle)': [2],\n",
       " 'MB01-C (Indios Verdes - Galvez)': [1],\n",
       " 'La Piedad': [1],\n",
       " 'Fuentes Brotantes': [1],\n",
       " 'Obrero Mundial': [3],\n",
       " 'MB06-A (Villa de Aragon - El Rosario)': [6],\n",
       " 'Doctor Gálvez': [1],\n",
       " 'El Caballito': [7],\n",
       " 'Tacubaya': [2],\n",
       " 'Nuevo León': [1, 2],\n",
       " 'El Coyol': [5],\n",
       " 'Instituto Politécnico Nacional': [6],\n",
       " 'José María Velasco': [1],\n",
       " 'Tepetlapa': [5],\n",
       " '314': [5],\n",
       " 'Río Frío': [2],\n",
       " 'MB05-B (Remedios - San Lazaro Norte)': [5],\n",
       " 'MB04-N (Buenavista - San Lazaro)': [4],\n",
       " 'Colegio de Bachilleres 1': [6],\n",
       " 'MB07-A (Indios Verdes - Campo Marte)': [7],\n",
       " 'MB05-B (San Lazaro Norte - Remedios)': [5],\n",
       " 'Iztacalco': [2],\n",
       " 'Escuadrón 201': [5],\n",
       " 'Teatro del Pueblo': [4],\n",
       " 'Teatro de los Insurgentes': [1],\n",
       " 'MB06-C (Deportivo 18 Marzo - El Rosario)': [6],\n",
       " 'Excélsior': [7],\n",
       " 'Poniente 134': [3],\n",
       " 'Circunvalación': [4],\n",
       " 'La Virgen': [5],\n",
       " 'Nápoles': [1],\n",
       " 'MB01-A (Indios Verdes - Insurgentes)': [1],\n",
       " 'MB03-B (Balderas - Tenayuca)': [3],\n",
       " 'San Lázaro': [4, 5],\n",
       " 'MB01-D (Buenavista - Caminero)': [1],\n",
       " 'Manuel González': [1],\n",
       " 'Museo de la Ciudad': [4],\n",
       " 'San Juan de Aragón': [5, 6],\n",
       " 'Jardín Pushkin': [3],\n",
       " 'Peralvillo': [7],\n",
       " 'Hamburgo': [7, 1],\n",
       " 'Río Consulado': [5],\n",
       " 'Calzada Tasqueña': [5],\n",
       " 'MB02-D (Tepalcates - Colonia del Valle)': [2],\n",
       " 'MB07-D (Indios Verdes - El Angel)': [7],\n",
       " 'Rojo Gómez': [2],\n",
       " 'MB03-C (Tenayuca - Buenavista)': [3],\n",
       " '416 Oriente': [6],\n",
       " 'Poniente 128': [3],\n",
       " 'Río Mayo': [2],\n",
       " 'Río Churubusco': [1],\n",
       " 'Parque Lira': [2],\n",
       " 'Mercado de Sonora': [4],\n",
       " 'Aeropuerto T1': [4],\n",
       " 'Balderas': [3],\n",
       " 'República de Argentina': [4],\n",
       " 'Domingo González': [5],\n",
       " 'MB07-C (Campo Marte - Glorieta Cuitlahuac)': [7],\n",
       " 'MB02-A (Tacubaya - Tepalcates)': [2],\n",
       " 'Las Américas': [2],\n",
       " 'Goma': [2],\n",
       " 'Leyes de Reforma': [2],\n",
       " 'MB06-C (El Rosario - Deportivo 18 Marzo)': [6],\n",
       " 'Delegación Cuauhtémoc': [4],\n",
       " 'San José de la Escalera': [3],\n",
       " 'MB06-B (Villa de Aragon - IPN)': [6],\n",
       " 'MB03-D (Tenayuca - La Raza)': [3],\n",
       " 'Canela': [2],\n",
       " 'Álvaro Obregón': [1],\n",
       " 'Tecnoparque': [6],\n",
       " 'La Patera': [3],\n",
       " 'Riobamba': [6],\n",
       " 'Expo Reforma': [4],\n",
       " 'San Simón': [1],\n",
       " 'Chapultepec': [7],\n",
       " 'Manuela Sáenz': [5],\n",
       " 'Parque Hundido': [1],\n",
       " 'Campo Marte': [7],\n",
       " 'Mercado Beethoven': [7],\n",
       " 'Atanasio G. Saravia': [5],\n",
       " 'Vocacional 5': [4],\n",
       " 'Hospital Balbuena': [4],\n",
       " 'Poniente 146': [3],\n",
       " 'La Bombilla': [1],\n",
       " 'Júpiter': [3],\n",
       " 'Hospital General': [3],\n",
       " 'Tenayuca': [3],\n",
       " 'MB01-B (Caminero - Indios Verdes)': [1],\n",
       " 'Moctezuma': [5, 4],\n",
       " 'Santa Úrsula': [1],\n",
       " 'La Raza': [3, 1],\n",
       " 'MB06-B (IPN - Villa de Aragon)': [6],\n",
       " 'MB04-N (San Lazaro - Buenavista)': [4],\n",
       " 'De Las Culturas': [6],\n",
       " 'Centro Médico': [3],\n",
       " 'Potrero': [1],\n",
       " 'UPIICSA': [2],\n",
       " 'El Rodeo': [2],\n",
       " 'Lindavista-Vallejo': [6],\n",
       " 'Colorines': [5],\n",
       " 'La Joya': [1],\n",
       " 'Reforma': [1, 7],\n",
       " 'Villa Olímpica': [1],\n",
       " 'UAM Azcapotzalco': [6],\n",
       " 'Altavista': [1],\n",
       " 'MB05-C (San Lazaro Sur - Las Bombas)': [5],\n",
       " 'Campesinos': [5],\n",
       " 'Canal del Norte': [5],\n",
       " 'MB05-A (Las Bombas - Remedios)': [5],\n",
       " 'Canal de Apatlaco': [5],\n",
       " 'Instituto del Petróleo': [6],\n",
       " 'Hospital La Raza': [3],\n",
       " 'Olivo': [1],\n",
       " '416 Poniente': [6],\n",
       " 'Gran Canal': [6],\n",
       " 'Héroe de Nacozari': [3],\n",
       " 'Insurgentes': [1],\n",
       " 'MB07-A (Campo Marte - Indios Verdes)': [7],\n",
       " 'MB01-D (Caminero - Buenavista)': [1],\n",
       " 'MB04-A (Aeropuerto)': [4],\n",
       " 'Canal de San Juan': [2],\n",
       " 'De Los Misterios': [7, 6],\n",
       " 'Robles Domínguez': [7],\n",
       " 'La Villa': [6],\n",
       " 'Norte 59': [6],\n",
       " 'Deportivo Los Galeana': [6],\n",
       " 'Hospital General La Villa': [6],\n",
       " 'MB04-S (San Lazaro - Buenavista)': [4],\n",
       " 'El Chopo': [1],\n",
       " 'Ermita Iztapalapa': [5],\n",
       " 'Museo San Carlos': [4],\n",
       " 'Recreo': [5],\n",
       " 'MB02-C (Colonia del Valle - Del Moral)': [2],\n",
       " 'Sonora': [1],\n",
       " 'Puente de Alvarado': [4],\n",
       " 'MB01-C (Galvez - Indios Verdes)': [1],\n",
       " 'El Caminero': [1],\n",
       " 'Cuauhtémoc': [3],\n",
       " 'Polifórum': [1],\n",
       " 'Tepalcates': [2],\n",
       " 'MB02-B (Tepalcates - Etiopia)': [2],\n",
       " 'París': [7],\n",
       " 'Archivo General de la Nación': [4, 5],\n",
       " 'Glorieta Violeta': [7],\n",
       " 'Preparatoria 3': [5],\n",
       " '5 de Mayo': [5],\n",
       " 'Andrés Molina': [2],\n",
       " 'Merced': [4],\n",
       " 'Loreto Fabela': [6],\n",
       " 'Venustiano Carranza': [5],\n",
       " 'Avenida del Taller': [5],\n",
       " 'Volcán de Fuego': [6],\n",
       " 'Físicos': [5],\n",
       " 'Ferrocarril de Cintura': [4],\n",
       " 'MB03-C (Buenavista - Tenayuca)': [3],\n",
       " 'Antonio Maceo': [2],\n",
       " 'Etiopía': [3, 2],\n",
       " 'Magdalena de las Salinas': [3],\n",
       " 'Casas Alemán': [6],\n",
       " 'Martín Carrera': [6],\n",
       " 'Mina': [3],\n",
       " 'Cuitláhuac': [3],\n",
       " 'Revolución': [1],\n",
       " 'La Viga': [2],\n",
       " 'MB01-A (Insurgentes - Indios Verdes)': [1],\n",
       " 'Montevideo': [3, 6],\n",
       " 'MB07-D (El Angel - Indios Verdes)': [7],\n",
       " 'Ricardo Flores Magón': [3],\n",
       " 'Gandhi': [7],\n",
       " 'Oriente 101': [5],\n",
       " 'MB04-S (Buenavista - San Lazaro)': [4],\n",
       " 'Morelos': [4],\n",
       " 'Viaducto': [2],\n",
       " 'San Bartolo': [6],\n",
       " 'De la Salle': [2],\n",
       " 'Bellas Artes': [4],\n",
       " 'MB02-B (Etiopia - Tepalcates)': [2],\n",
       " 'Corregidora': [1],\n",
       " 'Victoria': [5],\n",
       " 'Circuito': [1, 3],\n",
       " 'Juárez': [3, 4],\n",
       " 'Centro Cultural Universitario': [1],\n",
       " 'Eduardo Molina': [4],\n",
       " 'MB02-D (Colonia del Valle - Tepalcates)': [2],\n",
       " 'Clave': [7],\n",
       " 'Deportivo Eduardo Molina': [5],\n",
       " 'Patriotismo': [2],\n",
       " 'República de Chile': [4],\n",
       " 'Metro Coyuya': [5],\n",
       " 'Amores': [2],\n",
       " 'Indios Verdes': [1, 7],\n",
       " 'Tres Culturas': [7],\n",
       " 'Durango': [1],\n",
       " 'Eúzkaro': [1],\n",
       " 'MB07-C (Glorieta Cuitlahuac - Campo Marte)': [7],\n",
       " 'Guerrero': [3],\n",
       " 'Ampliación Providencia': [6],\n",
       " 'Tlatelolco': [3],\n",
       " 'Antropología': [7],\n",
       " 'MB02-A (Tepalcates - Tacubaya)': [2],\n",
       " 'Tolnahuác': [3],\n",
       " 'Auditorio': [7],\n",
       " 'Pueblo San Juan de Aragón': [6],\n",
       " 'Ferrocarriles Nacionales': [6],\n",
       " 'Eje Central': [4],\n",
       " 'Plaza de la República': [4, 1],\n",
       " 'MB06-A (El Rosario - Villa de Aragon)': [6],\n",
       " 'ESIME Culhuacán': [5],\n",
       " 'Colonia del Valle': [1],\n",
       " 'Colegio de Bachilleres 9': [6],\n",
       " 'Perisur': [1],\n",
       " 'Ciudad Universitaria': [1],\n",
       " 'Río Santa Coleta': [5],\n",
       " 'CCH Oriente': [2],\n",
       " 'Francisco Morazán': [6],\n",
       " 'Las Cruces Norte': [4],\n",
       " 'Talismán': [5],\n",
       " 'Las Cruces Sur': [4],\n",
       " 'La Pradera': [6],\n",
       " 'Av. Talismán': [7],\n",
       " 'Necaxa': [7],\n",
       " 'Colegio de Bachilleres': [5],\n",
       " 'MB01-B (Indios Verdes - Caminero)': [1],\n",
       " 'Las Bombas': [5],\n",
       " 'Garrido': [7],\n",
       " 'Cafetales': [5],\n",
       " 'Aeropuerto T2': [4],\n",
       " 'La Diana': [7],\n",
       " 'Francia': [1],\n",
       " 'Hospital 2-A Troncoso': [5],\n",
       " 'MB03-D (La Raza - Tenayuca)': [3],\n",
       " 'Villa de Aragón': [6],\n",
       " 'Doctor Vértiz': [2],\n",
       " 'Centro SCOP': [2],\n",
       " 'Progreso Nacional': [3],\n",
       " 'General Antonio de León': [2],\n",
       " 'Del Moral': [2],\n",
       " 'Río de Guadalupe': [5],\n",
       " 'La Palma': [7],\n",
       " '414': [6],\n",
       " 'Constitución de Apatzingán': [2],\n",
       " 'MB07-B (Campo Marte - Hospital Infantil)': [7],\n",
       " 'Ciudad de los Deportes': [1],\n",
       " 'Hidalgo': [3, 4, 7],\n",
       " 'Delegación Gustavo A. Madero': [6, 7],\n",
       " 'Isabel la Católica': [4],\n",
       " 'MB03-B (Tenayuca - Balderas)': [3],\n",
       " 'MB07-B (Hospital Infantil - Campo Marte)': [7],\n",
       " 'Glorieta de Colón': [7, 4],\n",
       " 'Cecilio Robelo': [4],\n",
       " 'Oriente 116': [5],\n",
       " 'Buenavista': [1, 4, 3],\n",
       " 'Río Tecolutla': [2],\n",
       " 'Coltongo': [3],\n",
       " 'Coyuya': [2],\n",
       " 'Campeche': [1],\n",
       " 'Tlacotal': [2],\n",
       " 'Pino Suárez': [4],\n",
       " 'Álamos': [2],\n",
       " 'Escandón': [2],\n",
       " 'Tres Anegas': [3],\n",
       " 'Doctor Márquez': [3],\n",
       " 'El Rosario': [6],\n",
       " 'Glorieta Cuitláhuac': [7],\n",
       " 'MB03-A (Tenayuca - Etiopia)': [3],\n",
       " 'Chilpancingo': [1],\n",
       " '482': [6],\n",
       " 'Mixcalco': [4],\n",
       " 'Mercado Morelos': [5],\n",
       " 'Misterios': [7],\n",
       " 'Hospital Infantil La Villa': [6, 7],\n",
       " 'El Ángel': [7],\n",
       " 'Vasco de Quiroga': [5],\n",
       " 'MB03-A (Etiopia - Tenayuca)': [3],\n",
       " 'Apatlaco': [5],\n",
       " 'Ayuntamiento': [1],\n",
       " 'Xola': [2],\n",
       " 'Garibaldi': [7],\n",
       " 'MB05-C (Las Bombas - San Lazaro Sur)': [5],\n",
       " 'Teatro Blanquita': [4],\n",
       " 'Félix Cuevas': [1],\n",
       " 'Mixiuhca': [5],\n",
       " 'Nicolás Bravo': [2],\n",
       " 'Río de Los Remedios': [5],\n",
       " 'El Salvador': [4],\n",
       " 'MB05-A (Remedios - Las Bombas)': [5],\n",
       " 'Plaza San Juan': [4],\n",
       " 'Deportivo 18 de Marzo': [1, 6],\n",
       " 'Aculco': [5]}"
      ]
     },
     "execution_count": 160,
     "metadata": {},
     "output_type": "execute_result"
    }
   ],
   "source": [
    "dict_lineas"
   ]
  },
  {
   "cell_type": "code",
   "execution_count": 161,
   "metadata": {},
   "outputs": [],
   "source": [
    "geo_mb = list(zip(stations_mb['nombre'], stations_mb['Geo Point']))\n",
    "dict_gep = {name:geo for name, geo in geo_mb}"
   ]
  },
  {
   "cell_type": "code",
   "execution_count": 162,
   "metadata": {},
   "outputs": [],
   "source": [
    "carp_inv['comp_line'] = carp_inv['nearest_mb'].apply(lambda x: dict_lineas[x])"
   ]
  },
  {
   "cell_type": "code",
   "execution_count": 163,
   "metadata": {},
   "outputs": [],
   "source": [
    "carp_inv['geo_mb'] = carp_inv['nearest_mb'].apply(lambda x: dict_gep[x])"
   ]
  },
  {
   "cell_type": "code",
   "execution_count": 164,
   "metadata": {},
   "outputs": [
    {
     "data": {
      "text/html": [
       "<div>\n",
       "<style scoped>\n",
       "    .dataframe tbody tr th:only-of-type {\n",
       "        vertical-align: middle;\n",
       "    }\n",
       "\n",
       "    .dataframe tbody tr th {\n",
       "        vertical-align: top;\n",
       "    }\n",
       "\n",
       "    .dataframe thead th {\n",
       "        text-align: right;\n",
       "    }\n",
       "</style>\n",
       "<table border=\"1\" class=\"dataframe\">\n",
       "  <thead>\n",
       "    <tr style=\"text-align: right;\">\n",
       "      <th></th>\n",
       "      <th>año_hechos</th>\n",
       "      <th>mes_hechos</th>\n",
       "      <th>fecha_hechos</th>\n",
       "      <th>delito</th>\n",
       "      <th>categoria_delito</th>\n",
       "      <th>fiscalía</th>\n",
       "      <th>agencia</th>\n",
       "      <th>unidad_investigacion</th>\n",
       "      <th>colonia_hechos</th>\n",
       "      <th>alcaldia_hechos</th>\n",
       "      <th>...</th>\n",
       "      <th>mes_inicio</th>\n",
       "      <th>ao_inicio</th>\n",
       "      <th>calle_hechos</th>\n",
       "      <th>calle_hechos2</th>\n",
       "      <th>longitud</th>\n",
       "      <th>latitud</th>\n",
       "      <th>Geopoint</th>\n",
       "      <th>nearest_mb</th>\n",
       "      <th>comp_line</th>\n",
       "      <th>geo_mb</th>\n",
       "    </tr>\n",
       "  </thead>\n",
       "  <tbody>\n",
       "    <tr>\n",
       "      <th>0</th>\n",
       "      <td>2016.0</td>\n",
       "      <td>Enero</td>\n",
       "      <td>2016-01-05 17:00:00</td>\n",
       "      <td>LESIONES CULPOSAS</td>\n",
       "      <td>DELITO DE BAJO IMPACTO</td>\n",
       "      <td>INVESTIGACIÓN EN GUSTAVO A. MADERO</td>\n",
       "      <td>GAM-6</td>\n",
       "      <td>UI-1CD</td>\n",
       "      <td>GRANJAS MODERNAS</td>\n",
       "      <td>GUSTAVO A MADERO</td>\n",
       "      <td>...</td>\n",
       "      <td>Enero</td>\n",
       "      <td>2016</td>\n",
       "      <td>SAN JUAN DE ARAGON</td>\n",
       "      <td>CALLE ANZAR</td>\n",
       "      <td>-99.103527</td>\n",
       "      <td>19.481076</td>\n",
       "      <td>19.4810759998,-99.103527</td>\n",
       "      <td>Martín Carrera</td>\n",
       "      <td>[6]</td>\n",
       "      <td>19.4820384425,-99.1053351143</td>\n",
       "    </tr>\n",
       "    <tr>\n",
       "      <th>1</th>\n",
       "      <td>2017.0</td>\n",
       "      <td>Noviembre</td>\n",
       "      <td>2017-11-01 16:40:00</td>\n",
       "      <td>ROBO A TRANSEUNTE EN VIA PUBLICA CON VIOLENCIA</td>\n",
       "      <td>ROBO A TRANSEUNTE EN VÍA PÚBLICA CON Y SIN VIO...</td>\n",
       "      <td>INVESTIGACIÓN EN IZTACALCO</td>\n",
       "      <td>IZC-2</td>\n",
       "      <td>UI-1SD</td>\n",
       "      <td>GABRIEL RAMOS MILLÁN SECCIÓN TLACOTAL</td>\n",
       "      <td>IZTACALCO</td>\n",
       "      <td>...</td>\n",
       "      <td>Noviembre</td>\n",
       "      <td>2017</td>\n",
       "      <td>SUR 117</td>\n",
       "      <td>ORIENTE 100A</td>\n",
       "      <td>-99.106072</td>\n",
       "      <td>19.395398</td>\n",
       "      <td>19.3953976727,-99.1060723829</td>\n",
       "      <td>Tlacotal</td>\n",
       "      <td>[2]</td>\n",
       "      <td>19.3972441688,-99.1038845531</td>\n",
       "    </tr>\n",
       "    <tr>\n",
       "      <th>2</th>\n",
       "      <td>2015.0</td>\n",
       "      <td>Diciembre</td>\n",
       "      <td>2015-12-30 20:00:00</td>\n",
       "      <td>FRAUDE</td>\n",
       "      <td>DELITO DE BAJO IMPACTO</td>\n",
       "      <td>INVESTIGACIÓN EN IZTAPALAPA</td>\n",
       "      <td>IZP-8</td>\n",
       "      <td>UI-1CD</td>\n",
       "      <td>CONSEJO AGRARISTA MEXICANO</td>\n",
       "      <td>IZTAPALAPA</td>\n",
       "      <td>...</td>\n",
       "      <td>Enero</td>\n",
       "      <td>2016</td>\n",
       "      <td>CUARTA CERRADA DE FRESNO</td>\n",
       "      <td>ENCINO (SIN REGISTRO DEL SAP)</td>\n",
       "      <td>-99.055887</td>\n",
       "      <td>19.322458</td>\n",
       "      <td>19.3224579998,-99.055887</td>\n",
       "      <td>Las Bombas</td>\n",
       "      <td>[5]</td>\n",
       "      <td>19.3118294298,-99.1106325698</td>\n",
       "    </tr>\n",
       "    <tr>\n",
       "      <th>3</th>\n",
       "      <td>2018.0</td>\n",
       "      <td>Mayo</td>\n",
       "      <td>2018-05-16 16:00:00</td>\n",
       "      <td>ROBO A REPARTIDOR CON VIOLENCIA</td>\n",
       "      <td>ROBO A REPARTIDOR CON Y SIN VIOLENCIA</td>\n",
       "      <td>INVESTIGACIÓN EN IZTAPALAPA</td>\n",
       "      <td>IZP-9</td>\n",
       "      <td>UI-2SD</td>\n",
       "      <td>DESARROLLO URBANO QUETZALCOATL</td>\n",
       "      <td>IZTAPALAPA</td>\n",
       "      <td>...</td>\n",
       "      <td>Mayo</td>\n",
       "      <td>2018</td>\n",
       "      <td>TARASCO</td>\n",
       "      <td>ZAPOTECO</td>\n",
       "      <td>-99.042786</td>\n",
       "      <td>19.319141</td>\n",
       "      <td>19.3191405147,-99.0427862526</td>\n",
       "      <td>CCH Oriente</td>\n",
       "      <td>[2]</td>\n",
       "      <td>19.383326965,-99.0607918478</td>\n",
       "    </tr>\n",
       "    <tr>\n",
       "      <th>4</th>\n",
       "      <td>2018.0</td>\n",
       "      <td>Mayo</td>\n",
       "      <td>2018-05-21 20:40:00</td>\n",
       "      <td>ROBO A TRANSEUNTE DE CELULAR CON VIOLENCIA</td>\n",
       "      <td>DELITO DE BAJO IMPACTO</td>\n",
       "      <td>INVESTIGACIÓN EN CUAUHTEMOC</td>\n",
       "      <td>CUH-2</td>\n",
       "      <td>UI-2SD</td>\n",
       "      <td>INFONAVIT IZTACALCO</td>\n",
       "      <td>IZTACALCO</td>\n",
       "      <td>...</td>\n",
       "      <td>Mayo</td>\n",
       "      <td>2018</td>\n",
       "      <td>FRANCISCO DEL PASO Y TRONCOSO</td>\n",
       "      <td>ISLA</td>\n",
       "      <td>-99.111563</td>\n",
       "      <td>19.386594</td>\n",
       "      <td>19.3865939284,-99.1115626682</td>\n",
       "      <td>Colegio de Bachilleres</td>\n",
       "      <td>[5]</td>\n",
       "      <td>19.38632392,-99.1116619153</td>\n",
       "    </tr>\n",
       "  </tbody>\n",
       "</table>\n",
       "<p>5 rows × 21 columns</p>\n",
       "</div>"
      ],
      "text/plain": [
       "   año_hechos mes_hechos         fecha_hechos  \\\n",
       "0      2016.0      Enero  2016-01-05 17:00:00   \n",
       "1      2017.0  Noviembre  2017-11-01 16:40:00   \n",
       "2      2015.0  Diciembre  2015-12-30 20:00:00   \n",
       "3      2018.0       Mayo  2018-05-16 16:00:00   \n",
       "4      2018.0       Mayo  2018-05-21 20:40:00   \n",
       "\n",
       "                                           delito  \\\n",
       "0                               LESIONES CULPOSAS   \n",
       "1  ROBO A TRANSEUNTE EN VIA PUBLICA CON VIOLENCIA   \n",
       "2                                          FRAUDE   \n",
       "3                 ROBO A REPARTIDOR CON VIOLENCIA   \n",
       "4      ROBO A TRANSEUNTE DE CELULAR CON VIOLENCIA   \n",
       "\n",
       "                                    categoria_delito  \\\n",
       "0                             DELITO DE BAJO IMPACTO   \n",
       "1  ROBO A TRANSEUNTE EN VÍA PÚBLICA CON Y SIN VIO...   \n",
       "2                             DELITO DE BAJO IMPACTO   \n",
       "3              ROBO A REPARTIDOR CON Y SIN VIOLENCIA   \n",
       "4                             DELITO DE BAJO IMPACTO   \n",
       "\n",
       "                             fiscalía agencia unidad_investigacion  \\\n",
       "0  INVESTIGACIÓN EN GUSTAVO A. MADERO   GAM-6               UI-1CD   \n",
       "1          INVESTIGACIÓN EN IZTACALCO   IZC-2               UI-1SD   \n",
       "2         INVESTIGACIÓN EN IZTAPALAPA   IZP-8               UI-1CD   \n",
       "3         INVESTIGACIÓN EN IZTAPALAPA   IZP-9               UI-2SD   \n",
       "4         INVESTIGACIÓN EN CUAUHTEMOC   CUH-2               UI-2SD   \n",
       "\n",
       "                          colonia_hechos   alcaldia_hechos  ... mes_inicio  \\\n",
       "0                       GRANJAS MODERNAS  GUSTAVO A MADERO  ...      Enero   \n",
       "1  GABRIEL RAMOS MILLÁN SECCIÓN TLACOTAL         IZTACALCO  ...  Noviembre   \n",
       "2             CONSEJO AGRARISTA MEXICANO        IZTAPALAPA  ...      Enero   \n",
       "3         DESARROLLO URBANO QUETZALCOATL        IZTAPALAPA  ...       Mayo   \n",
       "4                    INFONAVIT IZTACALCO         IZTACALCO  ...       Mayo   \n",
       "\n",
       "  ao_inicio                   calle_hechos                  calle_hechos2  \\\n",
       "0      2016             SAN JUAN DE ARAGON                    CALLE ANZAR   \n",
       "1      2017                        SUR 117                   ORIENTE 100A   \n",
       "2      2016       CUARTA CERRADA DE FRESNO  ENCINO (SIN REGISTRO DEL SAP)   \n",
       "3      2018                        TARASCO                       ZAPOTECO   \n",
       "4      2018  FRANCISCO DEL PASO Y TRONCOSO                           ISLA   \n",
       "\n",
       "    longitud    latitud                      Geopoint              nearest_mb  \\\n",
       "0 -99.103527  19.481076      19.4810759998,-99.103527          Martín Carrera   \n",
       "1 -99.106072  19.395398  19.3953976727,-99.1060723829                Tlacotal   \n",
       "2 -99.055887  19.322458      19.3224579998,-99.055887              Las Bombas   \n",
       "3 -99.042786  19.319141  19.3191405147,-99.0427862526             CCH Oriente   \n",
       "4 -99.111563  19.386594  19.3865939284,-99.1115626682  Colegio de Bachilleres   \n",
       "\n",
       "  comp_line                        geo_mb  \n",
       "0       [6]  19.4820384425,-99.1053351143  \n",
       "1       [2]  19.3972441688,-99.1038845531  \n",
       "2       [5]  19.3118294298,-99.1106325698  \n",
       "3       [2]   19.383326965,-99.0607918478  \n",
       "4       [5]    19.38632392,-99.1116619153  \n",
       "\n",
       "[5 rows x 21 columns]"
      ]
     },
     "execution_count": 164,
     "metadata": {},
     "output_type": "execute_result"
    }
   ],
   "source": [
    "carp_inv.head()"
   ]
  },
  {
   "cell_type": "code",
   "execution_count": 165,
   "metadata": {},
   "outputs": [],
   "source": [
    "carp_inv = carp_inv.dropna()"
   ]
  },
  {
   "cell_type": "code",
   "execution_count": 166,
   "metadata": {},
   "outputs": [
    {
     "data": {
      "text/plain": [
       "{2016.0, 2017.0, 2018.0, 2019.0}"
      ]
     },
     "execution_count": 166,
     "metadata": {},
     "output_type": "execute_result"
    }
   ],
   "source": [
    "years_filter = (carp_inv['año_hechos'] >= 2016)\n",
    "carp_inv = carp_inv[years_filter]\n",
    "set(carp_inv['año_hechos'])"
   ]
  },
  {
   "cell_type": "code",
   "execution_count": 167,
   "metadata": {},
   "outputs": [
    {
     "data": {
      "text/plain": [
       "Index(['año_hechos', 'mes_hechos', 'fecha_hechos', 'delito',\n",
       "       'categoria_delito', 'fiscalía', 'agencia', 'unidad_investigacion',\n",
       "       'colonia_hechos', 'alcaldia_hechos', 'fecha_inicio', 'mes_inicio',\n",
       "       'ao_inicio', 'calle_hechos', 'calle_hechos2', 'longitud', 'latitud',\n",
       "       'Geopoint', 'nearest_mb', 'comp_line', 'geo_mb'],\n",
       "      dtype='object')"
      ]
     },
     "execution_count": 167,
     "metadata": {},
     "output_type": "execute_result"
    }
   ],
   "source": [
    "carp_inv.columns"
   ]
  },
  {
   "cell_type": "code",
   "execution_count": 168,
   "metadata": {},
   "outputs": [],
   "source": [
    "carp_inv.to_csv('../data/master-years.csv',index=False)"
   ]
  },
  {
   "cell_type": "code",
   "execution_count": null,
   "metadata": {},
   "outputs": [],
   "source": []
  }
 ],
 "metadata": {
  "kernelspec": {
   "display_name": "Python 3",
   "language": "python",
   "name": "python3"
  },
  "language_info": {
   "codemirror_mode": {
    "name": "ipython",
    "version": 3
   },
   "file_extension": ".py",
   "mimetype": "text/x-python",
   "name": "python",
   "nbconvert_exporter": "python",
   "pygments_lexer": "ipython3",
   "version": "3.8.3"
  }
 },
 "nbformat": 4,
 "nbformat_minor": 4
}
