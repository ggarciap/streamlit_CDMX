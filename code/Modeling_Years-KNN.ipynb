{
 "cells": [
  {
   "cell_type": "code",
   "execution_count": 87,
   "metadata": {},
   "outputs": [],
   "source": [
    "import pandas as pd\n",
    "import numpy as np \n",
    "import seaborn as sns \n",
    "import matplotlib.pyplot as plt"
   ]
  },
  {
   "cell_type": "code",
   "execution_count": 88,
   "metadata": {},
   "outputs": [],
   "source": [
    "from sklearn.model_selection import train_test_split\n",
    "from sklearn.cluster import KMeans, MiniBatchKMeans"
   ]
  },
  {
   "cell_type": "code",
   "execution_count": 89,
   "metadata": {},
   "outputs": [],
   "source": [
    "from sklearn.model_selection import train_test_split, StratifiedKFold, GridSearchCV\n",
    "from sklearn.preprocessing import StandardScaler\n",
    "import sklearn.metrics as metrics\n",
    "from sklearn.linear_model import LogisticRegression\n",
    "from sklearn.ensemble import RandomForestClassifier\n",
    "from imblearn.over_sampling import SMOTE, SMOTENC\n",
    "from imblearn.pipeline import Pipeline\n",
    "from sklearn.model_selection import GridSearchCV\n",
    "from sklearn.utils import class_weight"
   ]
  },
  {
   "cell_type": "code",
   "execution_count": 90,
   "metadata": {},
   "outputs": [
    {
     "data": {
      "text/html": [
       "<div>\n",
       "<style scoped>\n",
       "    .dataframe tbody tr th:only-of-type {\n",
       "        vertical-align: middle;\n",
       "    }\n",
       "\n",
       "    .dataframe tbody tr th {\n",
       "        vertical-align: top;\n",
       "    }\n",
       "\n",
       "    .dataframe thead th {\n",
       "        text-align: right;\n",
       "    }\n",
       "</style>\n",
       "<table border=\"1\" class=\"dataframe\">\n",
       "  <thead>\n",
       "    <tr style=\"text-align: right;\">\n",
       "      <th></th>\n",
       "      <th>mes_hechos</th>\n",
       "      <th>fecha_hechos</th>\n",
       "      <th>delito</th>\n",
       "      <th>categoria_delito</th>\n",
       "      <th>colonia_hechos</th>\n",
       "      <th>alcaldia_hechos</th>\n",
       "      <th>fecha_inicio</th>\n",
       "      <th>calle_hechos</th>\n",
       "      <th>longitud</th>\n",
       "      <th>latitud</th>\n",
       "      <th>...</th>\n",
       "      <th>rob_victim</th>\n",
       "      <th>event_time</th>\n",
       "      <th>event_date</th>\n",
       "      <th>Linea</th>\n",
       "      <th>Afluencia</th>\n",
       "      <th>target_crimes</th>\n",
       "      <th>dist_km</th>\n",
       "      <th>manhattan_dist</th>\n",
       "      <th>geo_hash_crime</th>\n",
       "      <th>geo_hash_mb</th>\n",
       "    </tr>\n",
       "  </thead>\n",
       "  <tbody>\n",
       "    <tr>\n",
       "      <th>0</th>\n",
       "      <td>Mayo</td>\n",
       "      <td>2018-05-21 20:40:00</td>\n",
       "      <td>ROBO A TRANSEUNTE DE CELULAR CON VIOLENCIA</td>\n",
       "      <td>DELITO DE BAJO IMPACTO</td>\n",
       "      <td>INFONAVIT IZTACALCO</td>\n",
       "      <td>IZTACALCO</td>\n",
       "      <td>2018-05-22 10:52:18</td>\n",
       "      <td>FRANCISCO DEL PASO Y TRONCOSO</td>\n",
       "      <td>-99.111563</td>\n",
       "      <td>19.386594</td>\n",
       "      <td>...</td>\n",
       "      <td>0</td>\n",
       "      <td>20:40:00</td>\n",
       "      <td>2018-05-21</td>\n",
       "      <td>5</td>\n",
       "      <td>89793</td>\n",
       "      <td>0</td>\n",
       "      <td>0.03</td>\n",
       "      <td>0.040434</td>\n",
       "      <td>9g3w29</td>\n",
       "      <td>9g3w29</td>\n",
       "    </tr>\n",
       "    <tr>\n",
       "      <th>1</th>\n",
       "      <td>Enero</td>\n",
       "      <td>2016-01-02 21:20:00</td>\n",
       "      <td>ROBO DE DINERO</td>\n",
       "      <td>DELITO DE BAJO IMPACTO</td>\n",
       "      <td>LOS REYES</td>\n",
       "      <td>IZTACALCO</td>\n",
       "      <td>2016-01-05 19:37:09</td>\n",
       "      <td>AV PLUTARCO ELIAS CALLES</td>\n",
       "      <td>-99.117183</td>\n",
       "      <td>19.398040</td>\n",
       "      <td>...</td>\n",
       "      <td>0</td>\n",
       "      <td>21:20:00</td>\n",
       "      <td>2016-01-02</td>\n",
       "      <td>2</td>\n",
       "      <td>76570</td>\n",
       "      <td>0</td>\n",
       "      <td>0.05</td>\n",
       "      <td>0.073859</td>\n",
       "      <td>9g3w2e</td>\n",
       "      <td>9g3w2e</td>\n",
       "    </tr>\n",
       "    <tr>\n",
       "      <th>2</th>\n",
       "      <td>Octubre</td>\n",
       "      <td>2017-10-15 12:00:00</td>\n",
       "      <td>ROBO DE OBJETOS</td>\n",
       "      <td>DELITO DE BAJO IMPACTO</td>\n",
       "      <td>MERCED BALBUENA</td>\n",
       "      <td>VENUSTIANO CARRANZA</td>\n",
       "      <td>2017-11-01 22:12:42</td>\n",
       "      <td>ANILLO DE CIRCUNVALACION</td>\n",
       "      <td>-99.124966</td>\n",
       "      <td>19.428301</td>\n",
       "      <td>...</td>\n",
       "      <td>0</td>\n",
       "      <td>12:00:00</td>\n",
       "      <td>2017-10-15</td>\n",
       "      <td>4</td>\n",
       "      <td>31720</td>\n",
       "      <td>0</td>\n",
       "      <td>0.13</td>\n",
       "      <td>0.134643</td>\n",
       "      <td>9g3w82</td>\n",
       "      <td>9g3w82</td>\n",
       "    </tr>\n",
       "  </tbody>\n",
       "</table>\n",
       "<p>3 rows × 23 columns</p>\n",
       "</div>"
      ],
      "text/plain": [
       "  mes_hechos         fecha_hechos                                      delito  \\\n",
       "0       Mayo  2018-05-21 20:40:00  ROBO A TRANSEUNTE DE CELULAR CON VIOLENCIA   \n",
       "1      Enero  2016-01-02 21:20:00                              ROBO DE DINERO   \n",
       "2    Octubre  2017-10-15 12:00:00                             ROBO DE OBJETOS   \n",
       "\n",
       "         categoria_delito       colonia_hechos      alcaldia_hechos  \\\n",
       "0  DELITO DE BAJO IMPACTO  INFONAVIT IZTACALCO            IZTACALCO   \n",
       "1  DELITO DE BAJO IMPACTO            LOS REYES            IZTACALCO   \n",
       "2  DELITO DE BAJO IMPACTO      MERCED BALBUENA  VENUSTIANO CARRANZA   \n",
       "\n",
       "          fecha_inicio                   calle_hechos   longitud    latitud  \\\n",
       "0  2018-05-22 10:52:18  FRANCISCO DEL PASO Y TRONCOSO -99.111563  19.386594   \n",
       "1  2016-01-05 19:37:09       AV PLUTARCO ELIAS CALLES -99.117183  19.398040   \n",
       "2  2017-11-01 22:12:42       ANILLO DE CIRCUNVALACION -99.124966  19.428301   \n",
       "\n",
       "   ... rob_victim event_time  event_date  Linea Afluencia target_crimes  \\\n",
       "0  ...          0   20:40:00  2018-05-21      5     89793             0   \n",
       "1  ...          0   21:20:00  2016-01-02      2     76570             0   \n",
       "2  ...          0   12:00:00  2017-10-15      4     31720             0   \n",
       "\n",
       "   dist_km  manhattan_dist  geo_hash_crime  geo_hash_mb  \n",
       "0     0.03        0.040434          9g3w29       9g3w29  \n",
       "1     0.05        0.073859          9g3w2e       9g3w2e  \n",
       "2     0.13        0.134643          9g3w82       9g3w82  \n",
       "\n",
       "[3 rows x 23 columns]"
      ]
     },
     "execution_count": 90,
     "metadata": {},
     "output_type": "execute_result"
    }
   ],
   "source": [
    "df = pd.read_csv('../data/master_modeling_years.csv')\n",
    "mb_stations = pd.read_csv('../data/estaciones-metrobus0.csv')\n",
    "df.head(3)"
   ]
  },
  {
   "cell_type": "code",
   "execution_count": 91,
   "metadata": {},
   "outputs": [
    {
     "data": {
      "text/plain": [
       "23"
      ]
     },
     "execution_count": 91,
     "metadata": {},
     "output_type": "execute_result"
    }
   ],
   "source": [
    "len(df.columns)"
   ]
  },
  {
   "cell_type": "code",
   "execution_count": 92,
   "metadata": {},
   "outputs": [
    {
     "data": {
      "text/plain": [
       "mes_hechos           object\n",
       "fecha_hechos         object\n",
       "delito               object\n",
       "categoria_delito     object\n",
       "colonia_hechos       object\n",
       "alcaldia_hechos      object\n",
       "fecha_inicio         object\n",
       "calle_hechos         object\n",
       "longitud            float64\n",
       "latitud             float64\n",
       "Geopoint             object\n",
       "nearest_mb           object\n",
       "geo_mb               object\n",
       "rob_victim            int64\n",
       "event_time           object\n",
       "event_date           object\n",
       "Linea                 int64\n",
       "Afluencia             int64\n",
       "target_crimes         int64\n",
       "dist_km             float64\n",
       "manhattan_dist      float64\n",
       "geo_hash_crime       object\n",
       "geo_hash_mb          object\n",
       "dtype: object"
      ]
     },
     "execution_count": 92,
     "metadata": {},
     "output_type": "execute_result"
    }
   ],
   "source": [
    "df.dtypes"
   ]
  },
  {
   "cell_type": "code",
   "execution_count": 93,
   "metadata": {},
   "outputs": [
    {
     "data": {
      "text/plain": [
       "(25586, 5)"
      ]
     },
     "execution_count": 93,
     "metadata": {},
     "output_type": "execute_result"
    }
   ],
   "source": [
    "df = df[['fecha_hechos','longitud', 'latitud',  'delito','nearest_mb']]\n",
    "df.rename(columns={\"nearest_mb\": \"nombre\"}, inplace=True)\n",
    "df.shape"
   ]
  },
  {
   "cell_type": "code",
   "execution_count": 94,
   "metadata": {},
   "outputs": [
    {
     "data": {
      "text/plain": [
       "Geo Point    object\n",
       "Geo Shape    object\n",
       "nombre       object\n",
       "linea         int64\n",
       "dtype: object"
      ]
     },
     "execution_count": 94,
     "metadata": {},
     "output_type": "execute_result"
    }
   ],
   "source": [
    "mb_stations.dtypes"
   ]
  },
  {
   "cell_type": "code",
   "execution_count": 95,
   "metadata": {},
   "outputs": [
    {
     "data": {
      "text/plain": [
       "(29828, 8)"
      ]
     },
     "execution_count": 95,
     "metadata": {},
     "output_type": "execute_result"
    }
   ],
   "source": [
    "df = pd.merge(df, mb_stations)\n",
    "df.shape"
   ]
  },
  {
   "cell_type": "code",
   "execution_count": 96,
   "metadata": {},
   "outputs": [
    {
     "data": {
      "text/html": [
       "<div>\n",
       "<style scoped>\n",
       "    .dataframe tbody tr th:only-of-type {\n",
       "        vertical-align: middle;\n",
       "    }\n",
       "\n",
       "    .dataframe tbody tr th {\n",
       "        vertical-align: top;\n",
       "    }\n",
       "\n",
       "    .dataframe thead th {\n",
       "        text-align: right;\n",
       "    }\n",
       "</style>\n",
       "<table border=\"1\" class=\"dataframe\">\n",
       "  <thead>\n",
       "    <tr style=\"text-align: right;\">\n",
       "      <th></th>\n",
       "      <th>fecha_hechos</th>\n",
       "      <th>longitud</th>\n",
       "      <th>latitud</th>\n",
       "      <th>delito</th>\n",
       "      <th>nombre</th>\n",
       "      <th>Geo Point</th>\n",
       "      <th>Geo Shape</th>\n",
       "      <th>linea</th>\n",
       "    </tr>\n",
       "  </thead>\n",
       "  <tbody>\n",
       "    <tr>\n",
       "      <th>0</th>\n",
       "      <td>2018-05-21 20:40:00</td>\n",
       "      <td>-99.111563</td>\n",
       "      <td>19.386594</td>\n",
       "      <td>ROBO A TRANSEUNTE DE CELULAR CON VIOLENCIA</td>\n",
       "      <td>Colegio de Bachilleres</td>\n",
       "      <td>19.38632392,-99.1116619153</td>\n",
       "      <td>{\"type\": \"Point\", \"coordinates\": [-99.11166191...</td>\n",
       "      <td>5</td>\n",
       "    </tr>\n",
       "    <tr>\n",
       "      <th>1</th>\n",
       "      <td>2017-08-22 15:00:00</td>\n",
       "      <td>-99.111824</td>\n",
       "      <td>19.387331</td>\n",
       "      <td>ROBO A TRANSEUNTE DE CELULAR CON VIOLENCIA</td>\n",
       "      <td>Colegio de Bachilleres</td>\n",
       "      <td>19.38632392,-99.1116619153</td>\n",
       "      <td>{\"type\": \"Point\", \"coordinates\": [-99.11166191...</td>\n",
       "      <td>5</td>\n",
       "    </tr>\n",
       "    <tr>\n",
       "      <th>2</th>\n",
       "      <td>2017-09-12 20:55:00</td>\n",
       "      <td>-99.111670</td>\n",
       "      <td>19.386555</td>\n",
       "      <td>ROBO A TRANSEUNTE DE CELULAR CON VIOLENCIA</td>\n",
       "      <td>Colegio de Bachilleres</td>\n",
       "      <td>19.38632392,-99.1116619153</td>\n",
       "      <td>{\"type\": \"Point\", \"coordinates\": [-99.11166191...</td>\n",
       "      <td>5</td>\n",
       "    </tr>\n",
       "    <tr>\n",
       "      <th>3</th>\n",
       "      <td>2018-12-29 19:50:00</td>\n",
       "      <td>-99.112752</td>\n",
       "      <td>19.386661</td>\n",
       "      <td>ROBO A TRANSEUNTE DE CELULAR CON VIOLENCIA</td>\n",
       "      <td>Colegio de Bachilleres</td>\n",
       "      <td>19.38632392,-99.1116619153</td>\n",
       "      <td>{\"type\": \"Point\", \"coordinates\": [-99.11166191...</td>\n",
       "      <td>5</td>\n",
       "    </tr>\n",
       "    <tr>\n",
       "      <th>4</th>\n",
       "      <td>2018-11-28 17:30:00</td>\n",
       "      <td>-99.113661</td>\n",
       "      <td>19.386001</td>\n",
       "      <td>ROBO A TRANSEUNTE DE CELULAR CON VIOLENCIA</td>\n",
       "      <td>Colegio de Bachilleres</td>\n",
       "      <td>19.38632392,-99.1116619153</td>\n",
       "      <td>{\"type\": \"Point\", \"coordinates\": [-99.11166191...</td>\n",
       "      <td>5</td>\n",
       "    </tr>\n",
       "  </tbody>\n",
       "</table>\n",
       "</div>"
      ],
      "text/plain": [
       "          fecha_hechos   longitud    latitud  \\\n",
       "0  2018-05-21 20:40:00 -99.111563  19.386594   \n",
       "1  2017-08-22 15:00:00 -99.111824  19.387331   \n",
       "2  2017-09-12 20:55:00 -99.111670  19.386555   \n",
       "3  2018-12-29 19:50:00 -99.112752  19.386661   \n",
       "4  2018-11-28 17:30:00 -99.113661  19.386001   \n",
       "\n",
       "                                       delito                  nombre  \\\n",
       "0  ROBO A TRANSEUNTE DE CELULAR CON VIOLENCIA  Colegio de Bachilleres   \n",
       "1  ROBO A TRANSEUNTE DE CELULAR CON VIOLENCIA  Colegio de Bachilleres   \n",
       "2  ROBO A TRANSEUNTE DE CELULAR CON VIOLENCIA  Colegio de Bachilleres   \n",
       "3  ROBO A TRANSEUNTE DE CELULAR CON VIOLENCIA  Colegio de Bachilleres   \n",
       "4  ROBO A TRANSEUNTE DE CELULAR CON VIOLENCIA  Colegio de Bachilleres   \n",
       "\n",
       "                    Geo Point  \\\n",
       "0  19.38632392,-99.1116619153   \n",
       "1  19.38632392,-99.1116619153   \n",
       "2  19.38632392,-99.1116619153   \n",
       "3  19.38632392,-99.1116619153   \n",
       "4  19.38632392,-99.1116619153   \n",
       "\n",
       "                                           Geo Shape  linea  \n",
       "0  {\"type\": \"Point\", \"coordinates\": [-99.11166191...      5  \n",
       "1  {\"type\": \"Point\", \"coordinates\": [-99.11166191...      5  \n",
       "2  {\"type\": \"Point\", \"coordinates\": [-99.11166191...      5  \n",
       "3  {\"type\": \"Point\", \"coordinates\": [-99.11166191...      5  \n",
       "4  {\"type\": \"Point\", \"coordinates\": [-99.11166191...      5  "
      ]
     },
     "execution_count": 96,
     "metadata": {},
     "output_type": "execute_result"
    }
   ],
   "source": [
    "# Repeated instances because stations share lines\n",
    "df.head()"
   ]
  },
  {
   "cell_type": "code",
   "execution_count": 97,
   "metadata": {},
   "outputs": [
    {
     "data": {
      "text/html": [
       "<div>\n",
       "<style scoped>\n",
       "    .dataframe tbody tr th:only-of-type {\n",
       "        vertical-align: middle;\n",
       "    }\n",
       "\n",
       "    .dataframe tbody tr th {\n",
       "        vertical-align: top;\n",
       "    }\n",
       "\n",
       "    .dataframe thead th {\n",
       "        text-align: right;\n",
       "    }\n",
       "</style>\n",
       "<table border=\"1\" class=\"dataframe\">\n",
       "  <thead>\n",
       "    <tr style=\"text-align: right;\">\n",
       "      <th></th>\n",
       "      <th>fecha_hechos</th>\n",
       "      <th>longitud</th>\n",
       "      <th>latitud</th>\n",
       "      <th>delito</th>\n",
       "      <th>nombre</th>\n",
       "      <th>Geo Point</th>\n",
       "      <th>Geo Shape</th>\n",
       "      <th>linea</th>\n",
       "      <th>latitud_mb</th>\n",
       "      <th>longitud_mb</th>\n",
       "    </tr>\n",
       "  </thead>\n",
       "  <tbody>\n",
       "    <tr>\n",
       "      <th>0</th>\n",
       "      <td>2018-05-21 20:40:00</td>\n",
       "      <td>-99.111563</td>\n",
       "      <td>19.386594</td>\n",
       "      <td>ROBO A TRANSEUNTE DE CELULAR CON VIOLENCIA</td>\n",
       "      <td>Colegio de Bachilleres</td>\n",
       "      <td>19.38632392,-99.1116619153</td>\n",
       "      <td>{\"type\": \"Point\", \"coordinates\": [-99.11166191...</td>\n",
       "      <td>5</td>\n",
       "      <td>19.38632392</td>\n",
       "      <td>-99.1116619153</td>\n",
       "    </tr>\n",
       "    <tr>\n",
       "      <th>1</th>\n",
       "      <td>2017-08-22 15:00:00</td>\n",
       "      <td>-99.111824</td>\n",
       "      <td>19.387331</td>\n",
       "      <td>ROBO A TRANSEUNTE DE CELULAR CON VIOLENCIA</td>\n",
       "      <td>Colegio de Bachilleres</td>\n",
       "      <td>19.38632392,-99.1116619153</td>\n",
       "      <td>{\"type\": \"Point\", \"coordinates\": [-99.11166191...</td>\n",
       "      <td>5</td>\n",
       "      <td>19.38632392</td>\n",
       "      <td>-99.1116619153</td>\n",
       "    </tr>\n",
       "    <tr>\n",
       "      <th>2</th>\n",
       "      <td>2017-09-12 20:55:00</td>\n",
       "      <td>-99.111670</td>\n",
       "      <td>19.386555</td>\n",
       "      <td>ROBO A TRANSEUNTE DE CELULAR CON VIOLENCIA</td>\n",
       "      <td>Colegio de Bachilleres</td>\n",
       "      <td>19.38632392,-99.1116619153</td>\n",
       "      <td>{\"type\": \"Point\", \"coordinates\": [-99.11166191...</td>\n",
       "      <td>5</td>\n",
       "      <td>19.38632392</td>\n",
       "      <td>-99.1116619153</td>\n",
       "    </tr>\n",
       "  </tbody>\n",
       "</table>\n",
       "</div>"
      ],
      "text/plain": [
       "          fecha_hechos   longitud    latitud  \\\n",
       "0  2018-05-21 20:40:00 -99.111563  19.386594   \n",
       "1  2017-08-22 15:00:00 -99.111824  19.387331   \n",
       "2  2017-09-12 20:55:00 -99.111670  19.386555   \n",
       "\n",
       "                                       delito                  nombre  \\\n",
       "0  ROBO A TRANSEUNTE DE CELULAR CON VIOLENCIA  Colegio de Bachilleres   \n",
       "1  ROBO A TRANSEUNTE DE CELULAR CON VIOLENCIA  Colegio de Bachilleres   \n",
       "2  ROBO A TRANSEUNTE DE CELULAR CON VIOLENCIA  Colegio de Bachilleres   \n",
       "\n",
       "                    Geo Point  \\\n",
       "0  19.38632392,-99.1116619153   \n",
       "1  19.38632392,-99.1116619153   \n",
       "2  19.38632392,-99.1116619153   \n",
       "\n",
       "                                           Geo Shape  linea   latitud_mb  \\\n",
       "0  {\"type\": \"Point\", \"coordinates\": [-99.11166191...      5  19.38632392   \n",
       "1  {\"type\": \"Point\", \"coordinates\": [-99.11166191...      5  19.38632392   \n",
       "2  {\"type\": \"Point\", \"coordinates\": [-99.11166191...      5  19.38632392   \n",
       "\n",
       "      longitud_mb  \n",
       "0  -99.1116619153  \n",
       "1  -99.1116619153  \n",
       "2  -99.1116619153  "
      ]
     },
     "execution_count": 97,
     "metadata": {},
     "output_type": "execute_result"
    }
   ],
   "source": [
    "df['latitud_mb'] = df['Geo Point'].apply(lambda x: x.split(',')[0])\n",
    "df['longitud_mb'] = df['Geo Point'].apply(lambda x: x.split(',')[1])\n",
    "df.head(3)"
   ]
  },
  {
   "cell_type": "code",
   "execution_count": 98,
   "metadata": {},
   "outputs": [
    {
     "data": {
      "text/html": [
       "<div>\n",
       "<style scoped>\n",
       "    .dataframe tbody tr th:only-of-type {\n",
       "        vertical-align: middle;\n",
       "    }\n",
       "\n",
       "    .dataframe tbody tr th {\n",
       "        vertical-align: top;\n",
       "    }\n",
       "\n",
       "    .dataframe thead th {\n",
       "        text-align: right;\n",
       "    }\n",
       "</style>\n",
       "<table border=\"1\" class=\"dataframe\">\n",
       "  <thead>\n",
       "    <tr style=\"text-align: right;\">\n",
       "      <th></th>\n",
       "      <th>fecha_hechos</th>\n",
       "      <th>longitud</th>\n",
       "      <th>latitud</th>\n",
       "      <th>delito</th>\n",
       "      <th>latitud_mb</th>\n",
       "      <th>longitud_mb</th>\n",
       "    </tr>\n",
       "  </thead>\n",
       "  <tbody>\n",
       "    <tr>\n",
       "      <th>0</th>\n",
       "      <td>2018-05-21 20:40:00</td>\n",
       "      <td>-99.111563</td>\n",
       "      <td>19.386594</td>\n",
       "      <td>ROBO A TRANSEUNTE DE CELULAR CON VIOLENCIA</td>\n",
       "      <td>19.38632392</td>\n",
       "      <td>-99.1116619153</td>\n",
       "    </tr>\n",
       "    <tr>\n",
       "      <th>1</th>\n",
       "      <td>2017-08-22 15:00:00</td>\n",
       "      <td>-99.111824</td>\n",
       "      <td>19.387331</td>\n",
       "      <td>ROBO A TRANSEUNTE DE CELULAR CON VIOLENCIA</td>\n",
       "      <td>19.38632392</td>\n",
       "      <td>-99.1116619153</td>\n",
       "    </tr>\n",
       "    <tr>\n",
       "      <th>2</th>\n",
       "      <td>2017-09-12 20:55:00</td>\n",
       "      <td>-99.111670</td>\n",
       "      <td>19.386555</td>\n",
       "      <td>ROBO A TRANSEUNTE DE CELULAR CON VIOLENCIA</td>\n",
       "      <td>19.38632392</td>\n",
       "      <td>-99.1116619153</td>\n",
       "    </tr>\n",
       "  </tbody>\n",
       "</table>\n",
       "</div>"
      ],
      "text/plain": [
       "          fecha_hechos   longitud    latitud  \\\n",
       "0  2018-05-21 20:40:00 -99.111563  19.386594   \n",
       "1  2017-08-22 15:00:00 -99.111824  19.387331   \n",
       "2  2017-09-12 20:55:00 -99.111670  19.386555   \n",
       "\n",
       "                                       delito   latitud_mb     longitud_mb  \n",
       "0  ROBO A TRANSEUNTE DE CELULAR CON VIOLENCIA  19.38632392  -99.1116619153  \n",
       "1  ROBO A TRANSEUNTE DE CELULAR CON VIOLENCIA  19.38632392  -99.1116619153  \n",
       "2  ROBO A TRANSEUNTE DE CELULAR CON VIOLENCIA  19.38632392  -99.1116619153  "
      ]
     },
     "execution_count": 98,
     "metadata": {},
     "output_type": "execute_result"
    }
   ],
   "source": [
    "df = df.drop(columns=['Geo Shape', 'nombre', 'Geo Point', 'linea'])\n",
    "df.head(3)"
   ]
  },
  {
   "cell_type": "markdown",
   "metadata": {},
   "source": [
    "## Pre-processing"
   ]
  },
  {
   "cell_type": "code",
   "execution_count": 99,
   "metadata": {},
   "outputs": [],
   "source": [
    "# Setting GLOBAL var: other_dic \n",
    "# Keeps track of all the list of non_significant categories\n",
    "other_dic = {}"
   ]
  },
  {
   "cell_type": "code",
   "execution_count": 100,
   "metadata": {},
   "outputs": [],
   "source": [
    "# Function taken from the following resource [URL]: \n",
    "# https://stackoverflow.com/questions/18016495/get-subset-of-most-frequent-dummy-variables-in-pandas\n",
    "def dummy_best(dummy_col, threshold=0.0001):\n",
    "        '''\n",
    "            Function return a dummifed dataframe of significant dummies\n",
    "            in a given column\n",
    "        '''\n",
    "        dummy_columns = dummy_col.copy()\n",
    "        # What is the ratio of a dummy in whole column\n",
    "        count = pd.value_counts(dummy_columns) / len(dummy_columns)\n",
    "        # filtering based on the ratios according to a threshold\n",
    "        mask = dummy_columns.isin(count[count>threshold].index)\n",
    "        # replace the ones which ratio is lower than the threshold \n",
    "        other_dic[dummy_columns.name] = list(dummy_columns[~mask])\n",
    "        dummy_columns[~mask] = 'others'\n",
    "        return pd.get_dummies(dummy_columns, prefix=dummy_columns.name)    "
   ]
  },
  {
   "cell_type": "code",
   "execution_count": 101,
   "metadata": {},
   "outputs": [],
   "source": [
    "def data_merger(main_df, features):\n",
    "    merged_df = main_df.copy()\n",
    "    for element in features:\n",
    "        merged_df = pd.concat([merged_df, dummy_best(main_df[element])], axis=1)\n",
    "    return merged_df"
   ]
  },
  {
   "cell_type": "code",
   "execution_count": 102,
   "metadata": {},
   "outputs": [
    {
     "data": {
      "text/plain": [
       "ROBO DE OBJETOS                                                0.189486\n",
       "ROBO A NEGOCIO SIN VIOLENCIA                                   0.169807\n",
       "ROBO A TRANSEUNTE DE CELULAR SIN VIOLENCIA                     0.147613\n",
       "ROBO A TRANSEUNTE DE CELULAR CON VIOLENCIA                     0.110366\n",
       "ROBO DE ACCESORIOS DE AUTO                                     0.090385\n",
       "ROBO DE OBJETOS DEL INTERIOR DE UN VEHICULO                    0.071812\n",
       "ROBO A CASA HABITACION SIN VIOLENCIA                           0.041974\n",
       "ROBO DE VEHICULO DE PEDALES                                    0.033257\n",
       "ROBO A PASAJERO A BORDO DE METROBUS SIN VIOLENCIA              0.030844\n",
       "ROBO A PASAJERO / CONDUCTOR DE VEHICULO CON VIOLENCIA          0.025479\n",
       "ROBO DE DINERO                                                 0.016159\n",
       "ROBO DE DOCUMENTOS                                             0.015355\n",
       "ROBO A PASAJERO A BORDO DE TRANSPORTE PÚBLICO CON VIOLENCIA    0.012874\n",
       "ROBO A PASAJERO A BORDO DE PESERO COLECTIVO CON VIOLENCIA      0.010125\n",
       "ROBO DE PLACA DE AUTOMOVIL                                     0.005264\n",
       "ROBO DE OBJETOS A ESCUELA                                      0.003654\n",
       "ROBO A TRANSEUNTE EN NEGOCIO CON VIOLENCIA                     0.003487\n",
       "ROBO A PASAJERO A BORDO DE METROBUS CON VIOLENCIA              0.002950\n",
       "ROBO A PASAJERO A BORDO DE TRANSPORTE PÚBLICO SIN VIOLENCIA    0.002481\n",
       "ROBO A PASAJERO / CONDUCTOR DE TAXI CON VIOLENCIA              0.002447\n",
       "ROBO A PASAJERO A BORDO DE TAXI SIN VIOLENCIA                  0.002313\n",
       "ROBO DE ARMA                                                   0.001576\n",
       "ROBO A OFICINA PÚBLICA SIN VIOLENCIA                           0.001442\n",
       "ROBO A PASAJERO A BORDO DE PESERO COLECTIVO SIN VIOLENCIA      0.001106\n",
       "ROBO DE ANIMALES                                               0.001106\n",
       "ROBO A TRANSEUNTE EN RESTAURANT CON VIOLENCIA                  0.001106\n",
       "ROBO A TRANSEUNTE EN PARQUES Y MERCADOS CON VIOLENCIA          0.000872\n",
       "ROBO A PASAJERO EN TROLEBUS SIN VIOLENCIA                      0.000671\n",
       "ROBO A PASAJERO EN TREN SUBURBANO SIN VIOLENCIA                0.000637\n",
       "ROBO DE ALHAJAS                                                0.000637\n",
       "ROBO DE FLUIDOS                                                0.000503\n",
       "ROBO A PASAJERO EN ECOBUS SIN VIOLENCIA                        0.000302\n",
       "ROBO A PASAJERO EN TROLEBUS CON VIOLENCIA                      0.000268\n",
       "ROBO A TRANSEUNTE EN HOTEL CON VIOLENCIA                       0.000235\n",
       "ROBO A NEGOCIO Y VEHICULO SIN VIOLENCIA                        0.000235\n",
       "ROBO A CASA HABITACION Y VEHICULO SIN VIOLENCIA                0.000235\n",
       "ROBO A PASAJERO EN RTP CON VIOLENCIA                           0.000201\n",
       "ROBO A PASAJERO EN TREN LIGERO SIN VIOLENCIA                   0.000101\n",
       "ROBO A PASAJERO EN TREN SUBURBANO CON VIOLENCIA                0.000101\n",
       "ROBO EN INTERIOR DE EMPRESA (NOMINA) SIN VIOLENCIA             0.000101\n",
       "ROBO A SUCURSAL BANCARIA (SUPERMERCADO) SIN VIOLENCIA          0.000101\n",
       "ROBO A PASAJERO EN ECOBUS CON VIOLENCIA                        0.000067\n",
       "ROBO A TRANSEUNTE Y VEHICULO CON VIOLENCIA                     0.000067\n",
       "ROBO A TRANSEUNTE EN TERMINAL DE PASAJEROS CON VIOLENCIA       0.000067\n",
       "ROBO A PASAJERO A BORDO DE PESERO Y VEHICULO CON VIOLENCIA     0.000034\n",
       "ROBO A PASAJERO EN RTP SIN VIOLENCIA                           0.000034\n",
       "ROBO A TRANSEUNTE EN CINE CON VIOLENCIA                        0.000034\n",
       "ROBO A PASAJERO EN AUTOBÚS FORÁNEO CON VIOLENCIA               0.000034\n",
       "Name: delito, dtype: float64"
      ]
     },
     "execution_count": 102,
     "metadata": {},
     "output_type": "execute_result"
    }
   ],
   "source": [
    "df['delito'].value_counts(normalize=True)"
   ]
  },
  {
   "cell_type": "code",
   "execution_count": 103,
   "metadata": {},
   "outputs": [],
   "source": [
    "def significance_filter(zip_element):\n",
    "    significant = []\n",
    "    not_significant = []\n",
    "    for i in zip_element:\n",
    "        if i[1] >=.1:\n",
    "            significant.append(i[0])\n",
    "        else:\n",
    "            not_significant.append(i[0])\n",
    "    return significant, not_significant"
   ]
  },
  {
   "cell_type": "code",
   "execution_count": 104,
   "metadata": {},
   "outputs": [
    {
     "data": {
      "text/plain": [
       "(29828, 6)"
      ]
     },
     "execution_count": 104,
     "metadata": {},
     "output_type": "execute_result"
    }
   ],
   "source": [
    "df.shape"
   ]
  },
  {
   "cell_type": "code",
   "execution_count": 105,
   "metadata": {},
   "outputs": [],
   "source": [
    "count = pd.value_counts(df['delito']) / len(df['delito'])\n",
    "sig, n_sig = significance_filter(list(zip(count.index.values, count)))"
   ]
  },
  {
   "cell_type": "code",
   "execution_count": 106,
   "metadata": {},
   "outputs": [
    {
     "data": {
      "text/plain": [
       "(18412, 6)"
      ]
     },
     "execution_count": 106,
     "metadata": {},
     "output_type": "execute_result"
    }
   ],
   "source": [
    "df['delito'] = df['delito'].apply(lambda x: None if x in n_sig else x)\n",
    "df = df.dropna()\n",
    "df.shape"
   ]
  },
  {
   "cell_type": "code",
   "execution_count": 107,
   "metadata": {},
   "outputs": [],
   "source": [
    "# Label Ecoder for any feature with imporance of order\n",
    "# based of the percentage of presence of category in column.\n",
    "def feature_encoder(zip_element, var_dict):\n",
    "    val_econded = len(zip_element)\n",
    "    for i in zip_element:\n",
    "        var_dict[i[0]] = val_econded\n",
    "        val_econded -= 1"
   ]
  },
  {
   "cell_type": "code",
   "execution_count": 108,
   "metadata": {},
   "outputs": [
    {
     "data": {
      "text/plain": [
       "ROBO DE OBJETOS                               0.306974\n",
       "ROBO A NEGOCIO SIN VIOLENCIA                  0.275092\n",
       "ROBO A TRANSEUNTE DE CELULAR SIN VIOLENCIA    0.239138\n",
       "ROBO A TRANSEUNTE DE CELULAR CON VIOLENCIA    0.178796\n",
       "Name: delito, dtype: float64"
      ]
     },
     "execution_count": 108,
     "metadata": {},
     "output_type": "execute_result"
    }
   ],
   "source": [
    "df['delito'].value_counts(normalize=True)"
   ]
  },
  {
   "cell_type": "code",
   "execution_count": 109,
   "metadata": {},
   "outputs": [
    {
     "data": {
      "text/plain": [
       "(13347, 6)"
      ]
     },
     "execution_count": 109,
     "metadata": {},
     "output_type": "execute_result"
    }
   ],
   "source": [
    "# Fruther cleaning filtering\n",
    "df['delito'] = df['delito'].apply(lambda x: None if x in ['ROBO A NEGOCIO SIN VIOLENCIA','ROBO DE ACCESORIOS DE AUTO'] else x)\n",
    "df = df.dropna()\n",
    "df.shape"
   ]
  },
  {
   "cell_type": "code",
   "execution_count": 110,
   "metadata": {},
   "outputs": [
    {
     "data": {
      "text/plain": [
       "[('ROBO DE OBJETOS', 0.42346594740391097),\n",
       " ('ROBO A TRANSEUNTE DE CELULAR SIN VIOLENCIA', 0.32988686596238853),\n",
       " ('ROBO A TRANSEUNTE DE CELULAR CON VIOLENCIA', 0.24664718663370044)]"
      ]
     },
     "execution_count": 110,
     "metadata": {},
     "output_type": "execute_result"
    }
   ],
   "source": [
    "count = pd.value_counts(df['delito']) / len(df['delito'])\n",
    "list(zip(count.index.values, count))"
   ]
  },
  {
   "cell_type": "code",
   "execution_count": 111,
   "metadata": {},
   "outputs": [
    {
     "data": {
      "text/plain": [
       "{'ROBO DE OBJETOS': 3,\n",
       " 'ROBO A TRANSEUNTE DE CELULAR SIN VIOLENCIA': 2,\n",
       " 'ROBO A TRANSEUNTE DE CELULAR CON VIOLENCIA': 1}"
      ]
     },
     "execution_count": 111,
     "metadata": {},
     "output_type": "execute_result"
    }
   ],
   "source": [
    "encoder_robo_dict = {}\n",
    "feature_encoder((list(zip(count.index.values, count))), encoder_robo_dict)\n",
    "encoder_robo_dict"
   ]
  },
  {
   "cell_type": "code",
   "execution_count": 112,
   "metadata": {},
   "outputs": [],
   "source": [
    "df['delito_enco'] = df['delito'].apply(lambda x: encoder_robo_dict[x]).copy()"
   ]
  },
  {
   "cell_type": "code",
   "execution_count": 113,
   "metadata": {},
   "outputs": [
    {
     "data": {
      "text/plain": [
       "ROBO DE OBJETOS                               0.423466\n",
       "ROBO A TRANSEUNTE DE CELULAR SIN VIOLENCIA    0.329887\n",
       "ROBO A TRANSEUNTE DE CELULAR CON VIOLENCIA    0.246647\n",
       "Name: delito, dtype: float64"
      ]
     },
     "execution_count": 113,
     "metadata": {},
     "output_type": "execute_result"
    }
   ],
   "source": [
    "df['delito'].value_counts(normalize=True)"
   ]
  },
  {
   "cell_type": "code",
   "execution_count": 114,
   "metadata": {},
   "outputs": [],
   "source": [
    "df = df.drop(columns=['delito', 'fecha_hechos'])"
   ]
  },
  {
   "cell_type": "code",
   "execution_count": 115,
   "metadata": {},
   "outputs": [
    {
     "data": {
      "text/html": [
       "<div>\n",
       "<style scoped>\n",
       "    .dataframe tbody tr th:only-of-type {\n",
       "        vertical-align: middle;\n",
       "    }\n",
       "\n",
       "    .dataframe tbody tr th {\n",
       "        vertical-align: top;\n",
       "    }\n",
       "\n",
       "    .dataframe thead th {\n",
       "        text-align: right;\n",
       "    }\n",
       "</style>\n",
       "<table border=\"1\" class=\"dataframe\">\n",
       "  <thead>\n",
       "    <tr style=\"text-align: right;\">\n",
       "      <th></th>\n",
       "      <th>longitud</th>\n",
       "      <th>latitud</th>\n",
       "      <th>latitud_mb</th>\n",
       "      <th>longitud_mb</th>\n",
       "      <th>delito_enco</th>\n",
       "    </tr>\n",
       "  </thead>\n",
       "  <tbody>\n",
       "    <tr>\n",
       "      <th>0</th>\n",
       "      <td>-99.111563</td>\n",
       "      <td>19.386594</td>\n",
       "      <td>19.38632392</td>\n",
       "      <td>-99.1116619153</td>\n",
       "      <td>1</td>\n",
       "    </tr>\n",
       "    <tr>\n",
       "      <th>1</th>\n",
       "      <td>-99.111824</td>\n",
       "      <td>19.387331</td>\n",
       "      <td>19.38632392</td>\n",
       "      <td>-99.1116619153</td>\n",
       "      <td>1</td>\n",
       "    </tr>\n",
       "    <tr>\n",
       "      <th>2</th>\n",
       "      <td>-99.111670</td>\n",
       "      <td>19.386555</td>\n",
       "      <td>19.38632392</td>\n",
       "      <td>-99.1116619153</td>\n",
       "      <td>1</td>\n",
       "    </tr>\n",
       "    <tr>\n",
       "      <th>3</th>\n",
       "      <td>-99.112752</td>\n",
       "      <td>19.386661</td>\n",
       "      <td>19.38632392</td>\n",
       "      <td>-99.1116619153</td>\n",
       "      <td>1</td>\n",
       "    </tr>\n",
       "    <tr>\n",
       "      <th>4</th>\n",
       "      <td>-99.113661</td>\n",
       "      <td>19.386001</td>\n",
       "      <td>19.38632392</td>\n",
       "      <td>-99.1116619153</td>\n",
       "      <td>1</td>\n",
       "    </tr>\n",
       "  </tbody>\n",
       "</table>\n",
       "</div>"
      ],
      "text/plain": [
       "    longitud    latitud   latitud_mb     longitud_mb  delito_enco\n",
       "0 -99.111563  19.386594  19.38632392  -99.1116619153            1\n",
       "1 -99.111824  19.387331  19.38632392  -99.1116619153            1\n",
       "2 -99.111670  19.386555  19.38632392  -99.1116619153            1\n",
       "3 -99.112752  19.386661  19.38632392  -99.1116619153            1\n",
       "4 -99.113661  19.386001  19.38632392  -99.1116619153            1"
      ]
     },
     "execution_count": 115,
     "metadata": {},
     "output_type": "execute_result"
    }
   ],
   "source": [
    "df.head()"
   ]
  },
  {
   "cell_type": "markdown",
   "metadata": {},
   "source": [
    "### K-means"
   ]
  },
  {
   "cell_type": "code",
   "execution_count": 116,
   "metadata": {},
   "outputs": [],
   "source": [
    "X = df.drop(columns=['delito_enco'])\n",
    "y = df['delito_enco']\n",
    "X_train, X_test, y_train, y_test = train_test_split(X, y, random_state=42, stratify=y)"
   ]
  },
  {
   "cell_type": "code",
   "execution_count": 161,
   "metadata": {},
   "outputs": [],
   "source": [
    "coords = np.vstack((X_train[['latitud', 'longitud']].values,\n",
    "                    X_train[['latitud_mb', 'longitud_mb']].values,\n",
    "                    X_test[['latitud', 'longitud']].values,\n",
    "                    X_test[['latitud_mb', 'longitud_mb']].values))\n",
    "sample_ind = np.random.permutation(len(coords))[:500000]\n",
    "kmeans = MiniBatchKMeans(n_clusters=100, batch_size=10000).fit(coords[sample_ind])"
   ]
  },
  {
   "cell_type": "code",
   "execution_count": 162,
   "metadata": {},
   "outputs": [
    {
     "name": "stderr",
     "output_type": "stream",
     "text": [
      "/usr/local/anaconda3/lib/python3.8/site-packages/pandas/core/indexing.py:966: SettingWithCopyWarning: \n",
      "A value is trying to be set on a copy of a slice from a DataFrame.\n",
      "Try using .loc[row_indexer,col_indexer] = value instead\n",
      "\n",
      "See the caveats in the documentation: https://pandas.pydata.org/pandas-docs/stable/user_guide/indexing.html#returning-a-view-versus-a-copy\n",
      "  self.obj[item] = s\n",
      "/usr/local/anaconda3/lib/python3.8/site-packages/pandas/core/indexing.py:966: SettingWithCopyWarning: \n",
      "A value is trying to be set on a copy of a slice from a DataFrame.\n",
      "Try using .loc[row_indexer,col_indexer] = value instead\n",
      "\n",
      "See the caveats in the documentation: https://pandas.pydata.org/pandas-docs/stable/user_guide/indexing.html#returning-a-view-versus-a-copy\n",
      "  self.obj[item] = s\n",
      "/usr/local/anaconda3/lib/python3.8/site-packages/pandas/core/indexing.py:966: SettingWithCopyWarning: \n",
      "A value is trying to be set on a copy of a slice from a DataFrame.\n",
      "Try using .loc[row_indexer,col_indexer] = value instead\n",
      "\n",
      "See the caveats in the documentation: https://pandas.pydata.org/pandas-docs/stable/user_guide/indexing.html#returning-a-view-versus-a-copy\n",
      "  self.obj[item] = s\n",
      "/usr/local/anaconda3/lib/python3.8/site-packages/pandas/core/indexing.py:966: SettingWithCopyWarning: \n",
      "A value is trying to be set on a copy of a slice from a DataFrame.\n",
      "Try using .loc[row_indexer,col_indexer] = value instead\n",
      "\n",
      "See the caveats in the documentation: https://pandas.pydata.org/pandas-docs/stable/user_guide/indexing.html#returning-a-view-versus-a-copy\n",
      "  self.obj[item] = s\n"
     ]
    }
   ],
   "source": [
    "X_train.loc[:, 'la_c'] = kmeans.predict(X_train[['latitud', 'longitud']])\n",
    "X_train.loc[:, 'lon_c'] = kmeans.predict(X_train[['latitud_mb', 'longitud_mb']])\n",
    "X_test.loc[:, 'la_c'] = kmeans.predict(X_test[['latitud', 'longitud']])\n",
    "X_test.loc[:, 'lon_c'] = kmeans.predict(X_test[['latitud_mb', 'longitud_mb']])"
   ]
  },
  {
   "cell_type": "code",
   "execution_count": 163,
   "metadata": {},
   "outputs": [
    {
     "data": {
      "text/html": [
       "<div>\n",
       "<style scoped>\n",
       "    .dataframe tbody tr th:only-of-type {\n",
       "        vertical-align: middle;\n",
       "    }\n",
       "\n",
       "    .dataframe tbody tr th {\n",
       "        vertical-align: top;\n",
       "    }\n",
       "\n",
       "    .dataframe thead th {\n",
       "        text-align: right;\n",
       "    }\n",
       "</style>\n",
       "<table border=\"1\" class=\"dataframe\">\n",
       "  <thead>\n",
       "    <tr style=\"text-align: right;\">\n",
       "      <th></th>\n",
       "      <th>longitud</th>\n",
       "      <th>latitud</th>\n",
       "      <th>latitud_mb</th>\n",
       "      <th>longitud_mb</th>\n",
       "      <th>la_c</th>\n",
       "      <th>lon_c</th>\n",
       "    </tr>\n",
       "  </thead>\n",
       "  <tbody>\n",
       "    <tr>\n",
       "      <th>5984</th>\n",
       "      <td>-99.113681</td>\n",
       "      <td>19.419295</td>\n",
       "      <td>19.4183741045</td>\n",
       "      <td>-99.1122187196</td>\n",
       "      <td>89</td>\n",
       "      <td>89</td>\n",
       "    </tr>\n",
       "    <tr>\n",
       "      <th>18661</th>\n",
       "      <td>-99.147815</td>\n",
       "      <td>19.438779</td>\n",
       "      <td>19.4360208606</td>\n",
       "      <td>-99.147228265</td>\n",
       "      <td>3</td>\n",
       "      <td>3</td>\n",
       "    </tr>\n",
       "    <tr>\n",
       "      <th>20473</th>\n",
       "      <td>-99.110410</td>\n",
       "      <td>19.381415</td>\n",
       "      <td>19.3828869839</td>\n",
       "      <td>-99.1108887675</td>\n",
       "      <td>56</td>\n",
       "      <td>56</td>\n",
       "    </tr>\n",
       "    <tr>\n",
       "      <th>27860</th>\n",
       "      <td>-99.162306</td>\n",
       "      <td>19.519108</td>\n",
       "      <td>19.5196884339</td>\n",
       "      <td>-99.1637719724</td>\n",
       "      <td>99</td>\n",
       "      <td>99</td>\n",
       "    </tr>\n",
       "    <tr>\n",
       "      <th>27347</th>\n",
       "      <td>-99.094937</td>\n",
       "      <td>19.477645</td>\n",
       "      <td>19.4769982194</td>\n",
       "      <td>-99.0948748843</td>\n",
       "      <td>1</td>\n",
       "      <td>1</td>\n",
       "    </tr>\n",
       "  </tbody>\n",
       "</table>\n",
       "</div>"
      ],
      "text/plain": [
       "        longitud    latitud     latitud_mb     longitud_mb  la_c  lon_c\n",
       "5984  -99.113681  19.419295  19.4183741045  -99.1122187196    89     89\n",
       "18661 -99.147815  19.438779  19.4360208606   -99.147228265     3      3\n",
       "20473 -99.110410  19.381415  19.3828869839  -99.1108887675    56     56\n",
       "27860 -99.162306  19.519108  19.5196884339  -99.1637719724    99     99\n",
       "27347 -99.094937  19.477645  19.4769982194  -99.0948748843     1      1"
      ]
     },
     "execution_count": 163,
     "metadata": {},
     "output_type": "execute_result"
    }
   ],
   "source": [
    "X_train.head()"
   ]
  },
  {
   "cell_type": "code",
   "execution_count": 164,
   "metadata": {},
   "outputs": [
    {
     "data": {
      "text/html": [
       "<div>\n",
       "<style scoped>\n",
       "    .dataframe tbody tr th:only-of-type {\n",
       "        vertical-align: middle;\n",
       "    }\n",
       "\n",
       "    .dataframe tbody tr th {\n",
       "        vertical-align: top;\n",
       "    }\n",
       "\n",
       "    .dataframe thead th {\n",
       "        text-align: right;\n",
       "    }\n",
       "</style>\n",
       "<table border=\"1\" class=\"dataframe\">\n",
       "  <thead>\n",
       "    <tr style=\"text-align: right;\">\n",
       "      <th></th>\n",
       "      <th>longitud</th>\n",
       "      <th>latitud</th>\n",
       "      <th>latitud_mb</th>\n",
       "      <th>longitud_mb</th>\n",
       "      <th>la_c</th>\n",
       "      <th>lon_c</th>\n",
       "    </tr>\n",
       "  </thead>\n",
       "  <tbody>\n",
       "    <tr>\n",
       "      <th>0</th>\n",
       "      <td>-99.111563</td>\n",
       "      <td>19.386594</td>\n",
       "      <td>19.38632392</td>\n",
       "      <td>-99.1116619153</td>\n",
       "      <td>56</td>\n",
       "      <td>56</td>\n",
       "    </tr>\n",
       "    <tr>\n",
       "      <th>2</th>\n",
       "      <td>-99.111670</td>\n",
       "      <td>19.386555</td>\n",
       "      <td>19.38632392</td>\n",
       "      <td>-99.1116619153</td>\n",
       "      <td>56</td>\n",
       "      <td>56</td>\n",
       "    </tr>\n",
       "    <tr>\n",
       "      <th>3</th>\n",
       "      <td>-99.112752</td>\n",
       "      <td>19.386661</td>\n",
       "      <td>19.38632392</td>\n",
       "      <td>-99.1116619153</td>\n",
       "      <td>56</td>\n",
       "      <td>56</td>\n",
       "    </tr>\n",
       "    <tr>\n",
       "      <th>5</th>\n",
       "      <td>-99.113596</td>\n",
       "      <td>19.386798</td>\n",
       "      <td>19.38632392</td>\n",
       "      <td>-99.1116619153</td>\n",
       "      <td>56</td>\n",
       "      <td>56</td>\n",
       "    </tr>\n",
       "    <tr>\n",
       "      <th>7</th>\n",
       "      <td>-99.111478</td>\n",
       "      <td>19.386590</td>\n",
       "      <td>19.38632392</td>\n",
       "      <td>-99.1116619153</td>\n",
       "      <td>56</td>\n",
       "      <td>56</td>\n",
       "    </tr>\n",
       "    <tr>\n",
       "      <th>...</th>\n",
       "      <td>...</td>\n",
       "      <td>...</td>\n",
       "      <td>...</td>\n",
       "      <td>...</td>\n",
       "      <td>...</td>\n",
       "      <td>...</td>\n",
       "    </tr>\n",
       "    <tr>\n",
       "      <th>29805</th>\n",
       "      <td>-99.152312</td>\n",
       "      <td>19.463312</td>\n",
       "      <td>19.4630960371</td>\n",
       "      <td>-99.1526627713</td>\n",
       "      <td>94</td>\n",
       "      <td>94</td>\n",
       "    </tr>\n",
       "    <tr>\n",
       "      <th>29808</th>\n",
       "      <td>-99.150763</td>\n",
       "      <td>19.465095</td>\n",
       "      <td>19.4630960371</td>\n",
       "      <td>-99.1526627713</td>\n",
       "      <td>94</td>\n",
       "      <td>94</td>\n",
       "    </tr>\n",
       "    <tr>\n",
       "      <th>29810</th>\n",
       "      <td>-99.150412</td>\n",
       "      <td>19.462736</td>\n",
       "      <td>19.4630960371</td>\n",
       "      <td>-99.1526627713</td>\n",
       "      <td>94</td>\n",
       "      <td>94</td>\n",
       "    </tr>\n",
       "    <tr>\n",
       "      <th>29814</th>\n",
       "      <td>-99.191824</td>\n",
       "      <td>19.508668</td>\n",
       "      <td>19.5109448168</td>\n",
       "      <td>-99.1926053403</td>\n",
       "      <td>15</td>\n",
       "      <td>15</td>\n",
       "    </tr>\n",
       "    <tr>\n",
       "      <th>29821</th>\n",
       "      <td>-99.153044</td>\n",
       "      <td>19.498506</td>\n",
       "      <td>19.4974873647</td>\n",
       "      <td>-99.1552088596</td>\n",
       "      <td>67</td>\n",
       "      <td>67</td>\n",
       "    </tr>\n",
       "  </tbody>\n",
       "</table>\n",
       "<p>10010 rows × 6 columns</p>\n",
       "</div>"
      ],
      "text/plain": [
       "        longitud    latitud     latitud_mb     longitud_mb  la_c  lon_c\n",
       "0     -99.111563  19.386594    19.38632392  -99.1116619153    56     56\n",
       "2     -99.111670  19.386555    19.38632392  -99.1116619153    56     56\n",
       "3     -99.112752  19.386661    19.38632392  -99.1116619153    56     56\n",
       "5     -99.113596  19.386798    19.38632392  -99.1116619153    56     56\n",
       "7     -99.111478  19.386590    19.38632392  -99.1116619153    56     56\n",
       "...          ...        ...            ...             ...   ...    ...\n",
       "29805 -99.152312  19.463312  19.4630960371  -99.1526627713    94     94\n",
       "29808 -99.150763  19.465095  19.4630960371  -99.1526627713    94     94\n",
       "29810 -99.150412  19.462736  19.4630960371  -99.1526627713    94     94\n",
       "29814 -99.191824  19.508668  19.5109448168  -99.1926053403    15     15\n",
       "29821 -99.153044  19.498506  19.4974873647  -99.1552088596    67     67\n",
       "\n",
       "[10010 rows x 6 columns]"
      ]
     },
     "execution_count": 164,
     "metadata": {},
     "output_type": "execute_result"
    }
   ],
   "source": [
    "X_train.sort_index()"
   ]
  },
  {
   "cell_type": "code",
   "execution_count": 165,
   "metadata": {},
   "outputs": [
    {
     "data": {
      "text/html": [
       "<div>\n",
       "<style scoped>\n",
       "    .dataframe tbody tr th:only-of-type {\n",
       "        vertical-align: middle;\n",
       "    }\n",
       "\n",
       "    .dataframe tbody tr th {\n",
       "        vertical-align: top;\n",
       "    }\n",
       "\n",
       "    .dataframe thead th {\n",
       "        text-align: right;\n",
       "    }\n",
       "</style>\n",
       "<table border=\"1\" class=\"dataframe\">\n",
       "  <thead>\n",
       "    <tr style=\"text-align: right;\">\n",
       "      <th></th>\n",
       "      <th>longitud</th>\n",
       "      <th>latitud</th>\n",
       "      <th>latitud_mb</th>\n",
       "      <th>longitud_mb</th>\n",
       "      <th>delito_enco</th>\n",
       "    </tr>\n",
       "  </thead>\n",
       "  <tbody>\n",
       "    <tr>\n",
       "      <th>0</th>\n",
       "      <td>-99.111563</td>\n",
       "      <td>19.386594</td>\n",
       "      <td>19.38632392</td>\n",
       "      <td>-99.1116619153</td>\n",
       "      <td>1</td>\n",
       "    </tr>\n",
       "    <tr>\n",
       "      <th>1</th>\n",
       "      <td>-99.111824</td>\n",
       "      <td>19.387331</td>\n",
       "      <td>19.38632392</td>\n",
       "      <td>-99.1116619153</td>\n",
       "      <td>1</td>\n",
       "    </tr>\n",
       "    <tr>\n",
       "      <th>2</th>\n",
       "      <td>-99.111670</td>\n",
       "      <td>19.386555</td>\n",
       "      <td>19.38632392</td>\n",
       "      <td>-99.1116619153</td>\n",
       "      <td>1</td>\n",
       "    </tr>\n",
       "    <tr>\n",
       "      <th>3</th>\n",
       "      <td>-99.112752</td>\n",
       "      <td>19.386661</td>\n",
       "      <td>19.38632392</td>\n",
       "      <td>-99.1116619153</td>\n",
       "      <td>1</td>\n",
       "    </tr>\n",
       "    <tr>\n",
       "      <th>4</th>\n",
       "      <td>-99.113661</td>\n",
       "      <td>19.386001</td>\n",
       "      <td>19.38632392</td>\n",
       "      <td>-99.1116619153</td>\n",
       "      <td>1</td>\n",
       "    </tr>\n",
       "  </tbody>\n",
       "</table>\n",
       "</div>"
      ],
      "text/plain": [
       "    longitud    latitud   latitud_mb     longitud_mb  delito_enco\n",
       "0 -99.111563  19.386594  19.38632392  -99.1116619153            1\n",
       "1 -99.111824  19.387331  19.38632392  -99.1116619153            1\n",
       "2 -99.111670  19.386555  19.38632392  -99.1116619153            1\n",
       "3 -99.112752  19.386661  19.38632392  -99.1116619153            1\n",
       "4 -99.113661  19.386001  19.38632392  -99.1116619153            1"
      ]
     },
     "execution_count": 165,
     "metadata": {},
     "output_type": "execute_result"
    }
   ],
   "source": [
    "df.head()"
   ]
  },
  {
   "cell_type": "code",
   "execution_count": 166,
   "metadata": {},
   "outputs": [
    {
     "name": "stderr",
     "output_type": "stream",
     "text": [
      "/usr/local/anaconda3/lib/python3.8/site-packages/sklearn/utils/validation.py:68: FutureWarning: Pass classes=[1 2 3], y=0        1\n",
      "1        1\n",
      "2        1\n",
      "3        1\n",
      "4        1\n",
      "        ..\n",
      "29808    3\n",
      "29810    2\n",
      "29813    2\n",
      "29814    3\n",
      "29821    3\n",
      "Name: delito_enco, Length: 13347, dtype: int64 as keyword args. From version 0.25 passing these as positional arguments will result in an error\n",
      "  warnings.warn(\"Pass {} as keyword args. From version 0.25 \"\n"
     ]
    },
    {
     "data": {
      "text/plain": [
       "{1: 1.3514580801944107, 2: 1.010447422212128, 3: 0.7871549893842887}"
      ]
     },
     "execution_count": 166,
     "metadata": {},
     "output_type": "execute_result"
    }
   ],
   "source": [
    "class_weights = class_weight.compute_class_weight('balanced', np.unique(y),y)\n",
    "class_weights_dic = { i+1:class_weights[i] for i in range(len(class_weights))}\n",
    "class_weights_dic\n",
    "    "
   ]
  },
  {
   "cell_type": "code",
   "execution_count": 167,
   "metadata": {},
   "outputs": [],
   "source": [
    "pipe = Pipeline([\n",
    "        ('scale', StandardScaler()),\n",
    "        ('lr', LogisticRegression(max_iter=1000, class_weight=class_weights_dic))\n",
    "    ])"
   ]
  },
  {
   "cell_type": "code",
   "execution_count": 180,
   "metadata": {},
   "outputs": [],
   "source": [
    "pipe_params = {\n",
    "    'lr__C': [0.1, 0.3, 0.5, 1]\n",
    "}\n",
    "grid = GridSearchCV(pipe, pipe_params, scoring = 'recall_micro')"
   ]
  },
  {
   "cell_type": "code",
   "execution_count": 181,
   "metadata": {},
   "outputs": [
    {
     "data": {
      "text/plain": [
       "GridSearchCV(estimator=Pipeline(steps=[('scale', StandardScaler()),\n",
       "                                       ('lr',\n",
       "                                        LogisticRegression(class_weight={1: 1.3514580801944107,\n",
       "                                                                         2: 1.010447422212128,\n",
       "                                                                         3: 0.7871549893842887},\n",
       "                                                           max_iter=1000))]),\n",
       "             param_grid={'lr__C': [0.1, 0.3, 0.5, 1]}, scoring='recall_micro')"
      ]
     },
     "execution_count": 181,
     "metadata": {},
     "output_type": "execute_result"
    }
   ],
   "source": [
    "grid.fit(X_train, y_train)"
   ]
  },
  {
   "cell_type": "code",
   "execution_count": 182,
   "metadata": {},
   "outputs": [
    {
     "data": {
      "text/plain": [
       "0.41228771228771227"
      ]
     },
     "execution_count": 182,
     "metadata": {},
     "output_type": "execute_result"
    }
   ],
   "source": [
    "grid.score(X_train, y_train)"
   ]
  },
  {
   "cell_type": "code",
   "execution_count": 183,
   "metadata": {},
   "outputs": [
    {
     "data": {
      "text/plain": [
       "0.41624213365298174"
      ]
     },
     "execution_count": 183,
     "metadata": {},
     "output_type": "execute_result"
    }
   ],
   "source": [
    "grid.score(X_test, y_test)"
   ]
  },
  {
   "cell_type": "code",
   "execution_count": null,
   "metadata": {},
   "outputs": [],
   "source": []
  },
  {
   "cell_type": "code",
   "execution_count": null,
   "metadata": {},
   "outputs": [],
   "source": []
  }
 ],
 "metadata": {
  "kernelspec": {
   "display_name": "Python 3",
   "language": "python",
   "name": "python3"
  },
  "language_info": {
   "codemirror_mode": {
    "name": "ipython",
    "version": 3
   },
   "file_extension": ".py",
   "mimetype": "text/x-python",
   "name": "python",
   "nbconvert_exporter": "python",
   "pygments_lexer": "ipython3",
   "version": "3.8.3"
  }
 },
 "nbformat": 4,
 "nbformat_minor": 4
}
